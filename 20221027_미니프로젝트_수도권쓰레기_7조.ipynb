{
 "cells": [
  {
   "cell_type": "markdown",
   "metadata": {},
   "source": [
    "# 7조 미니 프로젝트_ 웹 & API 크롤링 데이터 분석"
   ]
  },
  {
   "cell_type": "code",
   "execution_count": 4,
   "metadata": {},
   "outputs": [],
   "source": [
    "import urllib.request   # 사이트 자료 요청 \n",
    "import json               # json 자료 데이터 핸들링 \n",
    "import pandas as pd       # DataFrame 자료형 활용\n",
    "from pandas.io.json import json_normalize     # json 데이터를 pandas DataFrame 으로 변환 "
   ]
  },
  {
   "cell_type": "markdown",
   "metadata": {},
   "source": [
    "## [주제] 수도권 인천 매립지 이슈(2025년 종료) 관련 쓰레기 배출 현황 분석 \n",
    "          \" 우리집의 쓰레기가 수거되지 않는다면??? \"\n",
    "\n",
    "신문기사: https://www.kukinews.com/newsView/kuk202209150155\n",
    "\n",
    "      \"서울 쓰레기 대란이 임박했다. 인천 수도권 매립장은 포화상태에 다다랐고, 마포구 소각장 신설은 주민의 격한 반대에 직면했다. \n",
    "      각 자치구가 폐기물 처리 책임을 회피할 경우 ‘쓰레기 전쟁’이 본격화할 것으로 보인다.\"\n",
    "\n",
    "- 이슈: 2021년 폐기물 관리법 시행규칙 공포\n",
    "\n",
    "       - 수도권 지자체는 2026년부터 생활폐기물을 매립지에 묻는 대신 선별해 재활용 하거나 소각장 처리해야 함\n",
    "\n",
    "- 이슈2: 2025년까지 인천 쓰레기 매립지 종료 = 서울, 경기 쓰레기 반입 불가 \n",
    "\n",
    "       - 인천 제3쓰레기 매립지 (시작: 2018.10 ~)\n",
    "\n",
    "\n",
    "\n",
    "- 매립지로 가는 쓰레기 폐기물 : 생활, 건설, 사업장 (건설 폐기물 매립 조기 종료)\n",
    "\n",
    "> 선정이유\n",
    "\n",
    "- 쓰레기 대란의 문제해결은 공공의 영역이어야 해결할 수 있음 : https://www.hani.co.kr/arti/society/environment/838851.html (민간업체 쓰레기 거부사태)\n",
    "- 갈수록 부각되는 환경이슈 \n",
    "- 서울과 경기도내 거주하는 모든 사람들에게 당면한 문제 - '곧 옵니다'\n",
    "\n",
    "## [팀원소개]\n",
    "\n",
    "- 김가람 : 사업장폐기물 데이터 수집 및 전처리, 데이터 분석\n",
    "- 이승민 : 생활폐기물 데이터 수집 및 전처리, 데이터 분석 \n",
    "- 정원조 : 건설폐기물 데이터 수집 및 전처리, 데이터 분석\n",
    "\n",
    "\n",
    "## [목적]\n",
    "\n",
    "- 데이터 분석을 통해 '수도권 쓰레기 대란' 문제의 실제적 접근 및 공론화"
   ]
  },
  {
   "cell_type": "markdown",
   "metadata": {},
   "source": [
    "### -자료 수집-\n",
    "#### 자원순환정보시스템 - 통계 open API - 폐기물 통계 정보 서비스 \n",
    "\n",
    "- https://www.recycling-info.or.kr/sds/ntnProcessIndex.do?menuNo=M130309\n",
    "\n",
    "#### 수도권매립지 관리공사 - 매립지 정보\n",
    "\n",
    "- https://www.slc.or.kr/slc/mb/sl/landfillStat.do?tabNo=0&#/eyJwYWdlIjoxLCJ3ZWJQYWdlTm8iOiIyMDQiLCJ0YWJObyI6MH0=\n",
    "\n",
    "- 기준연도: 2018년, 2019년, 2020년"
   ]
  },
  {
   "cell_type": "markdown",
   "metadata": {},
   "source": [
    "api 코드 정보 = PID: NTN007 생활쓰레기 데이터 "
   ]
  },
  {
   "cell_type": "markdown",
   "metadata": {},
   "source": [
    "#### 1. 데이터 수집"
   ]
  },
  {
   "cell_type": "code",
   "execution_count": 429,
   "metadata": {},
   "outputs": [
    {
     "data": {
      "text/plain": [
       "'http://www.recycling-info.or.kr/sds/JsonApi.do?PID=NTN007&YEAR=2018&USRID=gnjnme0&KEY=IPRI8CHMR3GLD9C80L7LO7WRI80SZSB6Y2ERNPYDP2FW8'"
      ]
     },
     "execution_count": 429,
     "metadata": {},
     "output_type": "execute_result"
    }
   ],
   "source": [
    "# # 폐기물 배출량 집계\n",
    "# pid = 'NTN007' \n",
    "# year = '2018'\n",
    "# usrid = 'gnjnme0'\n",
    "# key = \"IPRI8CHMR3GLD9C80L7LO7WRI80SZSB6Y2ERNPYDP2FW8\"   # 내가 발급 받은 키\n",
    "        \n",
    "\n",
    "# url = \"http://www.recycling-info.or.kr/sds/JsonApi.do?PID=%s&YEAR=%s&USRID=%s&KEY=%s\" % (pid, year, usrid, key)\n",
    "\n",
    "# url"
   ]
  },
  {
   "cell_type": "code",
   "execution_count": 5,
   "metadata": {},
   "outputs": [
    {
     "data": {
      "text/plain": [
       "'http://www.recycling-info.or.kr/sds/JsonApi.do?PID=NTN001&YEAR=2020&USRID=gnjnme0&KEY=IPRI8CHMR3GLD9C80L7LO7WRI80SZSB6Y2ERNPYDP2FW8'"
      ]
     },
     "execution_count": 5,
     "metadata": {},
     "output_type": "execute_result"
    }
   ],
   "source": [
    "# 도시별 인구수 집계\n",
    "pid = 'NTN001' \n",
    "year = '2020'\n",
    "usrid = 'gnjnme0'\n",
    "key = \"IPRI8CHMR3GLD9C80L7LO7WRI80SZSB6Y2ERNPYDP2FW8\"   # 내가 발급 받은 키\n",
    "        \n",
    "\n",
    "url = \"http://www.recycling-info.or.kr/sds/JsonApi.do?PID=%s&YEAR=%s&USRID=%s&KEY=%s\" % (pid, year, usrid, key)\n",
    "\n",
    "url"
   ]
  },
  {
   "cell_type": "code",
   "execution_count": 197,
   "metadata": {},
   "outputs": [
    {
     "name": "stdout",
     "output_type": "stream",
     "text": [
      "http://www.recycling-info.or.kr/sds/JsonApi.do?PID=NTN004&YEAR=2019&USRID=gnjnme0&KEY=IPRI8CHMR3GLD9C80L7LO7WRI80SZSB6Y2ERNPYDP2FW8\n",
      "http://www.recycling-info.or.kr/sds/JsonApi.do?PID=NTN004&YEAR=2020&USRID=gnjnme0&KEY=IPRI8CHMR3GLD9C80L7LO7WRI80SZSB6Y2ERNPYDP2FW8\n"
     ]
    }
   ],
   "source": [
    "# # url 변하는 내용을 자동 반복해서 넣어주기 \n",
    "\n",
    "# url_1 = 'http://www.recycling-info.or.kr/sds/JsonApi.do?PID=NTN004&YEAR='\n",
    "# url_2 = '&USRID=gnjnme0&KEY=IPRI8CHMR3GLD9C80L7LO7WRI80SZSB6Y2ERNPYDP2FW8'\n",
    "# # url_1 + url_2 \n",
    "# url_year = ['2019','2020']\n",
    "# for i in url_year:\n",
    "#     url_sum = url_1+str(i)+url_2\n",
    "#     print(url_sum) "
   ]
  },
  {
   "cell_type": "markdown",
   "metadata": {},
   "source": [
    "#### 2. 데이터 내부로 들어가기"
   ]
  },
  {
   "cell_type": "code",
   "execution_count": 6,
   "metadata": {},
   "outputs": [],
   "source": [
    "# 위에 선언해둔 url 을 이용해 api 데이터 파이썬 내부로 가져오기 \n",
    "# result = urllib.request.urlopen(url)\n",
    "result = urllib.request.urlopen(url)"
   ]
  },
  {
   "cell_type": "code",
   "execution_count": 7,
   "metadata": {},
   "outputs": [],
   "source": [
    "# 요청 페이지의 결과 데이터를 파이썬 변수에 저장 \n",
    "json_data_raw = result.read() "
   ]
  },
  {
   "cell_type": "code",
   "execution_count": 8,
   "metadata": {},
   "outputs": [
    {
     "data": {
      "text/plain": [
       "b'{\"data\":[{\"CITY_JIDT_CD_NM\":\"\\xec\\xa0\\x84\\xea\\xb5\\xad\",\"TOT_AREA\":100458.33,\"TOT_POP\":52942262,\"TOT_DONG\":3501,\"TOT_HSHLD\":23093108,\"LIFEWT_MNG_AREA\":99905.51,\"LIFEWT_MNG_POP\":52920946,\"LIFEWT_MNG_DONG\":3499,\"LIFEWT_MNG_HSHLD\":23081100,\"LIFEWT_MNGEXCPT_AREA\":552.82,\"LIFEWT_MNGEXCPT_POP\":21316,\"LIFEWT_MNGEXCPT_DONG\":2,\"LIFEWT_MNGEXCPT_HSHLD\":12008,\"MNGEXCPT_AREA_RATIO\":0.6,\"MNGEXCPT_POP_RATIO\":0,\"MNGEXCPT_DONG_RATIO\":0.1,\"MNGEXCPT_HSHLD_RATIO\":0.1},{\"CITY_JIDT_CD_NM\":\"\\xec\\x84\\x9c\\xec\\x9a\\xb8\",\"TOT_AREA\":605.24,\"TOT_POP\":9911088,\"TOT_DONG\":425,\"TOT_HSHLD\":4417954,\"LIFEWT_MNG_AREA\":605.24,\"LIFEWT_MNG_POP\":9911088,\"LIFEWT_MNG_DONG\":425,\"LIFEWT_MNG_HSHLD\":4417954,\"LIFEWT_MNGEXCPT_AREA\":0,\"LIFEWT_MNGEXCPT_POP\":0,\"LIFEWT_MNGEXCPT_DONG\":0,\"LIFEWT_MNGEXCPT_HSHLD\":0,\"MNGEXCPT_AREA_RATIO\":0,\"MNGEXCPT_POP_RATIO\":0,\"MNGEXCPT_DONG_RATIO\":0,\"MNGEXCPT_HSHLD_RATIO\":0},{\"CITY_JIDT_CD_NM\":\"\\xeb\\xb6\\x80\\xec\\x82\\xb0\",\"TOT_AREA\":770.08,\"TOT_POP\":3432312,\"TOT_DONG\":205,\"TOT_HSHLD\":1530431,\"LIFEWT_MNG_AREA\":770.08,\"LIFEWT_MNG_POP\":3432312,\"LIFEWT_MNG_DONG\":205,\"LIFEWT_MNG_HSHLD\":1530431,\"LIFEWT_MNGEXCPT_AREA\":0,\"LIFEWT_MNGEXCPT_POP\":0,\"LIFEWT_MNGEXCPT_DONG\":0,\"LIFEWT_MNGEXCPT_HSHLD\":0,\"MNGEXCPT_AREA_RATIO\":0,\"MNGEXCPT_POP_RATIO\":0,\"MNGEXCPT_DONG_RATIO\":0,\"MNGEXCPT_HSHLD_RATIO\":0},{\"CITY_JIDT_CD_NM\":\"\\xeb\\x8c\\x80\\xea\\xb5\\xac\",\"TOT_AREA\":883.5,\"TOT_POP\":2446144,\"TOT_DONG\":141,\"TOT_HSHLD\":1056627,\"LIFEWT_MNG_AREA\":883.5,\"LIFEWT_MNG_POP\":2446144,\"LIFEWT_MNG_DONG\":141,\"LIFEWT_MNG_HSHLD\":1056627,\"LIFEWT_MNGEXCPT_AREA\":0,\"LIFEWT_MNGEXCPT_POP\":0,\"LIFEWT_MNGEXCPT_DONG\":0,\"LIFEWT_MNGEXCPT_HSHLD\":0,\"MNGEXCPT_AREA_RATIO\":0,\"MNGEXCPT_POP_RATIO\":0,\"MNGEXCPT_DONG_RATIO\":0,\"MNGEXCPT_HSHLD_RATIO\":0},{\"CITY_JIDT_CD_NM\":\"\\xec\\x9d\\xb8\\xec\\xb2\\x9c\",\"TOT_AREA\":1063.99,\"TOT_POP\":3010476,\"TOT_DONG\":155,\"TOT_HSHLD\":1267956,\"LIFEWT_MNG_AREA\":1046.71,\"LIFEWT_MNG_POP\":3009561,\"LIFEWT_MNG_DONG\":155,\"LIFEWT_MNG_HSHLD\":1267402,\"LIFEWT_MNGEXCPT_AREA\":17.28,\"LIFEWT_MNGEXCPT_POP\":915,\"LIFEWT_MNGEXCPT_DONG\":0,\"LIFEWT_MNGEXCPT_HSHLD\":554,\"MNGEXCPT_AREA_RATIO\":1.6,\"MNGEXCPT_POP_RATIO\":0,\"MNGEXCPT_DONG_RATIO\":0,\"MNGEXCPT_HSHLD_RATIO\":0},{\"CITY_JIDT_CD_NM\":\"\\xea\\xb4\\x91\\xec\\xa3\\xbc\",\"TOT_AREA\":501.12,\"TOT_POP\":1471385,\"TOT_DONG\":96,\"TOT_HSHLD\":633582,\"LIFEWT_MNG_AREA\":501.12,\"LIFEWT_MNG_POP\":1471385,\"LIFEWT_MNG_DONG\":96,\"LIFEWT_MNG_HSHLD\":633582,\"LIFEWT_MNGEXCPT_AREA\":0,\"LIFEWT_MNGEXCPT_POP\":0,\"LIFEWT_MNGEXCPT_DONG\":0,\"LIFEWT_MNGEXCPT_HSHLD\":0,\"MNGEXCPT_AREA_RATIO\":0,\"MNGEXCPT_POP_RATIO\":0,\"MNGEXCPT_DONG_RATIO\":0,\"MNGEXCPT_HSHLD_RATIO\":0},{\"CITY_JIDT_CD_NM\":\"\\xeb\\x8c\\x80\\xec\\xa0\\x84\",\"TOT_AREA\":539.66,\"TOT_POP\":1480777,\"TOT_DONG\":79,\"TOT_HSHLD\":652783,\"LIFEWT_MNG_AREA\":539.66,\"LIFEWT_MNG_POP\":1480777,\"LIFEWT_MNG_DONG\":79,\"LIFEWT_MNG_HSHLD\":652783,\"LIFEWT_MNGEXCPT_AREA\":0,\"LIFEWT_MNGEXCPT_POP\":0,\"LIFEWT_MNGEXCPT_DONG\":0,\"LIFEWT_MNGEXCPT_HSHLD\":0,\"MNGEXCPT_AREA_RATIO\":0,\"MNGEXCPT_POP_RATIO\":0,\"MNGEXCPT_DONG_RATIO\":0,\"MNGEXCPT_HSHLD_RATIO\":0},{\"CITY_JIDT_CD_NM\":\"\\xec\\x9a\\xb8\\xec\\x82\\xb0\",\"TOT_AREA\":1062.08,\"TOT_POP\":1153901,\"TOT_DONG\":56,\"TOT_HSHLD\":476893,\"LIFEWT_MNG_AREA\":1062.08,\"LIFEWT_MNG_POP\":1153901,\"LIFEWT_MNG_DONG\":56,\"LIFEWT_MNG_HSHLD\":476893,\"LIFEWT_MNGEXCPT_AREA\":0,\"LIFEWT_MNGEXCPT_POP\":0,\"LIFEWT_MNGEXCPT_DONG\":0,\"LIFEWT_MNGEXCPT_HSHLD\":0,\"MNGEXCPT_AREA_RATIO\":0,\"MNGEXCPT_POP_RATIO\":0,\"MNGEXCPT_DONG_RATIO\":0,\"MNGEXCPT_HSHLD_RATIO\":0},{\"CITY_JIDT_CD_NM\":\"\\xec\\x84\\xb8\\xec\\xa2\\x85\",\"TOT_AREA\":464.91,\"TOT_POP\":360907,\"TOT_DONG\":20,\"TOT_HSHLD\":144275,\"LIFEWT_MNG_AREA\":464.91,\"LIFEWT_MNG_POP\":360907,\"LIFEWT_MNG_DONG\":20,\"LIFEWT_MNG_HSHLD\":144275,\"LIFEWT_MNGEXCPT_AREA\":0,\"LIFEWT_MNGEXCPT_POP\":0,\"LIFEWT_MNGEXCPT_DONG\":0,\"LIFEWT_MNGEXCPT_HSHLD\":0,\"MNGEXCPT_AREA_RATIO\":0,\"MNGEXCPT_POP_RATIO\":0,\"MNGEXCPT_DONG_RATIO\":0,\"MNGEXCPT_HSHLD_RATIO\":0},{\"CITY_JIDT_CD_NM\":\"\\xea\\xb2\\xbd\\xea\\xb8\\xb0\",\"TOT_AREA\":10195.27,\"TOT_POP\":13774748,\"TOT_DONG\":551,\"TOT_HSHLD\":5676401,\"LIFEWT_MNG_AREA\":10195.27,\"LIFEWT_MNG_POP\":13774748,\"LIFEWT_MNG_DONG\":551,\"LIFEWT_MNG_HSHLD\":5676401,\"LIFEWT_MNGEXCPT_AREA\":0,\"LIFEWT_MNGEXCPT_POP\":0,\"LIFEWT_MNGEXCPT_DONG\":0,\"LIFEWT_MNGEXCPT_HSHLD\":0,\"MNGEXCPT_AREA_RATIO\":0,\"MNGEXCPT_POP_RATIO\":0,\"MNGEXCPT_DONG_RATIO\":0,\"MNGEXCPT_HSHLD_RATIO\":0},{\"CITY_JIDT_CD_NM\":\"\\xea\\xb0\\x95\\xec\\x9b\\x90\",\"TOT_AREA\":16876.64,\"TOT_POP\":1560172,\"TOT_DONG\":193,\"TOT_HSHLD\":736301,\"LIFEWT_MNG_AREA\":16643.31,\"LIFEWT_MNG_POP\":1557978,\"LIFEWT_MNG_DONG\":193,\"LIFEWT_MNG_HSHLD\":735594,\"LIFEWT_MNGEXCPT_AREA\":233.33,\"LIFEWT_MNGEXCPT_POP\":2194,\"LIFEWT_MNGEXCPT_DONG\":0,\"LIFEWT_MNGEXCPT_HSHLD\":707,\"MNGEXCPT_AREA_RATIO\":1.4,\"MNGEXCPT_POP_RATIO\":0.1,\"MNGEXCPT_DONG_RATIO\":0,\"MNGEXCPT_HSHLD_RATIO\":0.1},{\"CITY_JIDT_CD_NM\":\"\\xec\\xb6\\xa9\\xeb\\xb6\\x81\",\"TOT_AREA\":7406.95,\"TOT_POP\":1637897,\"TOT_DONG\":153,\"TOT_HSHLD\":745644,\"LIFEWT_MNG_AREA\":7391.15,\"LIFEWT_MNG_POP\":1637877,\"LIFEWT_MNG_DONG\":153,\"LIFEWT_MNG_HSHLD\":745633,\"LIFEWT_MNGEXCPT_AREA\":15.8,\"LIFEWT_MNGEXCPT_POP\":20,\"LIFEWT_MNGEXCPT_DONG\":0,\"LIFEWT_MNGEXCPT_HSHLD\":11,\"MNGEXCPT_AREA_RATIO\":0.2,\"MNGEXCPT_POP_RATIO\":0,\"MNGEXCPT_DONG_RATIO\":0,\"MNGEXCPT_HSHLD_RATIO\":0},{\"CITY_JIDT_CD_NM\":\"\\xec\\xb6\\xa9\\xeb\\x82\\xa8\",\"TOT_AREA\":8246.17,\"TOT_POP\":2185575,\"TOT_DONG\":207,\"TOT_HSHLD\":983153,\"LIFEWT_MNG_AREA\":8220.87,\"LIFEWT_MNG_POP\":2182333,\"LIFEWT_MNG_DONG\":207,\"LIFEWT_MNG_HSHLD\":981437,\"LIFEWT_MNGEXCPT_AREA\":25.3,\"LIFEWT_MNGEXCPT_POP\":3242,\"LIFEWT_MNGEXCPT_DONG\":0,\"LIFEWT_MNGEXCPT_HSHLD\":1716,\"MNGEXCPT_AREA_RATIO\":0.3,\"MNGEXCPT_POP_RATIO\":0.1,\"MNGEXCPT_DONG_RATIO\":0,\"MNGEXCPT_HSHLD_RATIO\":0.2},{\"CITY_JIDT_CD_NM\":\"\\xec\\xa0\\x84\\xeb\\xb6\\x81\",\"TOT_AREA\":8069.84,\"TOT_POP\":1835392,\"TOT_DONG\":243,\"TOT_HSHLD\":836660,\"LIFEWT_MNG_AREA\":8054.79,\"LIFEWT_MNG_POP\":1833233,\"LIFEWT_MNG_DONG\":242,\"LIFEWT_MNG_HSHLD\":835648,\"LIFEWT_MNGEXCPT_AREA\":15.05,\"LIFEWT_MNGEXCPT_POP\":2159,\"LIFEWT_MNGEXCPT_DONG\":1,\"LIFEWT_MNGEXCPT_HSHLD\":1012,\"MNGEXCPT_AREA_RATIO\":0.2,\"MNGEXCPT_POP_RATIO\":0.1,\"MNGEXCPT_DONG_RATIO\":0.4,\"MNGEXCPT_HSHLD_RATIO\":0.1},{\"CITY_JIDT_CD_NM\":\"\\xec\\xa0\\x84\\xeb\\x82\\xa8\",\"TOT_AREA\":12348.09,\"TOT_POP\":1884455,\"TOT_DONG\":297,\"TOT_HSHLD\":893152,\"LIFEWT_MNG_AREA\":12160.21,\"LIFEWT_MNG_POP\":1874863,\"LIFEWT_MNG_DONG\":296,\"LIFEWT_MNG_HSHLD\":887063,\"LIFEWT_MNGEXCPT_AREA\":187.88,\"LIFEWT_MNGEXCPT_POP\":9592,\"LIFEWT_MNGEXCPT_DONG\":1,\"LIFEWT_MNGEXCPT_HSHLD\":6089,\"MNGEXCPT_AREA_RATIO\":1.5,\"MNGEXCPT_POP_RATIO\":0.5,\"MNGEXCPT_DONG_RATIO\":0.3,\"MNGEXCPT_HSHLD_RATIO\":0.7},{\"CITY_JIDT_CD_NM\":\"\\xea\\xb2\\xbd\\xeb\\xb6\\x81\",\"TOT_AREA\":19034.03,\"TOT_POP\":2692000,\"TOT_DONG\":332,\"TOT_HSHLD\":1254662,\"LIFEWT_MNG_AREA\":19031.73,\"LIFEWT_MNG_POP\":2691891,\"LIFEWT_MNG_DONG\":332,\"LIFEWT_MNG_HSHLD\":1254561,\"LIFEWT_MNGEXCPT_AREA\":2.3,\"LIFEWT_MNGEXCPT_POP\":109,\"LIFEWT_MNGEXCPT_DONG\":0,\"LIFEWT_MNGEXCPT_HSHLD\":101,\"MNGEXCPT_AREA_RATIO\":0,\"MNGEXCPT_POP_RATIO\":0,\"MNGEXCPT_DONG_RATIO\":0,\"MNGEXCPT_HSHLD_RATIO\":0},{\"CITY_JIDT_CD_NM\":\"\\xea\\xb2\\xbd\\xeb\\x82\\xa8\",\"TOT_AREA\":10540.55,\"TOT_POP\":3407455,\"TOT_DONG\":305,\"TOT_HSHLD\":1484601,\"LIFEWT_MNG_AREA\":10484.67,\"LIFEWT_MNG_POP\":3404370,\"LIFEWT_MNG_DONG\":305,\"LIFEWT_MNG_HSHLD\":1482783,\"LIFEWT_MNGEXCPT_AREA\":55.88,\"LIFEWT_MNGEXCPT_POP\":3085,\"LIFEWT_MNGEXCPT_DONG\":0,\"LIFEWT_MNGEXCPT_HSHLD\":1818,\"MNGEXCPT_AREA_RATIO\":0.5,\"MNGEXCPT_POP_RATIO\":0.1,\"MNGEXCPT_DONG_RATIO\":0,\"MNGEXCPT_HSHLD_RATIO\":0.1},{\"CITY_JIDT_CD_NM\":\"\\xec\\xa0\\x9c\\xec\\xa3\\xbc\",\"TOT_AREA\":1850.21,\"TOT_POP\":697578,\"TOT_DONG\":43,\"TOT_HSHLD\":302033,\"LIFEWT_MNG_AREA\":1850.21,\"LIFEWT_MNG_POP\":697578,\"LIFEWT_MNG_DONG\":43,\"LIFEWT_MNG_HSHLD\":302033,\"LIFEWT_MNGEXCPT_AREA\":0,\"LIFEWT_MNGEXCPT_POP\":0,\"LIFEWT_MNGEXCPT_DONG\":0,\"LIFEWT_MNGEXCPT_HSHLD\":0,\"MNGEXCPT_AREA_RATIO\":0,\"MNGEXCPT_POP_RATIO\":0,\"MNGEXCPT_DONG_RATIO\":0,\"MNGEXCPT_HSHLD_RATIO\":0}],\"dataHeader\":[{\"CITY_JIDT_CD_NM\":\"\\xec\\x8b\\x9c\\xeb\\x8f\\x84\",\"TOT_AREA\":\"\\xec\\xa0\\x84\\xec\\xb2\\xb4\\xed\\x96\\x89\\xec\\xa0\\x95\\xea\\xb5\\xac\\xec\\x97\\xad_\\xeb\\xa9\\xb4\\xec\\xa0\\x81(\\xe3\\x8e\\xa2)\",\"TOT_POP\":\"\\xec\\xa0\\x84\\xec\\xb2\\xb4\\xed\\x96\\x89\\xec\\xa0\\x95\\xea\\xb5\\xac\\xec\\x97\\xad_\\xec\\x9d\\xb8\\xea\\xb5\\xac(\\xeb\\xaa\\x85)\",\"TOT_DONG\":\"\\xec\\xa0\\x84\\xec\\xb2\\xb4\\xed\\x96\\x89\\xec\\xa0\\x95\\xea\\xb5\\xac\\xec\\x97\\xad_\\xeb\\x8f\\x99(\\xec\\x9d\\x8d\\xc2\\xb7\\xeb\\xa9\\xb4)\\xec\\x88\\x98(\\xea\\xb0\\x9c\\xec\\x86\\x8c)\",\"TOT_HSHLD\":\"\\xec\\xa0\\x84\\xec\\xb2\\xb4\\xed\\x96\\x89\\xec\\xa0\\x95\\xea\\xb5\\xac\\xec\\x97\\xad_\\xec\\x84\\xb8\\xeb\\x8c\\x80\\xec\\x88\\x98(\\xea\\xb0\\x80\\xea\\xb5\\xac)\",\"LIFEWT_MNG_AREA\":\"\\xec\\x83\\x9d\\xed\\x99\\x9c\\xed\\x8f\\x90\\xea\\xb8\\xb0\\xeb\\xac\\xbc \\xea\\xb4\\x80\\xeb\\xa6\\xac\\xea\\xb5\\xac\\xec\\x97\\xad_\\xeb\\xa9\\xb4\\xec\\xa0\\x81(\\xe3\\x8e\\xa2)\",\"LIFEWT_MNG_POP\":\"\\xec\\x83\\x9d\\xed\\x99\\x9c\\xed\\x8f\\x90\\xea\\xb8\\xb0\\xeb\\xac\\xbc \\xea\\xb4\\x80\\xeb\\xa6\\xac\\xea\\xb5\\xac\\xec\\x97\\xad_\\xec\\x9d\\xb8\\xea\\xb5\\xac(\\xeb\\xaa\\x85)\",\"LIFEWT_MNG_DONG\":\"\\xec\\x83\\x9d\\xed\\x99\\x9c\\xed\\x8f\\x90\\xea\\xb8\\xb0\\xeb\\xac\\xbc \\xea\\xb4\\x80\\xeb\\xa6\\xac\\xea\\xb5\\xac\\xec\\x97\\xad_\\xeb\\x8f\\x99(\\xec\\x9d\\x8d\\xc2\\xb7\\xeb\\xa9\\xb4)\\xec\\x88\\x98(\\xea\\xb0\\x9c\\xec\\x86\\x8c)\",\"LIFEWT_MNG_HSHLD\":\"\\xec\\x83\\x9d\\xed\\x99\\x9c\\xed\\x8f\\x90\\xea\\xb8\\xb0\\xeb\\xac\\xbc \\xea\\xb4\\x80\\xeb\\xa6\\xac\\xea\\xb5\\xac\\xec\\x97\\xad_\\xec\\x84\\xb8\\xeb\\x8c\\x80\\xec\\x88\\x98(\\xea\\xb0\\x80\\xea\\xb5\\xac)\",\"LIFEWT_MNGEXCPT_AREA\":\"\\xec\\x83\\x9d\\xed\\x99\\x9c\\xed\\x8f\\x90\\xea\\xb8\\xb0\\xeb\\xac\\xbc \\xea\\xb4\\x80\\xeb\\xa6\\xac\\xec\\xa0\\x9c\\xec\\x99\\xb8\\xec\\xa7\\x80\\xec\\x97\\xad_\\xeb\\xa9\\xb4\\xec\\xa0\\x81(\\xe3\\x8e\\xa2)\",\"LIFEWT_MNGEXCPT_POP\":\"\\xec\\x83\\x9d\\xed\\x99\\x9c\\xed\\x8f\\x90\\xea\\xb8\\xb0\\xeb\\xac\\xbc \\xea\\xb4\\x80\\xeb\\xa6\\xac\\xec\\xa0\\x9c\\xec\\x99\\xb8\\xec\\xa7\\x80\\xec\\x97\\xad_\\xec\\x9d\\xb8\\xea\\xb5\\xac(\\xeb\\xaa\\x85)\",\"LIFEWT_MNGEXCPT_DONG\":\"\\xec\\x83\\x9d\\xed\\x99\\x9c\\xed\\x8f\\x90\\xea\\xb8\\xb0\\xeb\\xac\\xbc \\xea\\xb4\\x80\\xeb\\xa6\\xac\\xec\\xa0\\x9c\\xec\\x99\\xb8\\xec\\xa7\\x80\\xec\\x97\\xad_\\xeb\\x8f\\x99(\\xec\\x9d\\x8d\\xc2\\xb7\\xeb\\xa9\\xb4)\\xec\\x88\\x98(\\xea\\xb0\\x9c\\xec\\x86\\x8c)\",\"LIFEWT_MNGEXCPT_HSHLD\":\"\\xec\\x83\\x9d\\xed\\x99\\x9c\\xed\\x8f\\x90\\xea\\xb8\\xb0\\xeb\\xac\\xbc \\xea\\xb4\\x80\\xeb\\xa6\\xac\\xec\\xa0\\x9c\\xec\\x99\\xb8\\xec\\xa7\\x80\\xec\\x97\\xad_\\xec\\x84\\xb8\\xeb\\x8c\\x80\\xec\\x88\\x98(\\xea\\xb0\\x80\\xea\\xb5\\xac)\",\"MNGEXCPT_AREA_RATIO\":\"\\xea\\xb4\\x80\\xeb\\xa6\\xac\\xec\\xa0\\x9c\\xec\\x99\\xb8\\xec\\xa7\\x80\\xec\\x97\\xad \\xeb\\xb9\\x84\\xec\\x9c\\xa8(%)_\\xeb\\xa9\\xb4\\xec\\xa0\\x81\\xeb\\xb9\\x84\",\"MNGEXCPT_POP_RATIO\":\"\\xea\\xb4\\x80\\xeb\\xa6\\xac\\xec\\xa0\\x9c\\xec\\x99\\xb8\\xec\\xa7\\x80\\xec\\x97\\xad \\xeb\\xb9\\x84\\xec\\x9c\\xa8(%)_\\xec\\x9d\\xb8\\xea\\xb5\\xac\\xeb\\xb9\\x84\",\"MNGEXCPT_DONG_RATIO\":\"\\xea\\xb4\\x80\\xeb\\xa6\\xac\\xec\\xa0\\x9c\\xec\\x99\\xb8\\xec\\xa7\\x80\\xec\\x97\\xad \\xeb\\xb9\\x84\\xec\\x9c\\xa8(%)_\\xeb\\x8f\\x99\\xec\\x88\\x98\\xeb\\xb9\\x84\",\"MNGEXCPT_HSHLD_RATIO\":\"\\xea\\xb4\\x80\\xeb\\xa6\\xac\\xec\\xa0\\x9c\\xec\\x99\\xb8\\xec\\xa7\\x80\\xec\\x97\\xad \\xeb\\xb9\\x84\\xec\\x9c\\xa8(%)_\\xec\\x84\\xb8\\xeb\\x8c\\x80\\xec\\x88\\x98\\xeb\\xb9\\x84\"}],\"result\":[{\"ERR_CODE\":\"E000\",\"RESULT\":\"\\xeb\\x8d\\xb0\\xec\\x9d\\xb4\\xed\\x84\\xb0 \\xec\\xa0\\x84\\xec\\x86\\xa1\\xec\\x9d\\xb4 \\xec\\x99\\x84\\xeb\\xa3\\x8c\\xeb\\x90\\x98\\xec\\x97\\x88\\xec\\x8a\\xb5\\xeb\\x8b\\x88\\xeb\\x8b\\xa4.\",\"callId\":\"API00000000000074029\",\"YEAR\":\"2020\",\"PID\":\"NTN001\",\"API_GBN\":\"NTN\",\"TITLE\":\"1-\\xea\\xb0\\x80. (\\xec\\x8b\\x9c\\xeb\\x8f\\x84) \\xec\\x83\\x9d\\xed\\x99\\x9c\\xed\\x8f\\x90\\xea\\xb8\\xb0\\xeb\\xac\\xbc\\xea\\xb4\\x80\\xeb\\xa6\\xac\\xea\\xb5\\xac\\xec\\x97\\xad\\xed\\x98\\x84\\xed\\x99\\xa9\",\"DUNIT\":null,\"MEMO\":\"2020\\xeb\\x85\\x84\\xec\\x9d\\xb4\\xed\\x9b\\x84\"}],\"searchOption\":[{\"CODE\":\"NTN001\",\"CODE_NM\":\"1-\\xea\\xb0\\x80. (\\xec\\x8b\\x9c\\xeb\\x8f\\x84) \\xec\\x83\\x9d\\xed\\x99\\x9c\\xed\\x8f\\x90\\xea\\xb8\\xb0\\xeb\\xac\\xbc\\xea\\xb4\\x80\\xeb\\xa6\\xac\\xea\\xb5\\xac\\xec\\x97\\xad\\xed\\x98\\x84\\xed\\x99\\xa9\",\"SORT_ORDR\":1}]}'"
      ]
     },
     "execution_count": 8,
     "metadata": {},
     "output_type": "execute_result"
    }
   ],
   "source": [
    "json_data_raw"
   ]
  },
  {
   "cell_type": "code",
   "execution_count": 9,
   "metadata": {},
   "outputs": [
    {
     "data": {
      "text/plain": [
       "bytes"
      ]
     },
     "execution_count": 9,
     "metadata": {},
     "output_type": "execute_result"
    }
   ],
   "source": [
    "type(json_data_raw)"
   ]
  },
  {
   "cell_type": "code",
   "execution_count": 10,
   "metadata": {},
   "outputs": [],
   "source": [
    "json_utf8 = json_data_raw.decode('utf-8') "
   ]
  },
  {
   "cell_type": "code",
   "execution_count": 11,
   "metadata": {},
   "outputs": [
    {
     "data": {
      "text/plain": [
       "'{\"data\":[{\"CITY_JIDT_CD_NM\":\"전국\",\"TOT_AREA\":100458.33,\"TOT_POP\":52942262,\"TOT_DONG\":3501,\"TOT_HSHLD\":23093108,\"LIFEWT_MNG_AREA\":99905.51,\"LIFEWT_MNG_POP\":52920946,\"LIFEWT_MNG_DONG\":3499,\"LIFEWT_MNG_HSHLD\":23081100,\"LIFEWT_MNGEXCPT_AREA\":552.82,\"LIFEWT_MNGEXCPT_POP\":21316,\"LIFEWT_MNGEXCPT_DONG\":2,\"LIFEWT_MNGEXCPT_HSHLD\":12008,\"MNGEXCPT_AREA_RATIO\":0.6,\"MNGEXCPT_POP_RATIO\":0,\"MNGEXCPT_DONG_RATIO\":0.1,\"MNGEXCPT_HSHLD_RATIO\":0.1},{\"CITY_JIDT_CD_NM\":\"서울\",\"TOT_AREA\":605.24,\"TOT_POP\":9911088,\"TOT_DONG\":425,\"TOT_HSHLD\":4417954,\"LIFEWT_MNG_AREA\":605.24,\"LIFEWT_MNG_POP\":9911088,\"LIFEWT_MNG_DONG\":425,\"LIFEWT_MNG_HSHLD\":4417954,\"LIFEWT_MNGEXCPT_AREA\":0,\"LIFEWT_MNGEXCPT_POP\":0,\"LIFEWT_MNGEXCPT_DONG\":0,\"LIFEWT_MNGEXCPT_HSHLD\":0,\"MNGEXCPT_AREA_RATIO\":0,\"MNGEXCPT_POP_RATIO\":0,\"MNGEXCPT_DONG_RATIO\":0,\"MNGEXCPT_HSHLD_RATIO\":0},{\"CITY_JIDT_CD_NM\":\"부산\",\"TOT_AREA\":770.08,\"TOT_POP\":3432312,\"TOT_DONG\":205,\"TOT_HSHLD\":1530431,\"LIFEWT_MNG_AREA\":770.08,\"LIFEWT_MNG_POP\":3432312,\"LIFEWT_MNG_DONG\":205,\"LIFEWT_MNG_HSHLD\":1530431,\"LIFEWT_MNGEXCPT_AREA\":0,\"LIFEWT_MNGEXCPT_POP\":0,\"LIFEWT_MNGEXCPT_DONG\":0,\"LIFEWT_MNGEXCPT_HSHLD\":0,\"MNGEXCPT_AREA_RATIO\":0,\"MNGEXCPT_POP_RATIO\":0,\"MNGEXCPT_DONG_RATIO\":0,\"MNGEXCPT_HSHLD_RATIO\":0},{\"CITY_JIDT_CD_NM\":\"대구\",\"TOT_AREA\":883.5,\"TOT_POP\":2446144,\"TOT_DONG\":141,\"TOT_HSHLD\":1056627,\"LIFEWT_MNG_AREA\":883.5,\"LIFEWT_MNG_POP\":2446144,\"LIFEWT_MNG_DONG\":141,\"LIFEWT_MNG_HSHLD\":1056627,\"LIFEWT_MNGEXCPT_AREA\":0,\"LIFEWT_MNGEXCPT_POP\":0,\"LIFEWT_MNGEXCPT_DONG\":0,\"LIFEWT_MNGEXCPT_HSHLD\":0,\"MNGEXCPT_AREA_RATIO\":0,\"MNGEXCPT_POP_RATIO\":0,\"MNGEXCPT_DONG_RATIO\":0,\"MNGEXCPT_HSHLD_RATIO\":0},{\"CITY_JIDT_CD_NM\":\"인천\",\"TOT_AREA\":1063.99,\"TOT_POP\":3010476,\"TOT_DONG\":155,\"TOT_HSHLD\":1267956,\"LIFEWT_MNG_AREA\":1046.71,\"LIFEWT_MNG_POP\":3009561,\"LIFEWT_MNG_DONG\":155,\"LIFEWT_MNG_HSHLD\":1267402,\"LIFEWT_MNGEXCPT_AREA\":17.28,\"LIFEWT_MNGEXCPT_POP\":915,\"LIFEWT_MNGEXCPT_DONG\":0,\"LIFEWT_MNGEXCPT_HSHLD\":554,\"MNGEXCPT_AREA_RATIO\":1.6,\"MNGEXCPT_POP_RATIO\":0,\"MNGEXCPT_DONG_RATIO\":0,\"MNGEXCPT_HSHLD_RATIO\":0},{\"CITY_JIDT_CD_NM\":\"광주\",\"TOT_AREA\":501.12,\"TOT_POP\":1471385,\"TOT_DONG\":96,\"TOT_HSHLD\":633582,\"LIFEWT_MNG_AREA\":501.12,\"LIFEWT_MNG_POP\":1471385,\"LIFEWT_MNG_DONG\":96,\"LIFEWT_MNG_HSHLD\":633582,\"LIFEWT_MNGEXCPT_AREA\":0,\"LIFEWT_MNGEXCPT_POP\":0,\"LIFEWT_MNGEXCPT_DONG\":0,\"LIFEWT_MNGEXCPT_HSHLD\":0,\"MNGEXCPT_AREA_RATIO\":0,\"MNGEXCPT_POP_RATIO\":0,\"MNGEXCPT_DONG_RATIO\":0,\"MNGEXCPT_HSHLD_RATIO\":0},{\"CITY_JIDT_CD_NM\":\"대전\",\"TOT_AREA\":539.66,\"TOT_POP\":1480777,\"TOT_DONG\":79,\"TOT_HSHLD\":652783,\"LIFEWT_MNG_AREA\":539.66,\"LIFEWT_MNG_POP\":1480777,\"LIFEWT_MNG_DONG\":79,\"LIFEWT_MNG_HSHLD\":652783,\"LIFEWT_MNGEXCPT_AREA\":0,\"LIFEWT_MNGEXCPT_POP\":0,\"LIFEWT_MNGEXCPT_DONG\":0,\"LIFEWT_MNGEXCPT_HSHLD\":0,\"MNGEXCPT_AREA_RATIO\":0,\"MNGEXCPT_POP_RATIO\":0,\"MNGEXCPT_DONG_RATIO\":0,\"MNGEXCPT_HSHLD_RATIO\":0},{\"CITY_JIDT_CD_NM\":\"울산\",\"TOT_AREA\":1062.08,\"TOT_POP\":1153901,\"TOT_DONG\":56,\"TOT_HSHLD\":476893,\"LIFEWT_MNG_AREA\":1062.08,\"LIFEWT_MNG_POP\":1153901,\"LIFEWT_MNG_DONG\":56,\"LIFEWT_MNG_HSHLD\":476893,\"LIFEWT_MNGEXCPT_AREA\":0,\"LIFEWT_MNGEXCPT_POP\":0,\"LIFEWT_MNGEXCPT_DONG\":0,\"LIFEWT_MNGEXCPT_HSHLD\":0,\"MNGEXCPT_AREA_RATIO\":0,\"MNGEXCPT_POP_RATIO\":0,\"MNGEXCPT_DONG_RATIO\":0,\"MNGEXCPT_HSHLD_RATIO\":0},{\"CITY_JIDT_CD_NM\":\"세종\",\"TOT_AREA\":464.91,\"TOT_POP\":360907,\"TOT_DONG\":20,\"TOT_HSHLD\":144275,\"LIFEWT_MNG_AREA\":464.91,\"LIFEWT_MNG_POP\":360907,\"LIFEWT_MNG_DONG\":20,\"LIFEWT_MNG_HSHLD\":144275,\"LIFEWT_MNGEXCPT_AREA\":0,\"LIFEWT_MNGEXCPT_POP\":0,\"LIFEWT_MNGEXCPT_DONG\":0,\"LIFEWT_MNGEXCPT_HSHLD\":0,\"MNGEXCPT_AREA_RATIO\":0,\"MNGEXCPT_POP_RATIO\":0,\"MNGEXCPT_DONG_RATIO\":0,\"MNGEXCPT_HSHLD_RATIO\":0},{\"CITY_JIDT_CD_NM\":\"경기\",\"TOT_AREA\":10195.27,\"TOT_POP\":13774748,\"TOT_DONG\":551,\"TOT_HSHLD\":5676401,\"LIFEWT_MNG_AREA\":10195.27,\"LIFEWT_MNG_POP\":13774748,\"LIFEWT_MNG_DONG\":551,\"LIFEWT_MNG_HSHLD\":5676401,\"LIFEWT_MNGEXCPT_AREA\":0,\"LIFEWT_MNGEXCPT_POP\":0,\"LIFEWT_MNGEXCPT_DONG\":0,\"LIFEWT_MNGEXCPT_HSHLD\":0,\"MNGEXCPT_AREA_RATIO\":0,\"MNGEXCPT_POP_RATIO\":0,\"MNGEXCPT_DONG_RATIO\":0,\"MNGEXCPT_HSHLD_RATIO\":0},{\"CITY_JIDT_CD_NM\":\"강원\",\"TOT_AREA\":16876.64,\"TOT_POP\":1560172,\"TOT_DONG\":193,\"TOT_HSHLD\":736301,\"LIFEWT_MNG_AREA\":16643.31,\"LIFEWT_MNG_POP\":1557978,\"LIFEWT_MNG_DONG\":193,\"LIFEWT_MNG_HSHLD\":735594,\"LIFEWT_MNGEXCPT_AREA\":233.33,\"LIFEWT_MNGEXCPT_POP\":2194,\"LIFEWT_MNGEXCPT_DONG\":0,\"LIFEWT_MNGEXCPT_HSHLD\":707,\"MNGEXCPT_AREA_RATIO\":1.4,\"MNGEXCPT_POP_RATIO\":0.1,\"MNGEXCPT_DONG_RATIO\":0,\"MNGEXCPT_HSHLD_RATIO\":0.1},{\"CITY_JIDT_CD_NM\":\"충북\",\"TOT_AREA\":7406.95,\"TOT_POP\":1637897,\"TOT_DONG\":153,\"TOT_HSHLD\":745644,\"LIFEWT_MNG_AREA\":7391.15,\"LIFEWT_MNG_POP\":1637877,\"LIFEWT_MNG_DONG\":153,\"LIFEWT_MNG_HSHLD\":745633,\"LIFEWT_MNGEXCPT_AREA\":15.8,\"LIFEWT_MNGEXCPT_POP\":20,\"LIFEWT_MNGEXCPT_DONG\":0,\"LIFEWT_MNGEXCPT_HSHLD\":11,\"MNGEXCPT_AREA_RATIO\":0.2,\"MNGEXCPT_POP_RATIO\":0,\"MNGEXCPT_DONG_RATIO\":0,\"MNGEXCPT_HSHLD_RATIO\":0},{\"CITY_JIDT_CD_NM\":\"충남\",\"TOT_AREA\":8246.17,\"TOT_POP\":2185575,\"TOT_DONG\":207,\"TOT_HSHLD\":983153,\"LIFEWT_MNG_AREA\":8220.87,\"LIFEWT_MNG_POP\":2182333,\"LIFEWT_MNG_DONG\":207,\"LIFEWT_MNG_HSHLD\":981437,\"LIFEWT_MNGEXCPT_AREA\":25.3,\"LIFEWT_MNGEXCPT_POP\":3242,\"LIFEWT_MNGEXCPT_DONG\":0,\"LIFEWT_MNGEXCPT_HSHLD\":1716,\"MNGEXCPT_AREA_RATIO\":0.3,\"MNGEXCPT_POP_RATIO\":0.1,\"MNGEXCPT_DONG_RATIO\":0,\"MNGEXCPT_HSHLD_RATIO\":0.2},{\"CITY_JIDT_CD_NM\":\"전북\",\"TOT_AREA\":8069.84,\"TOT_POP\":1835392,\"TOT_DONG\":243,\"TOT_HSHLD\":836660,\"LIFEWT_MNG_AREA\":8054.79,\"LIFEWT_MNG_POP\":1833233,\"LIFEWT_MNG_DONG\":242,\"LIFEWT_MNG_HSHLD\":835648,\"LIFEWT_MNGEXCPT_AREA\":15.05,\"LIFEWT_MNGEXCPT_POP\":2159,\"LIFEWT_MNGEXCPT_DONG\":1,\"LIFEWT_MNGEXCPT_HSHLD\":1012,\"MNGEXCPT_AREA_RATIO\":0.2,\"MNGEXCPT_POP_RATIO\":0.1,\"MNGEXCPT_DONG_RATIO\":0.4,\"MNGEXCPT_HSHLD_RATIO\":0.1},{\"CITY_JIDT_CD_NM\":\"전남\",\"TOT_AREA\":12348.09,\"TOT_POP\":1884455,\"TOT_DONG\":297,\"TOT_HSHLD\":893152,\"LIFEWT_MNG_AREA\":12160.21,\"LIFEWT_MNG_POP\":1874863,\"LIFEWT_MNG_DONG\":296,\"LIFEWT_MNG_HSHLD\":887063,\"LIFEWT_MNGEXCPT_AREA\":187.88,\"LIFEWT_MNGEXCPT_POP\":9592,\"LIFEWT_MNGEXCPT_DONG\":1,\"LIFEWT_MNGEXCPT_HSHLD\":6089,\"MNGEXCPT_AREA_RATIO\":1.5,\"MNGEXCPT_POP_RATIO\":0.5,\"MNGEXCPT_DONG_RATIO\":0.3,\"MNGEXCPT_HSHLD_RATIO\":0.7},{\"CITY_JIDT_CD_NM\":\"경북\",\"TOT_AREA\":19034.03,\"TOT_POP\":2692000,\"TOT_DONG\":332,\"TOT_HSHLD\":1254662,\"LIFEWT_MNG_AREA\":19031.73,\"LIFEWT_MNG_POP\":2691891,\"LIFEWT_MNG_DONG\":332,\"LIFEWT_MNG_HSHLD\":1254561,\"LIFEWT_MNGEXCPT_AREA\":2.3,\"LIFEWT_MNGEXCPT_POP\":109,\"LIFEWT_MNGEXCPT_DONG\":0,\"LIFEWT_MNGEXCPT_HSHLD\":101,\"MNGEXCPT_AREA_RATIO\":0,\"MNGEXCPT_POP_RATIO\":0,\"MNGEXCPT_DONG_RATIO\":0,\"MNGEXCPT_HSHLD_RATIO\":0},{\"CITY_JIDT_CD_NM\":\"경남\",\"TOT_AREA\":10540.55,\"TOT_POP\":3407455,\"TOT_DONG\":305,\"TOT_HSHLD\":1484601,\"LIFEWT_MNG_AREA\":10484.67,\"LIFEWT_MNG_POP\":3404370,\"LIFEWT_MNG_DONG\":305,\"LIFEWT_MNG_HSHLD\":1482783,\"LIFEWT_MNGEXCPT_AREA\":55.88,\"LIFEWT_MNGEXCPT_POP\":3085,\"LIFEWT_MNGEXCPT_DONG\":0,\"LIFEWT_MNGEXCPT_HSHLD\":1818,\"MNGEXCPT_AREA_RATIO\":0.5,\"MNGEXCPT_POP_RATIO\":0.1,\"MNGEXCPT_DONG_RATIO\":0,\"MNGEXCPT_HSHLD_RATIO\":0.1},{\"CITY_JIDT_CD_NM\":\"제주\",\"TOT_AREA\":1850.21,\"TOT_POP\":697578,\"TOT_DONG\":43,\"TOT_HSHLD\":302033,\"LIFEWT_MNG_AREA\":1850.21,\"LIFEWT_MNG_POP\":697578,\"LIFEWT_MNG_DONG\":43,\"LIFEWT_MNG_HSHLD\":302033,\"LIFEWT_MNGEXCPT_AREA\":0,\"LIFEWT_MNGEXCPT_POP\":0,\"LIFEWT_MNGEXCPT_DONG\":0,\"LIFEWT_MNGEXCPT_HSHLD\":0,\"MNGEXCPT_AREA_RATIO\":0,\"MNGEXCPT_POP_RATIO\":0,\"MNGEXCPT_DONG_RATIO\":0,\"MNGEXCPT_HSHLD_RATIO\":0}],\"dataHeader\":[{\"CITY_JIDT_CD_NM\":\"시도\",\"TOT_AREA\":\"전체행정구역_면적(㎢)\",\"TOT_POP\":\"전체행정구역_인구(명)\",\"TOT_DONG\":\"전체행정구역_동(읍·면)수(개소)\",\"TOT_HSHLD\":\"전체행정구역_세대수(가구)\",\"LIFEWT_MNG_AREA\":\"생활폐기물 관리구역_면적(㎢)\",\"LIFEWT_MNG_POP\":\"생활폐기물 관리구역_인구(명)\",\"LIFEWT_MNG_DONG\":\"생활폐기물 관리구역_동(읍·면)수(개소)\",\"LIFEWT_MNG_HSHLD\":\"생활폐기물 관리구역_세대수(가구)\",\"LIFEWT_MNGEXCPT_AREA\":\"생활폐기물 관리제외지역_면적(㎢)\",\"LIFEWT_MNGEXCPT_POP\":\"생활폐기물 관리제외지역_인구(명)\",\"LIFEWT_MNGEXCPT_DONG\":\"생활폐기물 관리제외지역_동(읍·면)수(개소)\",\"LIFEWT_MNGEXCPT_HSHLD\":\"생활폐기물 관리제외지역_세대수(가구)\",\"MNGEXCPT_AREA_RATIO\":\"관리제외지역 비율(%)_면적비\",\"MNGEXCPT_POP_RATIO\":\"관리제외지역 비율(%)_인구비\",\"MNGEXCPT_DONG_RATIO\":\"관리제외지역 비율(%)_동수비\",\"MNGEXCPT_HSHLD_RATIO\":\"관리제외지역 비율(%)_세대수비\"}],\"result\":[{\"ERR_CODE\":\"E000\",\"RESULT\":\"데이터 전송이 완료되었습니다.\",\"callId\":\"API00000000000074029\",\"YEAR\":\"2020\",\"PID\":\"NTN001\",\"API_GBN\":\"NTN\",\"TITLE\":\"1-가. (시도) 생활폐기물관리구역현황\",\"DUNIT\":null,\"MEMO\":\"2020년이후\"}],\"searchOption\":[{\"CODE\":\"NTN001\",\"CODE_NM\":\"1-가. (시도) 생활폐기물관리구역현황\",\"SORT_ORDR\":1}]}'"
      ]
     },
     "execution_count": 11,
     "metadata": {},
     "output_type": "execute_result"
    }
   ],
   "source": [
    "json_utf8"
   ]
  },
  {
   "cell_type": "code",
   "execution_count": 12,
   "metadata": {},
   "outputs": [
    {
     "data": {
      "text/plain": [
       "str"
      ]
     },
     "execution_count": 12,
     "metadata": {},
     "output_type": "execute_result"
    }
   ],
   "source": [
    "type(json_utf8) "
   ]
  },
  {
   "cell_type": "code",
   "execution_count": 13,
   "metadata": {},
   "outputs": [],
   "source": [
    "# str을 dict 로 변환하기 위해 json.loads(자료) 활용 \n",
    "# 딕셔너리 형태의 문자열을 딕셔너리로 변환 \n",
    "json_dic = json.loads(json_utf8)"
   ]
  },
  {
   "cell_type": "code",
   "execution_count": 14,
   "metadata": {},
   "outputs": [],
   "source": [
    "# 실제 원하는 데이터가 있는 'data' 만 추출\n",
    "json_dic_call = json_dic['data']"
   ]
  },
  {
   "cell_type": "code",
   "execution_count": 15,
   "metadata": {},
   "outputs": [
    {
     "data": {
      "text/plain": [
       "[{'CITY_JIDT_CD_NM': '전국',\n",
       "  'TOT_AREA': 100458.33,\n",
       "  'TOT_POP': 52942262,\n",
       "  'TOT_DONG': 3501,\n",
       "  'TOT_HSHLD': 23093108,\n",
       "  'LIFEWT_MNG_AREA': 99905.51,\n",
       "  'LIFEWT_MNG_POP': 52920946,\n",
       "  'LIFEWT_MNG_DONG': 3499,\n",
       "  'LIFEWT_MNG_HSHLD': 23081100,\n",
       "  'LIFEWT_MNGEXCPT_AREA': 552.82,\n",
       "  'LIFEWT_MNGEXCPT_POP': 21316,\n",
       "  'LIFEWT_MNGEXCPT_DONG': 2,\n",
       "  'LIFEWT_MNGEXCPT_HSHLD': 12008,\n",
       "  'MNGEXCPT_AREA_RATIO': 0.6,\n",
       "  'MNGEXCPT_POP_RATIO': 0,\n",
       "  'MNGEXCPT_DONG_RATIO': 0.1,\n",
       "  'MNGEXCPT_HSHLD_RATIO': 0.1},\n",
       " {'CITY_JIDT_CD_NM': '서울',\n",
       "  'TOT_AREA': 605.24,\n",
       "  'TOT_POP': 9911088,\n",
       "  'TOT_DONG': 425,\n",
       "  'TOT_HSHLD': 4417954,\n",
       "  'LIFEWT_MNG_AREA': 605.24,\n",
       "  'LIFEWT_MNG_POP': 9911088,\n",
       "  'LIFEWT_MNG_DONG': 425,\n",
       "  'LIFEWT_MNG_HSHLD': 4417954,\n",
       "  'LIFEWT_MNGEXCPT_AREA': 0,\n",
       "  'LIFEWT_MNGEXCPT_POP': 0,\n",
       "  'LIFEWT_MNGEXCPT_DONG': 0,\n",
       "  'LIFEWT_MNGEXCPT_HSHLD': 0,\n",
       "  'MNGEXCPT_AREA_RATIO': 0,\n",
       "  'MNGEXCPT_POP_RATIO': 0,\n",
       "  'MNGEXCPT_DONG_RATIO': 0,\n",
       "  'MNGEXCPT_HSHLD_RATIO': 0},\n",
       " {'CITY_JIDT_CD_NM': '부산',\n",
       "  'TOT_AREA': 770.08,\n",
       "  'TOT_POP': 3432312,\n",
       "  'TOT_DONG': 205,\n",
       "  'TOT_HSHLD': 1530431,\n",
       "  'LIFEWT_MNG_AREA': 770.08,\n",
       "  'LIFEWT_MNG_POP': 3432312,\n",
       "  'LIFEWT_MNG_DONG': 205,\n",
       "  'LIFEWT_MNG_HSHLD': 1530431,\n",
       "  'LIFEWT_MNGEXCPT_AREA': 0,\n",
       "  'LIFEWT_MNGEXCPT_POP': 0,\n",
       "  'LIFEWT_MNGEXCPT_DONG': 0,\n",
       "  'LIFEWT_MNGEXCPT_HSHLD': 0,\n",
       "  'MNGEXCPT_AREA_RATIO': 0,\n",
       "  'MNGEXCPT_POP_RATIO': 0,\n",
       "  'MNGEXCPT_DONG_RATIO': 0,\n",
       "  'MNGEXCPT_HSHLD_RATIO': 0},\n",
       " {'CITY_JIDT_CD_NM': '대구',\n",
       "  'TOT_AREA': 883.5,\n",
       "  'TOT_POP': 2446144,\n",
       "  'TOT_DONG': 141,\n",
       "  'TOT_HSHLD': 1056627,\n",
       "  'LIFEWT_MNG_AREA': 883.5,\n",
       "  'LIFEWT_MNG_POP': 2446144,\n",
       "  'LIFEWT_MNG_DONG': 141,\n",
       "  'LIFEWT_MNG_HSHLD': 1056627,\n",
       "  'LIFEWT_MNGEXCPT_AREA': 0,\n",
       "  'LIFEWT_MNGEXCPT_POP': 0,\n",
       "  'LIFEWT_MNGEXCPT_DONG': 0,\n",
       "  'LIFEWT_MNGEXCPT_HSHLD': 0,\n",
       "  'MNGEXCPT_AREA_RATIO': 0,\n",
       "  'MNGEXCPT_POP_RATIO': 0,\n",
       "  'MNGEXCPT_DONG_RATIO': 0,\n",
       "  'MNGEXCPT_HSHLD_RATIO': 0},\n",
       " {'CITY_JIDT_CD_NM': '인천',\n",
       "  'TOT_AREA': 1063.99,\n",
       "  'TOT_POP': 3010476,\n",
       "  'TOT_DONG': 155,\n",
       "  'TOT_HSHLD': 1267956,\n",
       "  'LIFEWT_MNG_AREA': 1046.71,\n",
       "  'LIFEWT_MNG_POP': 3009561,\n",
       "  'LIFEWT_MNG_DONG': 155,\n",
       "  'LIFEWT_MNG_HSHLD': 1267402,\n",
       "  'LIFEWT_MNGEXCPT_AREA': 17.28,\n",
       "  'LIFEWT_MNGEXCPT_POP': 915,\n",
       "  'LIFEWT_MNGEXCPT_DONG': 0,\n",
       "  'LIFEWT_MNGEXCPT_HSHLD': 554,\n",
       "  'MNGEXCPT_AREA_RATIO': 1.6,\n",
       "  'MNGEXCPT_POP_RATIO': 0,\n",
       "  'MNGEXCPT_DONG_RATIO': 0,\n",
       "  'MNGEXCPT_HSHLD_RATIO': 0},\n",
       " {'CITY_JIDT_CD_NM': '광주',\n",
       "  'TOT_AREA': 501.12,\n",
       "  'TOT_POP': 1471385,\n",
       "  'TOT_DONG': 96,\n",
       "  'TOT_HSHLD': 633582,\n",
       "  'LIFEWT_MNG_AREA': 501.12,\n",
       "  'LIFEWT_MNG_POP': 1471385,\n",
       "  'LIFEWT_MNG_DONG': 96,\n",
       "  'LIFEWT_MNG_HSHLD': 633582,\n",
       "  'LIFEWT_MNGEXCPT_AREA': 0,\n",
       "  'LIFEWT_MNGEXCPT_POP': 0,\n",
       "  'LIFEWT_MNGEXCPT_DONG': 0,\n",
       "  'LIFEWT_MNGEXCPT_HSHLD': 0,\n",
       "  'MNGEXCPT_AREA_RATIO': 0,\n",
       "  'MNGEXCPT_POP_RATIO': 0,\n",
       "  'MNGEXCPT_DONG_RATIO': 0,\n",
       "  'MNGEXCPT_HSHLD_RATIO': 0},\n",
       " {'CITY_JIDT_CD_NM': '대전',\n",
       "  'TOT_AREA': 539.66,\n",
       "  'TOT_POP': 1480777,\n",
       "  'TOT_DONG': 79,\n",
       "  'TOT_HSHLD': 652783,\n",
       "  'LIFEWT_MNG_AREA': 539.66,\n",
       "  'LIFEWT_MNG_POP': 1480777,\n",
       "  'LIFEWT_MNG_DONG': 79,\n",
       "  'LIFEWT_MNG_HSHLD': 652783,\n",
       "  'LIFEWT_MNGEXCPT_AREA': 0,\n",
       "  'LIFEWT_MNGEXCPT_POP': 0,\n",
       "  'LIFEWT_MNGEXCPT_DONG': 0,\n",
       "  'LIFEWT_MNGEXCPT_HSHLD': 0,\n",
       "  'MNGEXCPT_AREA_RATIO': 0,\n",
       "  'MNGEXCPT_POP_RATIO': 0,\n",
       "  'MNGEXCPT_DONG_RATIO': 0,\n",
       "  'MNGEXCPT_HSHLD_RATIO': 0},\n",
       " {'CITY_JIDT_CD_NM': '울산',\n",
       "  'TOT_AREA': 1062.08,\n",
       "  'TOT_POP': 1153901,\n",
       "  'TOT_DONG': 56,\n",
       "  'TOT_HSHLD': 476893,\n",
       "  'LIFEWT_MNG_AREA': 1062.08,\n",
       "  'LIFEWT_MNG_POP': 1153901,\n",
       "  'LIFEWT_MNG_DONG': 56,\n",
       "  'LIFEWT_MNG_HSHLD': 476893,\n",
       "  'LIFEWT_MNGEXCPT_AREA': 0,\n",
       "  'LIFEWT_MNGEXCPT_POP': 0,\n",
       "  'LIFEWT_MNGEXCPT_DONG': 0,\n",
       "  'LIFEWT_MNGEXCPT_HSHLD': 0,\n",
       "  'MNGEXCPT_AREA_RATIO': 0,\n",
       "  'MNGEXCPT_POP_RATIO': 0,\n",
       "  'MNGEXCPT_DONG_RATIO': 0,\n",
       "  'MNGEXCPT_HSHLD_RATIO': 0},\n",
       " {'CITY_JIDT_CD_NM': '세종',\n",
       "  'TOT_AREA': 464.91,\n",
       "  'TOT_POP': 360907,\n",
       "  'TOT_DONG': 20,\n",
       "  'TOT_HSHLD': 144275,\n",
       "  'LIFEWT_MNG_AREA': 464.91,\n",
       "  'LIFEWT_MNG_POP': 360907,\n",
       "  'LIFEWT_MNG_DONG': 20,\n",
       "  'LIFEWT_MNG_HSHLD': 144275,\n",
       "  'LIFEWT_MNGEXCPT_AREA': 0,\n",
       "  'LIFEWT_MNGEXCPT_POP': 0,\n",
       "  'LIFEWT_MNGEXCPT_DONG': 0,\n",
       "  'LIFEWT_MNGEXCPT_HSHLD': 0,\n",
       "  'MNGEXCPT_AREA_RATIO': 0,\n",
       "  'MNGEXCPT_POP_RATIO': 0,\n",
       "  'MNGEXCPT_DONG_RATIO': 0,\n",
       "  'MNGEXCPT_HSHLD_RATIO': 0},\n",
       " {'CITY_JIDT_CD_NM': '경기',\n",
       "  'TOT_AREA': 10195.27,\n",
       "  'TOT_POP': 13774748,\n",
       "  'TOT_DONG': 551,\n",
       "  'TOT_HSHLD': 5676401,\n",
       "  'LIFEWT_MNG_AREA': 10195.27,\n",
       "  'LIFEWT_MNG_POP': 13774748,\n",
       "  'LIFEWT_MNG_DONG': 551,\n",
       "  'LIFEWT_MNG_HSHLD': 5676401,\n",
       "  'LIFEWT_MNGEXCPT_AREA': 0,\n",
       "  'LIFEWT_MNGEXCPT_POP': 0,\n",
       "  'LIFEWT_MNGEXCPT_DONG': 0,\n",
       "  'LIFEWT_MNGEXCPT_HSHLD': 0,\n",
       "  'MNGEXCPT_AREA_RATIO': 0,\n",
       "  'MNGEXCPT_POP_RATIO': 0,\n",
       "  'MNGEXCPT_DONG_RATIO': 0,\n",
       "  'MNGEXCPT_HSHLD_RATIO': 0},\n",
       " {'CITY_JIDT_CD_NM': '강원',\n",
       "  'TOT_AREA': 16876.64,\n",
       "  'TOT_POP': 1560172,\n",
       "  'TOT_DONG': 193,\n",
       "  'TOT_HSHLD': 736301,\n",
       "  'LIFEWT_MNG_AREA': 16643.31,\n",
       "  'LIFEWT_MNG_POP': 1557978,\n",
       "  'LIFEWT_MNG_DONG': 193,\n",
       "  'LIFEWT_MNG_HSHLD': 735594,\n",
       "  'LIFEWT_MNGEXCPT_AREA': 233.33,\n",
       "  'LIFEWT_MNGEXCPT_POP': 2194,\n",
       "  'LIFEWT_MNGEXCPT_DONG': 0,\n",
       "  'LIFEWT_MNGEXCPT_HSHLD': 707,\n",
       "  'MNGEXCPT_AREA_RATIO': 1.4,\n",
       "  'MNGEXCPT_POP_RATIO': 0.1,\n",
       "  'MNGEXCPT_DONG_RATIO': 0,\n",
       "  'MNGEXCPT_HSHLD_RATIO': 0.1},\n",
       " {'CITY_JIDT_CD_NM': '충북',\n",
       "  'TOT_AREA': 7406.95,\n",
       "  'TOT_POP': 1637897,\n",
       "  'TOT_DONG': 153,\n",
       "  'TOT_HSHLD': 745644,\n",
       "  'LIFEWT_MNG_AREA': 7391.15,\n",
       "  'LIFEWT_MNG_POP': 1637877,\n",
       "  'LIFEWT_MNG_DONG': 153,\n",
       "  'LIFEWT_MNG_HSHLD': 745633,\n",
       "  'LIFEWT_MNGEXCPT_AREA': 15.8,\n",
       "  'LIFEWT_MNGEXCPT_POP': 20,\n",
       "  'LIFEWT_MNGEXCPT_DONG': 0,\n",
       "  'LIFEWT_MNGEXCPT_HSHLD': 11,\n",
       "  'MNGEXCPT_AREA_RATIO': 0.2,\n",
       "  'MNGEXCPT_POP_RATIO': 0,\n",
       "  'MNGEXCPT_DONG_RATIO': 0,\n",
       "  'MNGEXCPT_HSHLD_RATIO': 0},\n",
       " {'CITY_JIDT_CD_NM': '충남',\n",
       "  'TOT_AREA': 8246.17,\n",
       "  'TOT_POP': 2185575,\n",
       "  'TOT_DONG': 207,\n",
       "  'TOT_HSHLD': 983153,\n",
       "  'LIFEWT_MNG_AREA': 8220.87,\n",
       "  'LIFEWT_MNG_POP': 2182333,\n",
       "  'LIFEWT_MNG_DONG': 207,\n",
       "  'LIFEWT_MNG_HSHLD': 981437,\n",
       "  'LIFEWT_MNGEXCPT_AREA': 25.3,\n",
       "  'LIFEWT_MNGEXCPT_POP': 3242,\n",
       "  'LIFEWT_MNGEXCPT_DONG': 0,\n",
       "  'LIFEWT_MNGEXCPT_HSHLD': 1716,\n",
       "  'MNGEXCPT_AREA_RATIO': 0.3,\n",
       "  'MNGEXCPT_POP_RATIO': 0.1,\n",
       "  'MNGEXCPT_DONG_RATIO': 0,\n",
       "  'MNGEXCPT_HSHLD_RATIO': 0.2},\n",
       " {'CITY_JIDT_CD_NM': '전북',\n",
       "  'TOT_AREA': 8069.84,\n",
       "  'TOT_POP': 1835392,\n",
       "  'TOT_DONG': 243,\n",
       "  'TOT_HSHLD': 836660,\n",
       "  'LIFEWT_MNG_AREA': 8054.79,\n",
       "  'LIFEWT_MNG_POP': 1833233,\n",
       "  'LIFEWT_MNG_DONG': 242,\n",
       "  'LIFEWT_MNG_HSHLD': 835648,\n",
       "  'LIFEWT_MNGEXCPT_AREA': 15.05,\n",
       "  'LIFEWT_MNGEXCPT_POP': 2159,\n",
       "  'LIFEWT_MNGEXCPT_DONG': 1,\n",
       "  'LIFEWT_MNGEXCPT_HSHLD': 1012,\n",
       "  'MNGEXCPT_AREA_RATIO': 0.2,\n",
       "  'MNGEXCPT_POP_RATIO': 0.1,\n",
       "  'MNGEXCPT_DONG_RATIO': 0.4,\n",
       "  'MNGEXCPT_HSHLD_RATIO': 0.1},\n",
       " {'CITY_JIDT_CD_NM': '전남',\n",
       "  'TOT_AREA': 12348.09,\n",
       "  'TOT_POP': 1884455,\n",
       "  'TOT_DONG': 297,\n",
       "  'TOT_HSHLD': 893152,\n",
       "  'LIFEWT_MNG_AREA': 12160.21,\n",
       "  'LIFEWT_MNG_POP': 1874863,\n",
       "  'LIFEWT_MNG_DONG': 296,\n",
       "  'LIFEWT_MNG_HSHLD': 887063,\n",
       "  'LIFEWT_MNGEXCPT_AREA': 187.88,\n",
       "  'LIFEWT_MNGEXCPT_POP': 9592,\n",
       "  'LIFEWT_MNGEXCPT_DONG': 1,\n",
       "  'LIFEWT_MNGEXCPT_HSHLD': 6089,\n",
       "  'MNGEXCPT_AREA_RATIO': 1.5,\n",
       "  'MNGEXCPT_POP_RATIO': 0.5,\n",
       "  'MNGEXCPT_DONG_RATIO': 0.3,\n",
       "  'MNGEXCPT_HSHLD_RATIO': 0.7},\n",
       " {'CITY_JIDT_CD_NM': '경북',\n",
       "  'TOT_AREA': 19034.03,\n",
       "  'TOT_POP': 2692000,\n",
       "  'TOT_DONG': 332,\n",
       "  'TOT_HSHLD': 1254662,\n",
       "  'LIFEWT_MNG_AREA': 19031.73,\n",
       "  'LIFEWT_MNG_POP': 2691891,\n",
       "  'LIFEWT_MNG_DONG': 332,\n",
       "  'LIFEWT_MNG_HSHLD': 1254561,\n",
       "  'LIFEWT_MNGEXCPT_AREA': 2.3,\n",
       "  'LIFEWT_MNGEXCPT_POP': 109,\n",
       "  'LIFEWT_MNGEXCPT_DONG': 0,\n",
       "  'LIFEWT_MNGEXCPT_HSHLD': 101,\n",
       "  'MNGEXCPT_AREA_RATIO': 0,\n",
       "  'MNGEXCPT_POP_RATIO': 0,\n",
       "  'MNGEXCPT_DONG_RATIO': 0,\n",
       "  'MNGEXCPT_HSHLD_RATIO': 0},\n",
       " {'CITY_JIDT_CD_NM': '경남',\n",
       "  'TOT_AREA': 10540.55,\n",
       "  'TOT_POP': 3407455,\n",
       "  'TOT_DONG': 305,\n",
       "  'TOT_HSHLD': 1484601,\n",
       "  'LIFEWT_MNG_AREA': 10484.67,\n",
       "  'LIFEWT_MNG_POP': 3404370,\n",
       "  'LIFEWT_MNG_DONG': 305,\n",
       "  'LIFEWT_MNG_HSHLD': 1482783,\n",
       "  'LIFEWT_MNGEXCPT_AREA': 55.88,\n",
       "  'LIFEWT_MNGEXCPT_POP': 3085,\n",
       "  'LIFEWT_MNGEXCPT_DONG': 0,\n",
       "  'LIFEWT_MNGEXCPT_HSHLD': 1818,\n",
       "  'MNGEXCPT_AREA_RATIO': 0.5,\n",
       "  'MNGEXCPT_POP_RATIO': 0.1,\n",
       "  'MNGEXCPT_DONG_RATIO': 0,\n",
       "  'MNGEXCPT_HSHLD_RATIO': 0.1},\n",
       " {'CITY_JIDT_CD_NM': '제주',\n",
       "  'TOT_AREA': 1850.21,\n",
       "  'TOT_POP': 697578,\n",
       "  'TOT_DONG': 43,\n",
       "  'TOT_HSHLD': 302033,\n",
       "  'LIFEWT_MNG_AREA': 1850.21,\n",
       "  'LIFEWT_MNG_POP': 697578,\n",
       "  'LIFEWT_MNG_DONG': 43,\n",
       "  'LIFEWT_MNG_HSHLD': 302033,\n",
       "  'LIFEWT_MNGEXCPT_AREA': 0,\n",
       "  'LIFEWT_MNGEXCPT_POP': 0,\n",
       "  'LIFEWT_MNGEXCPT_DONG': 0,\n",
       "  'LIFEWT_MNGEXCPT_HSHLD': 0,\n",
       "  'MNGEXCPT_AREA_RATIO': 0,\n",
       "  'MNGEXCPT_POP_RATIO': 0,\n",
       "  'MNGEXCPT_DONG_RATIO': 0,\n",
       "  'MNGEXCPT_HSHLD_RATIO': 0}]"
      ]
     },
     "execution_count": 15,
     "metadata": {},
     "output_type": "execute_result"
    }
   ],
   "source": [
    "json_dic_call"
   ]
  },
  {
   "cell_type": "code",
   "execution_count": 16,
   "metadata": {},
   "outputs": [],
   "source": [
    "# 인구 데이터 데이터프레임 만들기 \n",
    "df_p = pd.DataFrame(json_dic_call)"
   ]
  },
  {
   "cell_type": "code",
   "execution_count": 17,
   "metadata": {},
   "outputs": [
    {
     "data": {
      "text/html": [
       "<div>\n",
       "<style scoped>\n",
       "    .dataframe tbody tr th:only-of-type {\n",
       "        vertical-align: middle;\n",
       "    }\n",
       "\n",
       "    .dataframe tbody tr th {\n",
       "        vertical-align: top;\n",
       "    }\n",
       "\n",
       "    .dataframe thead th {\n",
       "        text-align: right;\n",
       "    }\n",
       "</style>\n",
       "<table border=\"1\" class=\"dataframe\">\n",
       "  <thead>\n",
       "    <tr style=\"text-align: right;\">\n",
       "      <th></th>\n",
       "      <th>CITY_JIDT_CD_NM</th>\n",
       "      <th>TOT_AREA</th>\n",
       "      <th>TOT_POP</th>\n",
       "      <th>TOT_DONG</th>\n",
       "      <th>TOT_HSHLD</th>\n",
       "      <th>LIFEWT_MNG_AREA</th>\n",
       "      <th>LIFEWT_MNG_POP</th>\n",
       "      <th>LIFEWT_MNG_DONG</th>\n",
       "      <th>LIFEWT_MNG_HSHLD</th>\n",
       "      <th>LIFEWT_MNGEXCPT_AREA</th>\n",
       "      <th>LIFEWT_MNGEXCPT_POP</th>\n",
       "      <th>LIFEWT_MNGEXCPT_DONG</th>\n",
       "      <th>LIFEWT_MNGEXCPT_HSHLD</th>\n",
       "      <th>MNGEXCPT_AREA_RATIO</th>\n",
       "      <th>MNGEXCPT_POP_RATIO</th>\n",
       "      <th>MNGEXCPT_DONG_RATIO</th>\n",
       "      <th>MNGEXCPT_HSHLD_RATIO</th>\n",
       "    </tr>\n",
       "  </thead>\n",
       "  <tbody>\n",
       "    <tr>\n",
       "      <th>0</th>\n",
       "      <td>전국</td>\n",
       "      <td>100458.33</td>\n",
       "      <td>52942262</td>\n",
       "      <td>3501</td>\n",
       "      <td>23093108</td>\n",
       "      <td>99905.51</td>\n",
       "      <td>52920946</td>\n",
       "      <td>3499</td>\n",
       "      <td>23081100</td>\n",
       "      <td>552.82</td>\n",
       "      <td>21316</td>\n",
       "      <td>2</td>\n",
       "      <td>12008</td>\n",
       "      <td>0.6</td>\n",
       "      <td>0.0</td>\n",
       "      <td>0.1</td>\n",
       "      <td>0.1</td>\n",
       "    </tr>\n",
       "    <tr>\n",
       "      <th>1</th>\n",
       "      <td>서울</td>\n",
       "      <td>605.24</td>\n",
       "      <td>9911088</td>\n",
       "      <td>425</td>\n",
       "      <td>4417954</td>\n",
       "      <td>605.24</td>\n",
       "      <td>9911088</td>\n",
       "      <td>425</td>\n",
       "      <td>4417954</td>\n",
       "      <td>0.00</td>\n",
       "      <td>0</td>\n",
       "      <td>0</td>\n",
       "      <td>0</td>\n",
       "      <td>0.0</td>\n",
       "      <td>0.0</td>\n",
       "      <td>0.0</td>\n",
       "      <td>0.0</td>\n",
       "    </tr>\n",
       "    <tr>\n",
       "      <th>2</th>\n",
       "      <td>부산</td>\n",
       "      <td>770.08</td>\n",
       "      <td>3432312</td>\n",
       "      <td>205</td>\n",
       "      <td>1530431</td>\n",
       "      <td>770.08</td>\n",
       "      <td>3432312</td>\n",
       "      <td>205</td>\n",
       "      <td>1530431</td>\n",
       "      <td>0.00</td>\n",
       "      <td>0</td>\n",
       "      <td>0</td>\n",
       "      <td>0</td>\n",
       "      <td>0.0</td>\n",
       "      <td>0.0</td>\n",
       "      <td>0.0</td>\n",
       "      <td>0.0</td>\n",
       "    </tr>\n",
       "    <tr>\n",
       "      <th>3</th>\n",
       "      <td>대구</td>\n",
       "      <td>883.50</td>\n",
       "      <td>2446144</td>\n",
       "      <td>141</td>\n",
       "      <td>1056627</td>\n",
       "      <td>883.50</td>\n",
       "      <td>2446144</td>\n",
       "      <td>141</td>\n",
       "      <td>1056627</td>\n",
       "      <td>0.00</td>\n",
       "      <td>0</td>\n",
       "      <td>0</td>\n",
       "      <td>0</td>\n",
       "      <td>0.0</td>\n",
       "      <td>0.0</td>\n",
       "      <td>0.0</td>\n",
       "      <td>0.0</td>\n",
       "    </tr>\n",
       "    <tr>\n",
       "      <th>4</th>\n",
       "      <td>인천</td>\n",
       "      <td>1063.99</td>\n",
       "      <td>3010476</td>\n",
       "      <td>155</td>\n",
       "      <td>1267956</td>\n",
       "      <td>1046.71</td>\n",
       "      <td>3009561</td>\n",
       "      <td>155</td>\n",
       "      <td>1267402</td>\n",
       "      <td>17.28</td>\n",
       "      <td>915</td>\n",
       "      <td>0</td>\n",
       "      <td>554</td>\n",
       "      <td>1.6</td>\n",
       "      <td>0.0</td>\n",
       "      <td>0.0</td>\n",
       "      <td>0.0</td>\n",
       "    </tr>\n",
       "    <tr>\n",
       "      <th>5</th>\n",
       "      <td>광주</td>\n",
       "      <td>501.12</td>\n",
       "      <td>1471385</td>\n",
       "      <td>96</td>\n",
       "      <td>633582</td>\n",
       "      <td>501.12</td>\n",
       "      <td>1471385</td>\n",
       "      <td>96</td>\n",
       "      <td>633582</td>\n",
       "      <td>0.00</td>\n",
       "      <td>0</td>\n",
       "      <td>0</td>\n",
       "      <td>0</td>\n",
       "      <td>0.0</td>\n",
       "      <td>0.0</td>\n",
       "      <td>0.0</td>\n",
       "      <td>0.0</td>\n",
       "    </tr>\n",
       "    <tr>\n",
       "      <th>6</th>\n",
       "      <td>대전</td>\n",
       "      <td>539.66</td>\n",
       "      <td>1480777</td>\n",
       "      <td>79</td>\n",
       "      <td>652783</td>\n",
       "      <td>539.66</td>\n",
       "      <td>1480777</td>\n",
       "      <td>79</td>\n",
       "      <td>652783</td>\n",
       "      <td>0.00</td>\n",
       "      <td>0</td>\n",
       "      <td>0</td>\n",
       "      <td>0</td>\n",
       "      <td>0.0</td>\n",
       "      <td>0.0</td>\n",
       "      <td>0.0</td>\n",
       "      <td>0.0</td>\n",
       "    </tr>\n",
       "    <tr>\n",
       "      <th>7</th>\n",
       "      <td>울산</td>\n",
       "      <td>1062.08</td>\n",
       "      <td>1153901</td>\n",
       "      <td>56</td>\n",
       "      <td>476893</td>\n",
       "      <td>1062.08</td>\n",
       "      <td>1153901</td>\n",
       "      <td>56</td>\n",
       "      <td>476893</td>\n",
       "      <td>0.00</td>\n",
       "      <td>0</td>\n",
       "      <td>0</td>\n",
       "      <td>0</td>\n",
       "      <td>0.0</td>\n",
       "      <td>0.0</td>\n",
       "      <td>0.0</td>\n",
       "      <td>0.0</td>\n",
       "    </tr>\n",
       "    <tr>\n",
       "      <th>8</th>\n",
       "      <td>세종</td>\n",
       "      <td>464.91</td>\n",
       "      <td>360907</td>\n",
       "      <td>20</td>\n",
       "      <td>144275</td>\n",
       "      <td>464.91</td>\n",
       "      <td>360907</td>\n",
       "      <td>20</td>\n",
       "      <td>144275</td>\n",
       "      <td>0.00</td>\n",
       "      <td>0</td>\n",
       "      <td>0</td>\n",
       "      <td>0</td>\n",
       "      <td>0.0</td>\n",
       "      <td>0.0</td>\n",
       "      <td>0.0</td>\n",
       "      <td>0.0</td>\n",
       "    </tr>\n",
       "    <tr>\n",
       "      <th>9</th>\n",
       "      <td>경기</td>\n",
       "      <td>10195.27</td>\n",
       "      <td>13774748</td>\n",
       "      <td>551</td>\n",
       "      <td>5676401</td>\n",
       "      <td>10195.27</td>\n",
       "      <td>13774748</td>\n",
       "      <td>551</td>\n",
       "      <td>5676401</td>\n",
       "      <td>0.00</td>\n",
       "      <td>0</td>\n",
       "      <td>0</td>\n",
       "      <td>0</td>\n",
       "      <td>0.0</td>\n",
       "      <td>0.0</td>\n",
       "      <td>0.0</td>\n",
       "      <td>0.0</td>\n",
       "    </tr>\n",
       "    <tr>\n",
       "      <th>10</th>\n",
       "      <td>강원</td>\n",
       "      <td>16876.64</td>\n",
       "      <td>1560172</td>\n",
       "      <td>193</td>\n",
       "      <td>736301</td>\n",
       "      <td>16643.31</td>\n",
       "      <td>1557978</td>\n",
       "      <td>193</td>\n",
       "      <td>735594</td>\n",
       "      <td>233.33</td>\n",
       "      <td>2194</td>\n",
       "      <td>0</td>\n",
       "      <td>707</td>\n",
       "      <td>1.4</td>\n",
       "      <td>0.1</td>\n",
       "      <td>0.0</td>\n",
       "      <td>0.1</td>\n",
       "    </tr>\n",
       "    <tr>\n",
       "      <th>11</th>\n",
       "      <td>충북</td>\n",
       "      <td>7406.95</td>\n",
       "      <td>1637897</td>\n",
       "      <td>153</td>\n",
       "      <td>745644</td>\n",
       "      <td>7391.15</td>\n",
       "      <td>1637877</td>\n",
       "      <td>153</td>\n",
       "      <td>745633</td>\n",
       "      <td>15.80</td>\n",
       "      <td>20</td>\n",
       "      <td>0</td>\n",
       "      <td>11</td>\n",
       "      <td>0.2</td>\n",
       "      <td>0.0</td>\n",
       "      <td>0.0</td>\n",
       "      <td>0.0</td>\n",
       "    </tr>\n",
       "    <tr>\n",
       "      <th>12</th>\n",
       "      <td>충남</td>\n",
       "      <td>8246.17</td>\n",
       "      <td>2185575</td>\n",
       "      <td>207</td>\n",
       "      <td>983153</td>\n",
       "      <td>8220.87</td>\n",
       "      <td>2182333</td>\n",
       "      <td>207</td>\n",
       "      <td>981437</td>\n",
       "      <td>25.30</td>\n",
       "      <td>3242</td>\n",
       "      <td>0</td>\n",
       "      <td>1716</td>\n",
       "      <td>0.3</td>\n",
       "      <td>0.1</td>\n",
       "      <td>0.0</td>\n",
       "      <td>0.2</td>\n",
       "    </tr>\n",
       "    <tr>\n",
       "      <th>13</th>\n",
       "      <td>전북</td>\n",
       "      <td>8069.84</td>\n",
       "      <td>1835392</td>\n",
       "      <td>243</td>\n",
       "      <td>836660</td>\n",
       "      <td>8054.79</td>\n",
       "      <td>1833233</td>\n",
       "      <td>242</td>\n",
       "      <td>835648</td>\n",
       "      <td>15.05</td>\n",
       "      <td>2159</td>\n",
       "      <td>1</td>\n",
       "      <td>1012</td>\n",
       "      <td>0.2</td>\n",
       "      <td>0.1</td>\n",
       "      <td>0.4</td>\n",
       "      <td>0.1</td>\n",
       "    </tr>\n",
       "    <tr>\n",
       "      <th>14</th>\n",
       "      <td>전남</td>\n",
       "      <td>12348.09</td>\n",
       "      <td>1884455</td>\n",
       "      <td>297</td>\n",
       "      <td>893152</td>\n",
       "      <td>12160.21</td>\n",
       "      <td>1874863</td>\n",
       "      <td>296</td>\n",
       "      <td>887063</td>\n",
       "      <td>187.88</td>\n",
       "      <td>9592</td>\n",
       "      <td>1</td>\n",
       "      <td>6089</td>\n",
       "      <td>1.5</td>\n",
       "      <td>0.5</td>\n",
       "      <td>0.3</td>\n",
       "      <td>0.7</td>\n",
       "    </tr>\n",
       "    <tr>\n",
       "      <th>15</th>\n",
       "      <td>경북</td>\n",
       "      <td>19034.03</td>\n",
       "      <td>2692000</td>\n",
       "      <td>332</td>\n",
       "      <td>1254662</td>\n",
       "      <td>19031.73</td>\n",
       "      <td>2691891</td>\n",
       "      <td>332</td>\n",
       "      <td>1254561</td>\n",
       "      <td>2.30</td>\n",
       "      <td>109</td>\n",
       "      <td>0</td>\n",
       "      <td>101</td>\n",
       "      <td>0.0</td>\n",
       "      <td>0.0</td>\n",
       "      <td>0.0</td>\n",
       "      <td>0.0</td>\n",
       "    </tr>\n",
       "    <tr>\n",
       "      <th>16</th>\n",
       "      <td>경남</td>\n",
       "      <td>10540.55</td>\n",
       "      <td>3407455</td>\n",
       "      <td>305</td>\n",
       "      <td>1484601</td>\n",
       "      <td>10484.67</td>\n",
       "      <td>3404370</td>\n",
       "      <td>305</td>\n",
       "      <td>1482783</td>\n",
       "      <td>55.88</td>\n",
       "      <td>3085</td>\n",
       "      <td>0</td>\n",
       "      <td>1818</td>\n",
       "      <td>0.5</td>\n",
       "      <td>0.1</td>\n",
       "      <td>0.0</td>\n",
       "      <td>0.1</td>\n",
       "    </tr>\n",
       "    <tr>\n",
       "      <th>17</th>\n",
       "      <td>제주</td>\n",
       "      <td>1850.21</td>\n",
       "      <td>697578</td>\n",
       "      <td>43</td>\n",
       "      <td>302033</td>\n",
       "      <td>1850.21</td>\n",
       "      <td>697578</td>\n",
       "      <td>43</td>\n",
       "      <td>302033</td>\n",
       "      <td>0.00</td>\n",
       "      <td>0</td>\n",
       "      <td>0</td>\n",
       "      <td>0</td>\n",
       "      <td>0.0</td>\n",
       "      <td>0.0</td>\n",
       "      <td>0.0</td>\n",
       "      <td>0.0</td>\n",
       "    </tr>\n",
       "  </tbody>\n",
       "</table>\n",
       "</div>"
      ],
      "text/plain": [
       "   CITY_JIDT_CD_NM   TOT_AREA   TOT_POP  TOT_DONG  TOT_HSHLD  LIFEWT_MNG_AREA  \\\n",
       "0               전국  100458.33  52942262      3501   23093108         99905.51   \n",
       "1               서울     605.24   9911088       425    4417954           605.24   \n",
       "2               부산     770.08   3432312       205    1530431           770.08   \n",
       "3               대구     883.50   2446144       141    1056627           883.50   \n",
       "4               인천    1063.99   3010476       155    1267956          1046.71   \n",
       "5               광주     501.12   1471385        96     633582           501.12   \n",
       "6               대전     539.66   1480777        79     652783           539.66   \n",
       "7               울산    1062.08   1153901        56     476893          1062.08   \n",
       "8               세종     464.91    360907        20     144275           464.91   \n",
       "9               경기   10195.27  13774748       551    5676401         10195.27   \n",
       "10              강원   16876.64   1560172       193     736301         16643.31   \n",
       "11              충북    7406.95   1637897       153     745644          7391.15   \n",
       "12              충남    8246.17   2185575       207     983153          8220.87   \n",
       "13              전북    8069.84   1835392       243     836660          8054.79   \n",
       "14              전남   12348.09   1884455       297     893152         12160.21   \n",
       "15              경북   19034.03   2692000       332    1254662         19031.73   \n",
       "16              경남   10540.55   3407455       305    1484601         10484.67   \n",
       "17              제주    1850.21    697578        43     302033          1850.21   \n",
       "\n",
       "    LIFEWT_MNG_POP  LIFEWT_MNG_DONG  LIFEWT_MNG_HSHLD  LIFEWT_MNGEXCPT_AREA  \\\n",
       "0         52920946             3499          23081100                552.82   \n",
       "1          9911088              425           4417954                  0.00   \n",
       "2          3432312              205           1530431                  0.00   \n",
       "3          2446144              141           1056627                  0.00   \n",
       "4          3009561              155           1267402                 17.28   \n",
       "5          1471385               96            633582                  0.00   \n",
       "6          1480777               79            652783                  0.00   \n",
       "7          1153901               56            476893                  0.00   \n",
       "8           360907               20            144275                  0.00   \n",
       "9         13774748              551           5676401                  0.00   \n",
       "10         1557978              193            735594                233.33   \n",
       "11         1637877              153            745633                 15.80   \n",
       "12         2182333              207            981437                 25.30   \n",
       "13         1833233              242            835648                 15.05   \n",
       "14         1874863              296            887063                187.88   \n",
       "15         2691891              332           1254561                  2.30   \n",
       "16         3404370              305           1482783                 55.88   \n",
       "17          697578               43            302033                  0.00   \n",
       "\n",
       "    LIFEWT_MNGEXCPT_POP  LIFEWT_MNGEXCPT_DONG  LIFEWT_MNGEXCPT_HSHLD  \\\n",
       "0                 21316                     2                  12008   \n",
       "1                     0                     0                      0   \n",
       "2                     0                     0                      0   \n",
       "3                     0                     0                      0   \n",
       "4                   915                     0                    554   \n",
       "5                     0                     0                      0   \n",
       "6                     0                     0                      0   \n",
       "7                     0                     0                      0   \n",
       "8                     0                     0                      0   \n",
       "9                     0                     0                      0   \n",
       "10                 2194                     0                    707   \n",
       "11                   20                     0                     11   \n",
       "12                 3242                     0                   1716   \n",
       "13                 2159                     1                   1012   \n",
       "14                 9592                     1                   6089   \n",
       "15                  109                     0                    101   \n",
       "16                 3085                     0                   1818   \n",
       "17                    0                     0                      0   \n",
       "\n",
       "    MNGEXCPT_AREA_RATIO  MNGEXCPT_POP_RATIO  MNGEXCPT_DONG_RATIO  \\\n",
       "0                   0.6                 0.0                  0.1   \n",
       "1                   0.0                 0.0                  0.0   \n",
       "2                   0.0                 0.0                  0.0   \n",
       "3                   0.0                 0.0                  0.0   \n",
       "4                   1.6                 0.0                  0.0   \n",
       "5                   0.0                 0.0                  0.0   \n",
       "6                   0.0                 0.0                  0.0   \n",
       "7                   0.0                 0.0                  0.0   \n",
       "8                   0.0                 0.0                  0.0   \n",
       "9                   0.0                 0.0                  0.0   \n",
       "10                  1.4                 0.1                  0.0   \n",
       "11                  0.2                 0.0                  0.0   \n",
       "12                  0.3                 0.1                  0.0   \n",
       "13                  0.2                 0.1                  0.4   \n",
       "14                  1.5                 0.5                  0.3   \n",
       "15                  0.0                 0.0                  0.0   \n",
       "16                  0.5                 0.1                  0.0   \n",
       "17                  0.0                 0.0                  0.0   \n",
       "\n",
       "    MNGEXCPT_HSHLD_RATIO  \n",
       "0                    0.1  \n",
       "1                    0.0  \n",
       "2                    0.0  \n",
       "3                    0.0  \n",
       "4                    0.0  \n",
       "5                    0.0  \n",
       "6                    0.0  \n",
       "7                    0.0  \n",
       "8                    0.0  \n",
       "9                    0.0  \n",
       "10                   0.1  \n",
       "11                   0.0  \n",
       "12                   0.2  \n",
       "13                   0.1  \n",
       "14                   0.7  \n",
       "15                   0.0  \n",
       "16                   0.1  \n",
       "17                   0.0  "
      ]
     },
     "execution_count": 17,
     "metadata": {},
     "output_type": "execute_result"
    }
   ],
   "source": [
    "df_p"
   ]
  },
  {
   "cell_type": "markdown",
   "metadata": {},
   "source": [
    "#### 3. 데이터(데이터프레임) 분석 및 전처리 & 파생변수 생성"
   ]
  },
  {
   "cell_type": "markdown",
   "metadata": {},
   "source": [
    "##### 시도 = CITY_JIDT_NM / 총계 = TOT_SUM_QTY, WSTE_QTY / 매립 = TOT_FILL_QTY / 소각 = TOT_INCI_QTY / 재활용 = TOT_RECY_QTY"
   ]
  },
  {
   "cell_type": "markdown",
   "metadata": {},
   "source": [
    "##### 인구집계 - 시도 = CITY_JIDT_CD_NM  , 면적 - TOT_AREA, 인구수 - TOT_POP"
   ]
  },
  {
   "cell_type": "code",
   "execution_count": 18,
   "metadata": {},
   "outputs": [
    {
     "data": {
      "text/plain": [
       "Index(['CITY_JIDT_CD_NM', 'TOT_AREA', 'TOT_POP', 'TOT_DONG', 'TOT_HSHLD',\n",
       "       'LIFEWT_MNG_AREA', 'LIFEWT_MNG_POP', 'LIFEWT_MNG_DONG',\n",
       "       'LIFEWT_MNG_HSHLD', 'LIFEWT_MNGEXCPT_AREA', 'LIFEWT_MNGEXCPT_POP',\n",
       "       'LIFEWT_MNGEXCPT_DONG', 'LIFEWT_MNGEXCPT_HSHLD', 'MNGEXCPT_AREA_RATIO',\n",
       "       'MNGEXCPT_POP_RATIO', 'MNGEXCPT_DONG_RATIO', 'MNGEXCPT_HSHLD_RATIO'],\n",
       "      dtype='object')"
      ]
     },
     "execution_count": 18,
     "metadata": {},
     "output_type": "execute_result"
    }
   ],
   "source": [
    "df_p.columns"
   ]
  },
  {
   "cell_type": "code",
   "execution_count": 19,
   "metadata": {},
   "outputs": [],
   "source": [
    "# 2020 인구 데이터에서 시도, 면적, 인구수만 남기기\n",
    "\n",
    "df_p.drop(df_p[['TOT_DONG', 'TOT_HSHLD',\n",
    "       'LIFEWT_MNG_AREA', 'LIFEWT_MNG_POP', 'LIFEWT_MNG_DONG',\n",
    "       'LIFEWT_MNG_HSHLD', 'LIFEWT_MNGEXCPT_AREA', 'LIFEWT_MNGEXCPT_POP',\n",
    "       'LIFEWT_MNGEXCPT_DONG', 'LIFEWT_MNGEXCPT_HSHLD', 'MNGEXCPT_AREA_RATIO',\n",
    "       'MNGEXCPT_POP_RATIO', 'MNGEXCPT_DONG_RATIO', 'MNGEXCPT_HSHLD_RATIO']], axis = 1, inplace = True)"
   ]
  },
  {
   "cell_type": "code",
   "execution_count": 410,
   "metadata": {},
   "outputs": [],
   "source": [
    "# # 2018 데이터에서 시도, 총계, 매립계, 소각계, 재활용계 컬럼만 남기기 \n",
    "\n",
    "# df2020.drop(df2020[['WT_TYPE_GB_NM', 'WSTE_M_CODE_NM', 'WSTE_CODE_NM',\n",
    "#        'TOT_ETC_QTY', 'PUB_RECY_QTY', 'PUB_INCI_QTY', 'PUB_FILL_QTY',\n",
    "#        'PUB_ETC_QTY', 'SELF_RECY_QTY', 'SELF_INCI_QTY', 'SELF_FILL_QTY',\n",
    "#        'SELF_ETC_QTY', 'COM_RECY_QTY', 'COM_INCI_QTY', 'COM_FILL_QTY',\n",
    "#        'COM_ETC_QTY']], axis = 1, inplace = True)"
   ]
  },
  {
   "cell_type": "code",
   "execution_count": 20,
   "metadata": {},
   "outputs": [
    {
     "data": {
      "text/html": [
       "<div>\n",
       "<style scoped>\n",
       "    .dataframe tbody tr th:only-of-type {\n",
       "        vertical-align: middle;\n",
       "    }\n",
       "\n",
       "    .dataframe tbody tr th {\n",
       "        vertical-align: top;\n",
       "    }\n",
       "\n",
       "    .dataframe thead th {\n",
       "        text-align: right;\n",
       "    }\n",
       "</style>\n",
       "<table border=\"1\" class=\"dataframe\">\n",
       "  <thead>\n",
       "    <tr style=\"text-align: right;\">\n",
       "      <th></th>\n",
       "      <th>CITY_JIDT_CD_NM</th>\n",
       "      <th>TOT_AREA</th>\n",
       "      <th>TOT_POP</th>\n",
       "    </tr>\n",
       "  </thead>\n",
       "  <tbody>\n",
       "    <tr>\n",
       "      <th>0</th>\n",
       "      <td>전국</td>\n",
       "      <td>100458.33</td>\n",
       "      <td>52942262</td>\n",
       "    </tr>\n",
       "    <tr>\n",
       "      <th>1</th>\n",
       "      <td>서울</td>\n",
       "      <td>605.24</td>\n",
       "      <td>9911088</td>\n",
       "    </tr>\n",
       "    <tr>\n",
       "      <th>2</th>\n",
       "      <td>부산</td>\n",
       "      <td>770.08</td>\n",
       "      <td>3432312</td>\n",
       "    </tr>\n",
       "    <tr>\n",
       "      <th>3</th>\n",
       "      <td>대구</td>\n",
       "      <td>883.50</td>\n",
       "      <td>2446144</td>\n",
       "    </tr>\n",
       "    <tr>\n",
       "      <th>4</th>\n",
       "      <td>인천</td>\n",
       "      <td>1063.99</td>\n",
       "      <td>3010476</td>\n",
       "    </tr>\n",
       "    <tr>\n",
       "      <th>5</th>\n",
       "      <td>광주</td>\n",
       "      <td>501.12</td>\n",
       "      <td>1471385</td>\n",
       "    </tr>\n",
       "    <tr>\n",
       "      <th>6</th>\n",
       "      <td>대전</td>\n",
       "      <td>539.66</td>\n",
       "      <td>1480777</td>\n",
       "    </tr>\n",
       "    <tr>\n",
       "      <th>7</th>\n",
       "      <td>울산</td>\n",
       "      <td>1062.08</td>\n",
       "      <td>1153901</td>\n",
       "    </tr>\n",
       "    <tr>\n",
       "      <th>8</th>\n",
       "      <td>세종</td>\n",
       "      <td>464.91</td>\n",
       "      <td>360907</td>\n",
       "    </tr>\n",
       "    <tr>\n",
       "      <th>9</th>\n",
       "      <td>경기</td>\n",
       "      <td>10195.27</td>\n",
       "      <td>13774748</td>\n",
       "    </tr>\n",
       "    <tr>\n",
       "      <th>10</th>\n",
       "      <td>강원</td>\n",
       "      <td>16876.64</td>\n",
       "      <td>1560172</td>\n",
       "    </tr>\n",
       "    <tr>\n",
       "      <th>11</th>\n",
       "      <td>충북</td>\n",
       "      <td>7406.95</td>\n",
       "      <td>1637897</td>\n",
       "    </tr>\n",
       "    <tr>\n",
       "      <th>12</th>\n",
       "      <td>충남</td>\n",
       "      <td>8246.17</td>\n",
       "      <td>2185575</td>\n",
       "    </tr>\n",
       "    <tr>\n",
       "      <th>13</th>\n",
       "      <td>전북</td>\n",
       "      <td>8069.84</td>\n",
       "      <td>1835392</td>\n",
       "    </tr>\n",
       "    <tr>\n",
       "      <th>14</th>\n",
       "      <td>전남</td>\n",
       "      <td>12348.09</td>\n",
       "      <td>1884455</td>\n",
       "    </tr>\n",
       "    <tr>\n",
       "      <th>15</th>\n",
       "      <td>경북</td>\n",
       "      <td>19034.03</td>\n",
       "      <td>2692000</td>\n",
       "    </tr>\n",
       "    <tr>\n",
       "      <th>16</th>\n",
       "      <td>경남</td>\n",
       "      <td>10540.55</td>\n",
       "      <td>3407455</td>\n",
       "    </tr>\n",
       "    <tr>\n",
       "      <th>17</th>\n",
       "      <td>제주</td>\n",
       "      <td>1850.21</td>\n",
       "      <td>697578</td>\n",
       "    </tr>\n",
       "  </tbody>\n",
       "</table>\n",
       "</div>"
      ],
      "text/plain": [
       "   CITY_JIDT_CD_NM   TOT_AREA   TOT_POP\n",
       "0               전국  100458.33  52942262\n",
       "1               서울     605.24   9911088\n",
       "2               부산     770.08   3432312\n",
       "3               대구     883.50   2446144\n",
       "4               인천    1063.99   3010476\n",
       "5               광주     501.12   1471385\n",
       "6               대전     539.66   1480777\n",
       "7               울산    1062.08   1153901\n",
       "8               세종     464.91    360907\n",
       "9               경기   10195.27  13774748\n",
       "10              강원   16876.64   1560172\n",
       "11              충북    7406.95   1637897\n",
       "12              충남    8246.17   2185575\n",
       "13              전북    8069.84   1835392\n",
       "14              전남   12348.09   1884455\n",
       "15              경북   19034.03   2692000\n",
       "16              경남   10540.55   3407455\n",
       "17              제주    1850.21    697578"
      ]
     },
     "execution_count": 20,
     "metadata": {},
     "output_type": "execute_result"
    }
   ],
   "source": [
    "# 인구 데이터 \n",
    "df_p"
   ]
  },
  {
   "cell_type": "code",
   "execution_count": 21,
   "metadata": {},
   "outputs": [],
   "source": [
    "# df 에서 서울, 경기, 인천 만 추출하기\n",
    "\n",
    "df_p = df_p[(df_p['CITY_JIDT_CD_NM'] == '서울') | (df_p['CITY_JIDT_CD_NM'] == '경기') | (df_p['CITY_JIDT_CD_NM'] == '인천')]"
   ]
  },
  {
   "cell_type": "code",
   "execution_count": 447,
   "metadata": {},
   "outputs": [],
   "source": [
    "# 컬럼 순서 변경하기\n",
    "\n",
    "# df_p = df_p[['CITY_JIDT_CD_NM','TOT_AREA','TOT_POP']]"
   ]
  },
  {
   "cell_type": "code",
   "execution_count": 53,
   "metadata": {},
   "outputs": [
    {
     "data": {
      "text/html": [
       "<div>\n",
       "<style scoped>\n",
       "    .dataframe tbody tr th:only-of-type {\n",
       "        vertical-align: middle;\n",
       "    }\n",
       "\n",
       "    .dataframe tbody tr th {\n",
       "        vertical-align: top;\n",
       "    }\n",
       "\n",
       "    .dataframe thead th {\n",
       "        text-align: right;\n",
       "    }\n",
       "</style>\n",
       "<table border=\"1\" class=\"dataframe\">\n",
       "  <thead>\n",
       "    <tr style=\"text-align: right;\">\n",
       "      <th></th>\n",
       "      <th>도시</th>\n",
       "      <th>면적</th>\n",
       "      <th>인구</th>\n",
       "    </tr>\n",
       "  </thead>\n",
       "  <tbody>\n",
       "    <tr>\n",
       "      <th>1</th>\n",
       "      <td>서울</td>\n",
       "      <td>605.24</td>\n",
       "      <td>9911088</td>\n",
       "    </tr>\n",
       "    <tr>\n",
       "      <th>4</th>\n",
       "      <td>인천</td>\n",
       "      <td>1063.99</td>\n",
       "      <td>3010476</td>\n",
       "    </tr>\n",
       "    <tr>\n",
       "      <th>9</th>\n",
       "      <td>경기</td>\n",
       "      <td>10195.27</td>\n",
       "      <td>13774748</td>\n",
       "    </tr>\n",
       "  </tbody>\n",
       "</table>\n",
       "</div>"
      ],
      "text/plain": [
       "   도시        면적        인구\n",
       "1  서울    605.24   9911088\n",
       "4  인천   1063.99   3010476\n",
       "9  경기  10195.27  13774748"
      ]
     },
     "execution_count": 53,
     "metadata": {},
     "output_type": "execute_result"
    }
   ],
   "source": [
    "df_p"
   ]
  },
  {
   "cell_type": "code",
   "execution_count": 449,
   "metadata": {},
   "outputs": [],
   "source": [
    "# 생활 폐기물 도시명을 기준으로 .groupby().sum()\n",
    "# df2018_s = df2018.groupby('CITY_JIDT_NM').sum() "
   ]
  },
  {
   "cell_type": "code",
   "execution_count": 21,
   "metadata": {},
   "outputs": [],
   "source": [
    "# df2018_s"
   ]
  },
  {
   "cell_type": "code",
   "execution_count": 54,
   "metadata": {},
   "outputs": [],
   "source": [
    "# 컬럼이름 한글로 변환\n",
    "df_p1 = df_p.rename(columns={'CITY_JIDT_CD_NM':'도시', 'TOT_AREA':'면적','TOT_POP':'인구'})"
   ]
  },
  {
   "cell_type": "code",
   "execution_count": 55,
   "metadata": {},
   "outputs": [
    {
     "data": {
      "text/plain": [
       "도시     object\n",
       "면적    float64\n",
       "인구      int64\n",
       "dtype: object"
      ]
     },
     "execution_count": 55,
     "metadata": {},
     "output_type": "execute_result"
    }
   ],
   "source": [
    "df_p1.dtypes"
   ]
  },
  {
   "cell_type": "code",
   "execution_count": 50,
   "metadata": {},
   "outputs": [],
   "source": [
    "# 행 순서도 다시 정렬, 행 인덱스 이름 부여\n",
    "# df_p1 = df_p.reindex(['서울','경기','인천'], axis = 0)\n",
    "# df_p.index.name = '도시'"
   ]
  },
  {
   "cell_type": "code",
   "execution_count": 56,
   "metadata": {},
   "outputs": [
    {
     "data": {
      "text/html": [
       "<div>\n",
       "<style scoped>\n",
       "    .dataframe tbody tr th:only-of-type {\n",
       "        vertical-align: middle;\n",
       "    }\n",
       "\n",
       "    .dataframe tbody tr th {\n",
       "        vertical-align: top;\n",
       "    }\n",
       "\n",
       "    .dataframe thead th {\n",
       "        text-align: right;\n",
       "    }\n",
       "</style>\n",
       "<table border=\"1\" class=\"dataframe\">\n",
       "  <thead>\n",
       "    <tr style=\"text-align: right;\">\n",
       "      <th></th>\n",
       "      <th>도시</th>\n",
       "      <th>면적</th>\n",
       "      <th>인구</th>\n",
       "    </tr>\n",
       "  </thead>\n",
       "  <tbody>\n",
       "    <tr>\n",
       "      <th>1</th>\n",
       "      <td>서울</td>\n",
       "      <td>605.24</td>\n",
       "      <td>9911088</td>\n",
       "    </tr>\n",
       "    <tr>\n",
       "      <th>4</th>\n",
       "      <td>인천</td>\n",
       "      <td>1063.99</td>\n",
       "      <td>3010476</td>\n",
       "    </tr>\n",
       "    <tr>\n",
       "      <th>9</th>\n",
       "      <td>경기</td>\n",
       "      <td>10195.27</td>\n",
       "      <td>13774748</td>\n",
       "    </tr>\n",
       "  </tbody>\n",
       "</table>\n",
       "</div>"
      ],
      "text/plain": [
       "   도시        면적        인구\n",
       "1  서울    605.24   9911088\n",
       "4  인천   1063.99   3010476\n",
       "9  경기  10195.27  13774748"
      ]
     },
     "execution_count": 56,
     "metadata": {},
     "output_type": "execute_result"
    }
   ],
   "source": [
    "df_p1"
   ]
  },
  {
   "cell_type": "code",
   "execution_count": null,
   "metadata": {},
   "outputs": [],
   "source": []
  },
  {
   "cell_type": "markdown",
   "metadata": {},
   "source": [
    "#### 4. 생활폐기물 데이터 분석 및 파생변수 "
   ]
  },
  {
   "cell_type": "code",
   "execution_count": 455,
   "metadata": {},
   "outputs": [],
   "source": [
    "# 총계를 매립 + 소각 + 재활용 값으로 계산하게 함\n",
    "\n",
    "df2018_s.loc['서울']['총계'] = df2018_s.loc['서울']['매립'] + df2018_s.loc['서울']['소각'] + df2018_s.loc['서울']['재활용']\n",
    "\n",
    "df2018_s.loc['인천']['총계'] = df2018_s.loc['인천']['매립'] + df2018_s.loc['인천']['소각'] + df2018_s.loc['인천']['재활용']\n",
    "\n",
    "df2018_s.loc['경기']['총계'] = df2018_s.loc['경기']['매립'] + df2018_s.loc['경기']['소각'] + df2018_s.loc['경기']['재활용']"
   ]
  },
  {
   "cell_type": "code",
   "execution_count": 390,
   "metadata": {},
   "outputs": [],
   "source": [
    "# # 실제 데이터로 값 수정 > 실데이터와 api 데이터 오류 발견 > 엑셀자료도 다운로드 된 자료가 이상하게 됨\n",
    "\n",
    "# df2020_s.loc['서울']['매립'] = 946.72\n",
    "# df2020_s.loc['서울']['소각'] = 2185.66\n",
    "# df2020_s.loc['서울']['재활용'] = 5572.49\n",
    "# df2020_s.loc['서울']['총계'] = df2020_s.loc['서울']['매립'] + df2020_s.loc['서울']['소각'] + df2020_s.loc['서울']['재활용']\n",
    "# df2020_s.loc['인천']['매립'] = 309.21\n",
    "# df2020_s.loc['인천']['소각'] = 601.73\n",
    "# df2020_s.loc['인천']['재활용'] = 929.72\n",
    "# df2020_s.loc['인천']['총계'] = df2020_s.loc['인천']['매립'] + df2020_s.loc['인천']['소각'] + df2020_s.loc['인천']['재활용']\n",
    "# df2020_s.loc['경기']['매립'] = 931.98\n",
    "# df2020_s.loc['경기']['소각'] = 3851.90\n",
    "# df2020_s.loc['경기']['재활용'] = 5865.72\n",
    "# df2020_s.loc['경기']['총계'] = df2020_s.loc['경기']['매립'] + df2020_s.loc['경기']['소각'] + df2020_s.loc['경기']['재활용']\n"
   ]
  },
  {
   "cell_type": "code",
   "execution_count": 456,
   "metadata": {},
   "outputs": [
    {
     "data": {
      "text/html": [
       "<div>\n",
       "<style scoped>\n",
       "    .dataframe tbody tr th:only-of-type {\n",
       "        vertical-align: middle;\n",
       "    }\n",
       "\n",
       "    .dataframe tbody tr th {\n",
       "        vertical-align: top;\n",
       "    }\n",
       "\n",
       "    .dataframe thead th {\n",
       "        text-align: right;\n",
       "    }\n",
       "</style>\n",
       "<table border=\"1\" class=\"dataframe\">\n",
       "  <thead>\n",
       "    <tr style=\"text-align: right;\">\n",
       "      <th></th>\n",
       "      <th>매립</th>\n",
       "      <th>소각</th>\n",
       "      <th>재활용</th>\n",
       "      <th>총계</th>\n",
       "      <th>매립비중(%)</th>\n",
       "      <th>소각비중(%)</th>\n",
       "      <th>재활용비중(%)</th>\n",
       "    </tr>\n",
       "    <tr>\n",
       "      <th>도시</th>\n",
       "      <th></th>\n",
       "      <th></th>\n",
       "      <th></th>\n",
       "      <th></th>\n",
       "      <th></th>\n",
       "      <th></th>\n",
       "      <th></th>\n",
       "    </tr>\n",
       "  </thead>\n",
       "  <tbody>\n",
       "    <tr>\n",
       "      <th>서울</th>\n",
       "      <td>839.9</td>\n",
       "      <td>2020.5</td>\n",
       "      <td>5726.5</td>\n",
       "      <td>8586.9</td>\n",
       "      <td>9.8</td>\n",
       "      <td>23.5</td>\n",
       "      <td>66.7</td>\n",
       "    </tr>\n",
       "    <tr>\n",
       "      <th>경기</th>\n",
       "      <td>847.2</td>\n",
       "      <td>3612.9</td>\n",
       "      <td>5401.2</td>\n",
       "      <td>9861.3</td>\n",
       "      <td>8.6</td>\n",
       "      <td>36.6</td>\n",
       "      <td>54.8</td>\n",
       "    </tr>\n",
       "    <tr>\n",
       "      <th>인천</th>\n",
       "      <td>293.3</td>\n",
       "      <td>584.1</td>\n",
       "      <td>1107.7</td>\n",
       "      <td>1985.1</td>\n",
       "      <td>14.8</td>\n",
       "      <td>29.4</td>\n",
       "      <td>55.8</td>\n",
       "    </tr>\n",
       "  </tbody>\n",
       "</table>\n",
       "</div>"
      ],
      "text/plain": [
       "       매립      소각     재활용      총계  매립비중(%)  소각비중(%)  재활용비중(%)\n",
       "도시                                                           \n",
       "서울  839.9  2020.5  5726.5  8586.9      9.8     23.5      66.7\n",
       "경기  847.2  3612.9  5401.2  9861.3      8.6     36.6      54.8\n",
       "인천  293.3   584.1  1107.7  1985.1     14.8     29.4      55.8"
      ]
     },
     "execution_count": 456,
     "metadata": {},
     "output_type": "execute_result"
    }
   ],
   "source": [
    "# 매립, 소각, 재활용의 비중(%) 계산 및 컬럼(파생변수) 삽입\n",
    "\n",
    "df2018_s['매립비중(%)'] = round((df2018_s['매립'] / df2018_s['총계']) * 100, 1)\n",
    "df2018_s['소각비중(%)'] = round((df2018_s['소각'] / df2018_s['총계']) * 100, 1)\n",
    "df2018_s['재활용비중(%)'] = round((df2018_s['재활용'] / df2018_s['총계']) * 100, 1)\n",
    "df2018_s"
   ]
  },
  {
   "cell_type": "code",
   "execution_count": 457,
   "metadata": {},
   "outputs": [
    {
     "data": {
      "text/html": [
       "<div>\n",
       "<style scoped>\n",
       "    .dataframe tbody tr th:only-of-type {\n",
       "        vertical-align: middle;\n",
       "    }\n",
       "\n",
       "    .dataframe tbody tr th {\n",
       "        vertical-align: top;\n",
       "    }\n",
       "\n",
       "    .dataframe thead th {\n",
       "        text-align: right;\n",
       "    }\n",
       "</style>\n",
       "<table border=\"1\" class=\"dataframe\">\n",
       "  <thead>\n",
       "    <tr style=\"text-align: right;\">\n",
       "      <th></th>\n",
       "      <th>매립</th>\n",
       "      <th>매립비중(%)</th>\n",
       "      <th>소각</th>\n",
       "      <th>소각비중(%)</th>\n",
       "      <th>재활용</th>\n",
       "      <th>재활용비중(%)</th>\n",
       "      <th>총계</th>\n",
       "    </tr>\n",
       "    <tr>\n",
       "      <th>도시</th>\n",
       "      <th></th>\n",
       "      <th></th>\n",
       "      <th></th>\n",
       "      <th></th>\n",
       "      <th></th>\n",
       "      <th></th>\n",
       "      <th></th>\n",
       "    </tr>\n",
       "  </thead>\n",
       "  <tbody>\n",
       "    <tr>\n",
       "      <th>서울</th>\n",
       "      <td>839.9</td>\n",
       "      <td>9.8</td>\n",
       "      <td>2020.5</td>\n",
       "      <td>23.5</td>\n",
       "      <td>5726.5</td>\n",
       "      <td>66.7</td>\n",
       "      <td>8586.9</td>\n",
       "    </tr>\n",
       "    <tr>\n",
       "      <th>경기</th>\n",
       "      <td>847.2</td>\n",
       "      <td>8.6</td>\n",
       "      <td>3612.9</td>\n",
       "      <td>36.6</td>\n",
       "      <td>5401.2</td>\n",
       "      <td>54.8</td>\n",
       "      <td>9861.3</td>\n",
       "    </tr>\n",
       "    <tr>\n",
       "      <th>인천</th>\n",
       "      <td>293.3</td>\n",
       "      <td>14.8</td>\n",
       "      <td>584.1</td>\n",
       "      <td>29.4</td>\n",
       "      <td>1107.7</td>\n",
       "      <td>55.8</td>\n",
       "      <td>1985.1</td>\n",
       "    </tr>\n",
       "  </tbody>\n",
       "</table>\n",
       "</div>"
      ],
      "text/plain": [
       "       매립  매립비중(%)      소각  소각비중(%)     재활용  재활용비중(%)      총계\n",
       "도시                                                           \n",
       "서울  839.9      9.8  2020.5     23.5  5726.5      66.7  8586.9\n",
       "경기  847.2      8.6  3612.9     36.6  5401.2      54.8  9861.3\n",
       "인천  293.3     14.8   584.1     29.4  1107.7      55.8  1985.1"
      ]
     },
     "execution_count": 457,
     "metadata": {},
     "output_type": "execute_result"
    }
   ],
   "source": [
    "# 컬럼 위치 변경\n",
    "# 매립비중이 인천이 높은이유 : 매립지가 인천에 위치 > 매립에 좀 더 자유로운 조건\n",
    "\n",
    "df2018_s = df2018_s[['매립', '매립비중(%)', '소각', '소각비중(%)','재활용','재활용비중(%)','총계']]\n",
    "df2018_s"
   ]
  },
  {
   "cell_type": "code",
   "execution_count": 458,
   "metadata": {},
   "outputs": [],
   "source": [
    "# 연도별 df 데이터 csv 파일로 내보내기 (2019, 2020년)\n",
    "df2018_s.to_csv('df2018.csv')"
   ]
  },
  {
   "cell_type": "code",
   "execution_count": 57,
   "metadata": {},
   "outputs": [],
   "source": [
    "# 인구데이터 csv 파일로 내보내기 \n",
    "df_p1.to_csv('df_people.csv')"
   ]
  },
  {
   "cell_type": "markdown",
   "metadata": {},
   "source": [
    "#### 5. 생활 데이터 연도별(2018-2020) 불러오기 및 합치기 "
   ]
  },
  {
   "cell_type": "code",
   "execution_count": 68,
   "metadata": {},
   "outputs": [
    {
     "data": {
      "text/html": [
       "<div>\n",
       "<style scoped>\n",
       "    .dataframe tbody tr th:only-of-type {\n",
       "        vertical-align: middle;\n",
       "    }\n",
       "\n",
       "    .dataframe tbody tr th {\n",
       "        vertical-align: top;\n",
       "    }\n",
       "\n",
       "    .dataframe thead th {\n",
       "        text-align: right;\n",
       "    }\n",
       "</style>\n",
       "<table border=\"1\" class=\"dataframe\">\n",
       "  <thead>\n",
       "    <tr style=\"text-align: right;\">\n",
       "      <th></th>\n",
       "      <th>도시</th>\n",
       "      <th>매립</th>\n",
       "      <th>매립비중(%)</th>\n",
       "      <th>소각</th>\n",
       "      <th>소각비중(%)</th>\n",
       "      <th>재활용</th>\n",
       "      <th>재활용비중(%)</th>\n",
       "      <th>총계</th>\n",
       "    </tr>\n",
       "  </thead>\n",
       "  <tbody>\n",
       "    <tr>\n",
       "      <th>0</th>\n",
       "      <td>서울</td>\n",
       "      <td>839.9</td>\n",
       "      <td>9.8</td>\n",
       "      <td>2020.5</td>\n",
       "      <td>23.5</td>\n",
       "      <td>5726.5</td>\n",
       "      <td>66.7</td>\n",
       "      <td>8586.9</td>\n",
       "    </tr>\n",
       "    <tr>\n",
       "      <th>1</th>\n",
       "      <td>경기</td>\n",
       "      <td>847.2</td>\n",
       "      <td>8.6</td>\n",
       "      <td>3612.9</td>\n",
       "      <td>36.6</td>\n",
       "      <td>5401.2</td>\n",
       "      <td>54.8</td>\n",
       "      <td>9861.3</td>\n",
       "    </tr>\n",
       "    <tr>\n",
       "      <th>2</th>\n",
       "      <td>인천</td>\n",
       "      <td>293.3</td>\n",
       "      <td>14.8</td>\n",
       "      <td>584.1</td>\n",
       "      <td>29.4</td>\n",
       "      <td>1107.7</td>\n",
       "      <td>55.8</td>\n",
       "      <td>1985.1</td>\n",
       "    </tr>\n",
       "  </tbody>\n",
       "</table>\n",
       "</div>"
      ],
      "text/plain": [
       "   도시     매립  매립비중(%)      소각  소각비중(%)     재활용  재활용비중(%)      총계\n",
       "0  서울  839.9      9.8  2020.5     23.5  5726.5      66.7  8586.9\n",
       "1  경기  847.2      8.6  3612.9     36.6  5401.2      54.8  9861.3\n",
       "2  인천  293.3     14.8   584.1     29.4  1107.7      55.8  1985.1"
      ]
     },
     "execution_count": 68,
     "metadata": {},
     "output_type": "execute_result"
    }
   ],
   "source": [
    "# 2018년 수도권 1일 생활쓰레기 배출량\n",
    "df1 = pd.read_csv('./df2018.csv')\n",
    "df1"
   ]
  },
  {
   "cell_type": "code",
   "execution_count": 177,
   "metadata": {},
   "outputs": [
    {
     "data": {
      "text/plain": [
       "도시           object\n",
       "매립          float64\n",
       "매립비중(%)     float64\n",
       "소각          float64\n",
       "소각비중(%)     float64\n",
       "재활용         float64\n",
       "재활용비중(%)    float64\n",
       "총계          float64\n",
       "dtype: object"
      ]
     },
     "execution_count": 177,
     "metadata": {},
     "output_type": "execute_result"
    }
   ],
   "source": [
    "df1.dtypes"
   ]
  },
  {
   "cell_type": "code",
   "execution_count": 69,
   "metadata": {},
   "outputs": [],
   "source": [
    "# df.set_index(keys, drop=True, append=False, inplace=False, verify_integrity=False) \n",
    "# 도시명을 새로운 인덱스로\n",
    "df1.set_index('도시', inplace = True)"
   ]
  },
  {
   "cell_type": "code",
   "execution_count": 70,
   "metadata": {},
   "outputs": [
    {
     "data": {
      "text/html": [
       "<div>\n",
       "<style scoped>\n",
       "    .dataframe tbody tr th:only-of-type {\n",
       "        vertical-align: middle;\n",
       "    }\n",
       "\n",
       "    .dataframe tbody tr th {\n",
       "        vertical-align: top;\n",
       "    }\n",
       "\n",
       "    .dataframe thead th {\n",
       "        text-align: right;\n",
       "    }\n",
       "</style>\n",
       "<table border=\"1\" class=\"dataframe\">\n",
       "  <thead>\n",
       "    <tr style=\"text-align: right;\">\n",
       "      <th></th>\n",
       "      <th>매립</th>\n",
       "      <th>매립비중(%)</th>\n",
       "      <th>소각</th>\n",
       "      <th>소각비중(%)</th>\n",
       "      <th>재활용</th>\n",
       "      <th>재활용비중(%)</th>\n",
       "      <th>총계</th>\n",
       "    </tr>\n",
       "    <tr>\n",
       "      <th>도시</th>\n",
       "      <th></th>\n",
       "      <th></th>\n",
       "      <th></th>\n",
       "      <th></th>\n",
       "      <th></th>\n",
       "      <th></th>\n",
       "      <th></th>\n",
       "    </tr>\n",
       "  </thead>\n",
       "  <tbody>\n",
       "    <tr>\n",
       "      <th>서울</th>\n",
       "      <td>839.9</td>\n",
       "      <td>9.8</td>\n",
       "      <td>2020.5</td>\n",
       "      <td>23.5</td>\n",
       "      <td>5726.5</td>\n",
       "      <td>66.7</td>\n",
       "      <td>8586.9</td>\n",
       "    </tr>\n",
       "    <tr>\n",
       "      <th>경기</th>\n",
       "      <td>847.2</td>\n",
       "      <td>8.6</td>\n",
       "      <td>3612.9</td>\n",
       "      <td>36.6</td>\n",
       "      <td>5401.2</td>\n",
       "      <td>54.8</td>\n",
       "      <td>9861.3</td>\n",
       "    </tr>\n",
       "    <tr>\n",
       "      <th>인천</th>\n",
       "      <td>293.3</td>\n",
       "      <td>14.8</td>\n",
       "      <td>584.1</td>\n",
       "      <td>29.4</td>\n",
       "      <td>1107.7</td>\n",
       "      <td>55.8</td>\n",
       "      <td>1985.1</td>\n",
       "    </tr>\n",
       "  </tbody>\n",
       "</table>\n",
       "</div>"
      ],
      "text/plain": [
       "       매립  매립비중(%)      소각  소각비중(%)     재활용  재활용비중(%)      총계\n",
       "도시                                                           \n",
       "서울  839.9      9.8  2020.5     23.5  5726.5      66.7  8586.9\n",
       "경기  847.2      8.6  3612.9     36.6  5401.2      54.8  9861.3\n",
       "인천  293.3     14.8   584.1     29.4  1107.7      55.8  1985.1"
      ]
     },
     "execution_count": 70,
     "metadata": {},
     "output_type": "execute_result"
    }
   ],
   "source": [
    "df1"
   ]
  },
  {
   "cell_type": "code",
   "execution_count": 71,
   "metadata": {},
   "outputs": [
    {
     "data": {
      "text/plain": [
       "매립      1980.4\n",
       "소각      6217.5\n",
       "재활용    12235.4\n",
       "dtype: float64"
      ]
     },
     "execution_count": 71,
     "metadata": {},
     "output_type": "execute_result"
    }
   ],
   "source": [
    "df1[['매립','소각','재활용']].sum(axis = 0) "
   ]
  },
  {
   "cell_type": "code",
   "execution_count": 72,
   "metadata": {},
   "outputs": [],
   "source": [
    "# df2.loc[\"ColTotal\", :] = df2.sum() \n",
    "df1.loc[\"2018소계\", :] = df1[['매립','소각','재활용', '총계']].sum() "
   ]
  },
  {
   "cell_type": "code",
   "execution_count": 73,
   "metadata": {},
   "outputs": [
    {
     "data": {
      "text/html": [
       "<div>\n",
       "<style scoped>\n",
       "    .dataframe tbody tr th:only-of-type {\n",
       "        vertical-align: middle;\n",
       "    }\n",
       "\n",
       "    .dataframe tbody tr th {\n",
       "        vertical-align: top;\n",
       "    }\n",
       "\n",
       "    .dataframe thead th {\n",
       "        text-align: right;\n",
       "    }\n",
       "</style>\n",
       "<table border=\"1\" class=\"dataframe\">\n",
       "  <thead>\n",
       "    <tr style=\"text-align: right;\">\n",
       "      <th></th>\n",
       "      <th>매립</th>\n",
       "      <th>매립비중(%)</th>\n",
       "      <th>소각</th>\n",
       "      <th>소각비중(%)</th>\n",
       "      <th>재활용</th>\n",
       "      <th>재활용비중(%)</th>\n",
       "      <th>총계</th>\n",
       "    </tr>\n",
       "    <tr>\n",
       "      <th>도시</th>\n",
       "      <th></th>\n",
       "      <th></th>\n",
       "      <th></th>\n",
       "      <th></th>\n",
       "      <th></th>\n",
       "      <th></th>\n",
       "      <th></th>\n",
       "    </tr>\n",
       "  </thead>\n",
       "  <tbody>\n",
       "    <tr>\n",
       "      <th>서울</th>\n",
       "      <td>839.9</td>\n",
       "      <td>9.8</td>\n",
       "      <td>2020.5</td>\n",
       "      <td>23.5</td>\n",
       "      <td>5726.5</td>\n",
       "      <td>66.7</td>\n",
       "      <td>8586.9</td>\n",
       "    </tr>\n",
       "    <tr>\n",
       "      <th>경기</th>\n",
       "      <td>847.2</td>\n",
       "      <td>8.6</td>\n",
       "      <td>3612.9</td>\n",
       "      <td>36.6</td>\n",
       "      <td>5401.2</td>\n",
       "      <td>54.8</td>\n",
       "      <td>9861.3</td>\n",
       "    </tr>\n",
       "    <tr>\n",
       "      <th>인천</th>\n",
       "      <td>293.3</td>\n",
       "      <td>14.8</td>\n",
       "      <td>584.1</td>\n",
       "      <td>29.4</td>\n",
       "      <td>1107.7</td>\n",
       "      <td>55.8</td>\n",
       "      <td>1985.1</td>\n",
       "    </tr>\n",
       "    <tr>\n",
       "      <th>2018소계</th>\n",
       "      <td>1980.4</td>\n",
       "      <td>NaN</td>\n",
       "      <td>6217.5</td>\n",
       "      <td>NaN</td>\n",
       "      <td>12235.4</td>\n",
       "      <td>NaN</td>\n",
       "      <td>20433.3</td>\n",
       "    </tr>\n",
       "  </tbody>\n",
       "</table>\n",
       "</div>"
      ],
      "text/plain": [
       "            매립  매립비중(%)      소각  소각비중(%)      재활용  재활용비중(%)       총계\n",
       "도시                                                                  \n",
       "서울       839.9      9.8  2020.5     23.5   5726.5      66.7   8586.9\n",
       "경기       847.2      8.6  3612.9     36.6   5401.2      54.8   9861.3\n",
       "인천       293.3     14.8   584.1     29.4   1107.7      55.8   1985.1\n",
       "2018소계  1980.4      NaN  6217.5      NaN  12235.4       NaN  20433.3"
      ]
     },
     "execution_count": 73,
     "metadata": {},
     "output_type": "execute_result"
    }
   ],
   "source": [
    "df1"
   ]
  },
  {
   "cell_type": "code",
   "execution_count": 74,
   "metadata": {},
   "outputs": [],
   "source": [
    "# 2018년 컬럼별 2018소계 및 비중\n",
    "df1.loc[('2018소계', '매립비중(%)')] = round(df1.loc['2018소계']['매립'] / df1.loc['2018소계']['총계'] * 100, 2)\n",
    "df1.loc[('2018소계', '소각비중(%)')] = round(df1.loc['2018소계']['소각'] / df1.loc['2018소계']['총계'] * 100, 2)\n",
    "df1.loc[('2018소계', '재활용비중(%)')] = round(df1.loc['2018소계']['재활용'] / df1.loc['2018소계']['총계'] * 100, 2)"
   ]
  },
  {
   "cell_type": "code",
   "execution_count": 75,
   "metadata": {},
   "outputs": [
    {
     "data": {
      "text/html": [
       "<div>\n",
       "<style scoped>\n",
       "    .dataframe tbody tr th:only-of-type {\n",
       "        vertical-align: middle;\n",
       "    }\n",
       "\n",
       "    .dataframe tbody tr th {\n",
       "        vertical-align: top;\n",
       "    }\n",
       "\n",
       "    .dataframe thead th {\n",
       "        text-align: right;\n",
       "    }\n",
       "</style>\n",
       "<table border=\"1\" class=\"dataframe\">\n",
       "  <thead>\n",
       "    <tr style=\"text-align: right;\">\n",
       "      <th></th>\n",
       "      <th>매립</th>\n",
       "      <th>매립비중(%)</th>\n",
       "      <th>소각</th>\n",
       "      <th>소각비중(%)</th>\n",
       "      <th>재활용</th>\n",
       "      <th>재활용비중(%)</th>\n",
       "      <th>총계</th>\n",
       "    </tr>\n",
       "    <tr>\n",
       "      <th>도시</th>\n",
       "      <th></th>\n",
       "      <th></th>\n",
       "      <th></th>\n",
       "      <th></th>\n",
       "      <th></th>\n",
       "      <th></th>\n",
       "      <th></th>\n",
       "    </tr>\n",
       "  </thead>\n",
       "  <tbody>\n",
       "    <tr>\n",
       "      <th>서울</th>\n",
       "      <td>839.9</td>\n",
       "      <td>9.80</td>\n",
       "      <td>2020.5</td>\n",
       "      <td>23.50</td>\n",
       "      <td>5726.5</td>\n",
       "      <td>66.70</td>\n",
       "      <td>8586.9</td>\n",
       "    </tr>\n",
       "    <tr>\n",
       "      <th>경기</th>\n",
       "      <td>847.2</td>\n",
       "      <td>8.60</td>\n",
       "      <td>3612.9</td>\n",
       "      <td>36.60</td>\n",
       "      <td>5401.2</td>\n",
       "      <td>54.80</td>\n",
       "      <td>9861.3</td>\n",
       "    </tr>\n",
       "    <tr>\n",
       "      <th>인천</th>\n",
       "      <td>293.3</td>\n",
       "      <td>14.80</td>\n",
       "      <td>584.1</td>\n",
       "      <td>29.40</td>\n",
       "      <td>1107.7</td>\n",
       "      <td>55.80</td>\n",
       "      <td>1985.1</td>\n",
       "    </tr>\n",
       "    <tr>\n",
       "      <th>2018소계</th>\n",
       "      <td>1980.4</td>\n",
       "      <td>9.69</td>\n",
       "      <td>6217.5</td>\n",
       "      <td>30.43</td>\n",
       "      <td>12235.4</td>\n",
       "      <td>59.88</td>\n",
       "      <td>20433.3</td>\n",
       "    </tr>\n",
       "  </tbody>\n",
       "</table>\n",
       "</div>"
      ],
      "text/plain": [
       "            매립  매립비중(%)      소각  소각비중(%)      재활용  재활용비중(%)       총계\n",
       "도시                                                                  \n",
       "서울       839.9     9.80  2020.5    23.50   5726.5     66.70   8586.9\n",
       "경기       847.2     8.60  3612.9    36.60   5401.2     54.80   9861.3\n",
       "인천       293.3    14.80   584.1    29.40   1107.7     55.80   1985.1\n",
       "2018소계  1980.4     9.69  6217.5    30.43  12235.4     59.88  20433.3"
      ]
     },
     "execution_count": 75,
     "metadata": {},
     "output_type": "execute_result"
    }
   ],
   "source": [
    "df1"
   ]
  },
  {
   "cell_type": "code",
   "execution_count": 76,
   "metadata": {},
   "outputs": [
    {
     "data": {
      "text/html": [
       "<div>\n",
       "<style scoped>\n",
       "    .dataframe tbody tr th:only-of-type {\n",
       "        vertical-align: middle;\n",
       "    }\n",
       "\n",
       "    .dataframe tbody tr th {\n",
       "        vertical-align: top;\n",
       "    }\n",
       "\n",
       "    .dataframe thead th {\n",
       "        text-align: right;\n",
       "    }\n",
       "</style>\n",
       "<table border=\"1\" class=\"dataframe\">\n",
       "  <thead>\n",
       "    <tr style=\"text-align: right;\">\n",
       "      <th></th>\n",
       "      <th>매립</th>\n",
       "      <th>매립비중(%)</th>\n",
       "      <th>소각</th>\n",
       "      <th>소각비중(%)</th>\n",
       "      <th>재활용</th>\n",
       "      <th>재활용비중(%)</th>\n",
       "      <th>총계</th>\n",
       "      <th>연도</th>\n",
       "    </tr>\n",
       "    <tr>\n",
       "      <th>도시</th>\n",
       "      <th></th>\n",
       "      <th></th>\n",
       "      <th></th>\n",
       "      <th></th>\n",
       "      <th></th>\n",
       "      <th></th>\n",
       "      <th></th>\n",
       "      <th></th>\n",
       "    </tr>\n",
       "  </thead>\n",
       "  <tbody>\n",
       "    <tr>\n",
       "      <th>서울</th>\n",
       "      <td>839.9</td>\n",
       "      <td>9.80</td>\n",
       "      <td>2020.5</td>\n",
       "      <td>23.50</td>\n",
       "      <td>5726.5</td>\n",
       "      <td>66.70</td>\n",
       "      <td>8586.9</td>\n",
       "      <td>2018</td>\n",
       "    </tr>\n",
       "    <tr>\n",
       "      <th>경기</th>\n",
       "      <td>847.2</td>\n",
       "      <td>8.60</td>\n",
       "      <td>3612.9</td>\n",
       "      <td>36.60</td>\n",
       "      <td>5401.2</td>\n",
       "      <td>54.80</td>\n",
       "      <td>9861.3</td>\n",
       "      <td>2018</td>\n",
       "    </tr>\n",
       "    <tr>\n",
       "      <th>인천</th>\n",
       "      <td>293.3</td>\n",
       "      <td>14.80</td>\n",
       "      <td>584.1</td>\n",
       "      <td>29.40</td>\n",
       "      <td>1107.7</td>\n",
       "      <td>55.80</td>\n",
       "      <td>1985.1</td>\n",
       "      <td>2018</td>\n",
       "    </tr>\n",
       "    <tr>\n",
       "      <th>2018소계</th>\n",
       "      <td>1980.4</td>\n",
       "      <td>9.69</td>\n",
       "      <td>6217.5</td>\n",
       "      <td>30.43</td>\n",
       "      <td>12235.4</td>\n",
       "      <td>59.88</td>\n",
       "      <td>20433.3</td>\n",
       "      <td>2018</td>\n",
       "    </tr>\n",
       "  </tbody>\n",
       "</table>\n",
       "</div>"
      ],
      "text/plain": [
       "            매립  매립비중(%)      소각  소각비중(%)      재활용  재활용비중(%)       총계    연도\n",
       "도시                                                                        \n",
       "서울       839.9     9.80  2020.5    23.50   5726.5     66.70   8586.9  2018\n",
       "경기       847.2     8.60  3612.9    36.60   5401.2     54.80   9861.3  2018\n",
       "인천       293.3    14.80   584.1    29.40   1107.7     55.80   1985.1  2018\n",
       "2018소계  1980.4     9.69  6217.5    30.43  12235.4     59.88  20433.3  2018"
      ]
     },
     "execution_count": 76,
     "metadata": {},
     "output_type": "execute_result"
    }
   ],
   "source": [
    "# 각 df 별로 연도 컬럼 추가 및 연도 기재\n",
    "df1['연도'] = 2018\n",
    "df1"
   ]
  },
  {
   "cell_type": "code",
   "execution_count": 77,
   "metadata": {},
   "outputs": [],
   "source": [
    "# 인덱스를 다시 리셋하기 \n",
    "df1.reset_index(inplace = True)"
   ]
  },
  {
   "cell_type": "code",
   "execution_count": 78,
   "metadata": {},
   "outputs": [
    {
     "data": {
      "text/html": [
       "<div>\n",
       "<style scoped>\n",
       "    .dataframe tbody tr th:only-of-type {\n",
       "        vertical-align: middle;\n",
       "    }\n",
       "\n",
       "    .dataframe tbody tr th {\n",
       "        vertical-align: top;\n",
       "    }\n",
       "\n",
       "    .dataframe thead th {\n",
       "        text-align: right;\n",
       "    }\n",
       "</style>\n",
       "<table border=\"1\" class=\"dataframe\">\n",
       "  <thead>\n",
       "    <tr style=\"text-align: right;\">\n",
       "      <th></th>\n",
       "      <th>도시</th>\n",
       "      <th>매립</th>\n",
       "      <th>매립비중(%)</th>\n",
       "      <th>소각</th>\n",
       "      <th>소각비중(%)</th>\n",
       "      <th>재활용</th>\n",
       "      <th>재활용비중(%)</th>\n",
       "      <th>총계</th>\n",
       "    </tr>\n",
       "  </thead>\n",
       "  <tbody>\n",
       "    <tr>\n",
       "      <th>0</th>\n",
       "      <td>서울</td>\n",
       "      <td>970.22</td>\n",
       "      <td>11.2</td>\n",
       "      <td>2164.71</td>\n",
       "      <td>25.0</td>\n",
       "      <td>5514.07</td>\n",
       "      <td>63.8</td>\n",
       "      <td>8649.00</td>\n",
       "    </tr>\n",
       "    <tr>\n",
       "      <th>1</th>\n",
       "      <td>경기</td>\n",
       "      <td>934.36</td>\n",
       "      <td>9.8</td>\n",
       "      <td>3627.18</td>\n",
       "      <td>38.1</td>\n",
       "      <td>4947.47</td>\n",
       "      <td>52.0</td>\n",
       "      <td>9509.01</td>\n",
       "    </tr>\n",
       "    <tr>\n",
       "      <th>2</th>\n",
       "      <td>인천</td>\n",
       "      <td>338.33</td>\n",
       "      <td>17.7</td>\n",
       "      <td>516.70</td>\n",
       "      <td>27.0</td>\n",
       "      <td>1059.22</td>\n",
       "      <td>55.3</td>\n",
       "      <td>1914.25</td>\n",
       "    </tr>\n",
       "  </tbody>\n",
       "</table>\n",
       "</div>"
      ],
      "text/plain": [
       "   도시      매립  매립비중(%)       소각  소각비중(%)      재활용  재활용비중(%)       총계\n",
       "0  서울  970.22     11.2  2164.71     25.0  5514.07      63.8  8649.00\n",
       "1  경기  934.36      9.8  3627.18     38.1  4947.47      52.0  9509.01\n",
       "2  인천  338.33     17.7   516.70     27.0  1059.22      55.3  1914.25"
      ]
     },
     "execution_count": 78,
     "metadata": {},
     "output_type": "execute_result"
    }
   ],
   "source": [
    "# 2019년 수도권 생활쓰레기 배출량\n",
    "df2 = pd.read_csv('./df2019_1.csv')\n",
    "df2"
   ]
  },
  {
   "cell_type": "code",
   "execution_count": 130,
   "metadata": {},
   "outputs": [
    {
     "data": {
      "text/plain": [
       "도시           object\n",
       "매립          float64\n",
       "매립비중(%)     float64\n",
       "소각          float64\n",
       "소각비중(%)     float64\n",
       "재활용         float64\n",
       "재활용비중(%)    float64\n",
       "총계          float64\n",
       "연도            int64\n",
       "dtype: object"
      ]
     },
     "execution_count": 130,
     "metadata": {},
     "output_type": "execute_result"
    }
   ],
   "source": [
    "df2.dtypes"
   ]
  },
  {
   "cell_type": "code",
   "execution_count": 79,
   "metadata": {},
   "outputs": [],
   "source": [
    "# df.set_index(keys, drop=True, append=False, inplace=False, verify_integrity=False) \n",
    "# 도시명을 새로운 인덱스로\n",
    "df2.set_index('도시', inplace = True)"
   ]
  },
  {
   "cell_type": "code",
   "execution_count": 80,
   "metadata": {},
   "outputs": [
    {
     "data": {
      "text/plain": [
       "매립      2242.91\n",
       "소각      6308.59\n",
       "재활용    11520.76\n",
       "dtype: float64"
      ]
     },
     "execution_count": 80,
     "metadata": {},
     "output_type": "execute_result"
    }
   ],
   "source": [
    "df2[['매립','소각','재활용']].sum(axis = 0) "
   ]
  },
  {
   "cell_type": "code",
   "execution_count": 81,
   "metadata": {},
   "outputs": [],
   "source": [
    "# df2.loc[\"ColTotal\", :] = df2.sum() \n",
    "df2.loc[\"2019소계\", :] = df2[['매립','소각','재활용', '총계']].sum() "
   ]
  },
  {
   "cell_type": "code",
   "execution_count": 82,
   "metadata": {},
   "outputs": [],
   "source": [
    "# 2019년 컬럼별 2019소계 및 비중\n",
    "df2.loc[('2019소계', '매립비중(%)')] = round(df2.loc['2019소계']['매립'] / df2.loc['2019소계']['총계'] * 100, 2)\n",
    "df2.loc[('2019소계', '소각비중(%)')] = round(df2.loc['2019소계']['소각'] / df2.loc['2019소계']['총계'] * 100, 2)\n",
    "df2.loc[('2019소계', '재활용비중(%)')] = round(df2.loc['2019소계']['재활용'] / df2.loc['2019소계']['총계'] * 100, 2)"
   ]
  },
  {
   "cell_type": "code",
   "execution_count": 83,
   "metadata": {},
   "outputs": [
    {
     "data": {
      "text/html": [
       "<div>\n",
       "<style scoped>\n",
       "    .dataframe tbody tr th:only-of-type {\n",
       "        vertical-align: middle;\n",
       "    }\n",
       "\n",
       "    .dataframe tbody tr th {\n",
       "        vertical-align: top;\n",
       "    }\n",
       "\n",
       "    .dataframe thead th {\n",
       "        text-align: right;\n",
       "    }\n",
       "</style>\n",
       "<table border=\"1\" class=\"dataframe\">\n",
       "  <thead>\n",
       "    <tr style=\"text-align: right;\">\n",
       "      <th></th>\n",
       "      <th>매립</th>\n",
       "      <th>매립비중(%)</th>\n",
       "      <th>소각</th>\n",
       "      <th>소각비중(%)</th>\n",
       "      <th>재활용</th>\n",
       "      <th>재활용비중(%)</th>\n",
       "      <th>총계</th>\n",
       "    </tr>\n",
       "    <tr>\n",
       "      <th>도시</th>\n",
       "      <th></th>\n",
       "      <th></th>\n",
       "      <th></th>\n",
       "      <th></th>\n",
       "      <th></th>\n",
       "      <th></th>\n",
       "      <th></th>\n",
       "    </tr>\n",
       "  </thead>\n",
       "  <tbody>\n",
       "    <tr>\n",
       "      <th>서울</th>\n",
       "      <td>970.22</td>\n",
       "      <td>11.20</td>\n",
       "      <td>2164.71</td>\n",
       "      <td>25.00</td>\n",
       "      <td>5514.07</td>\n",
       "      <td>63.8</td>\n",
       "      <td>8649.00</td>\n",
       "    </tr>\n",
       "    <tr>\n",
       "      <th>경기</th>\n",
       "      <td>934.36</td>\n",
       "      <td>9.80</td>\n",
       "      <td>3627.18</td>\n",
       "      <td>38.10</td>\n",
       "      <td>4947.47</td>\n",
       "      <td>52.0</td>\n",
       "      <td>9509.01</td>\n",
       "    </tr>\n",
       "    <tr>\n",
       "      <th>인천</th>\n",
       "      <td>338.33</td>\n",
       "      <td>17.70</td>\n",
       "      <td>516.70</td>\n",
       "      <td>27.00</td>\n",
       "      <td>1059.22</td>\n",
       "      <td>55.3</td>\n",
       "      <td>1914.25</td>\n",
       "    </tr>\n",
       "    <tr>\n",
       "      <th>2019소계</th>\n",
       "      <td>2242.91</td>\n",
       "      <td>11.17</td>\n",
       "      <td>6308.59</td>\n",
       "      <td>31.43</td>\n",
       "      <td>11520.76</td>\n",
       "      <td>57.4</td>\n",
       "      <td>20072.26</td>\n",
       "    </tr>\n",
       "  </tbody>\n",
       "</table>\n",
       "</div>"
      ],
      "text/plain": [
       "             매립  매립비중(%)       소각  소각비중(%)       재활용  재활용비중(%)        총계\n",
       "도시                                                                      \n",
       "서울       970.22    11.20  2164.71    25.00   5514.07      63.8   8649.00\n",
       "경기       934.36     9.80  3627.18    38.10   4947.47      52.0   9509.01\n",
       "인천       338.33    17.70   516.70    27.00   1059.22      55.3   1914.25\n",
       "2019소계  2242.91    11.17  6308.59    31.43  11520.76      57.4  20072.26"
      ]
     },
     "execution_count": 83,
     "metadata": {},
     "output_type": "execute_result"
    }
   ],
   "source": [
    "df2"
   ]
  },
  {
   "cell_type": "code",
   "execution_count": 84,
   "metadata": {},
   "outputs": [
    {
     "data": {
      "text/html": [
       "<div>\n",
       "<style scoped>\n",
       "    .dataframe tbody tr th:only-of-type {\n",
       "        vertical-align: middle;\n",
       "    }\n",
       "\n",
       "    .dataframe tbody tr th {\n",
       "        vertical-align: top;\n",
       "    }\n",
       "\n",
       "    .dataframe thead th {\n",
       "        text-align: right;\n",
       "    }\n",
       "</style>\n",
       "<table border=\"1\" class=\"dataframe\">\n",
       "  <thead>\n",
       "    <tr style=\"text-align: right;\">\n",
       "      <th></th>\n",
       "      <th>매립</th>\n",
       "      <th>매립비중(%)</th>\n",
       "      <th>소각</th>\n",
       "      <th>소각비중(%)</th>\n",
       "      <th>재활용</th>\n",
       "      <th>재활용비중(%)</th>\n",
       "      <th>총계</th>\n",
       "      <th>연도</th>\n",
       "    </tr>\n",
       "    <tr>\n",
       "      <th>도시</th>\n",
       "      <th></th>\n",
       "      <th></th>\n",
       "      <th></th>\n",
       "      <th></th>\n",
       "      <th></th>\n",
       "      <th></th>\n",
       "      <th></th>\n",
       "      <th></th>\n",
       "    </tr>\n",
       "  </thead>\n",
       "  <tbody>\n",
       "    <tr>\n",
       "      <th>서울</th>\n",
       "      <td>970.22</td>\n",
       "      <td>11.20</td>\n",
       "      <td>2164.71</td>\n",
       "      <td>25.00</td>\n",
       "      <td>5514.07</td>\n",
       "      <td>63.8</td>\n",
       "      <td>8649.00</td>\n",
       "      <td>2019</td>\n",
       "    </tr>\n",
       "    <tr>\n",
       "      <th>경기</th>\n",
       "      <td>934.36</td>\n",
       "      <td>9.80</td>\n",
       "      <td>3627.18</td>\n",
       "      <td>38.10</td>\n",
       "      <td>4947.47</td>\n",
       "      <td>52.0</td>\n",
       "      <td>9509.01</td>\n",
       "      <td>2019</td>\n",
       "    </tr>\n",
       "    <tr>\n",
       "      <th>인천</th>\n",
       "      <td>338.33</td>\n",
       "      <td>17.70</td>\n",
       "      <td>516.70</td>\n",
       "      <td>27.00</td>\n",
       "      <td>1059.22</td>\n",
       "      <td>55.3</td>\n",
       "      <td>1914.25</td>\n",
       "      <td>2019</td>\n",
       "    </tr>\n",
       "    <tr>\n",
       "      <th>2019소계</th>\n",
       "      <td>2242.91</td>\n",
       "      <td>11.17</td>\n",
       "      <td>6308.59</td>\n",
       "      <td>31.43</td>\n",
       "      <td>11520.76</td>\n",
       "      <td>57.4</td>\n",
       "      <td>20072.26</td>\n",
       "      <td>2019</td>\n",
       "    </tr>\n",
       "  </tbody>\n",
       "</table>\n",
       "</div>"
      ],
      "text/plain": [
       "             매립  매립비중(%)       소각  소각비중(%)       재활용  재활용비중(%)        총계    연도\n",
       "도시                                                                            \n",
       "서울       970.22    11.20  2164.71    25.00   5514.07      63.8   8649.00  2019\n",
       "경기       934.36     9.80  3627.18    38.10   4947.47      52.0   9509.01  2019\n",
       "인천       338.33    17.70   516.70    27.00   1059.22      55.3   1914.25  2019\n",
       "2019소계  2242.91    11.17  6308.59    31.43  11520.76      57.4  20072.26  2019"
      ]
     },
     "execution_count": 84,
     "metadata": {},
     "output_type": "execute_result"
    }
   ],
   "source": [
    "# 각 df 별로 연도 컬럼 추가 및 연도 기재\n",
    "df2['연도'] = 2019\n",
    "df2"
   ]
  },
  {
   "cell_type": "code",
   "execution_count": 85,
   "metadata": {},
   "outputs": [],
   "source": [
    "df2.reset_index(inplace = True)"
   ]
  },
  {
   "cell_type": "code",
   "execution_count": null,
   "metadata": {},
   "outputs": [],
   "source": []
  },
  {
   "cell_type": "code",
   "execution_count": 86,
   "metadata": {},
   "outputs": [
    {
     "data": {
      "text/html": [
       "<div>\n",
       "<style scoped>\n",
       "    .dataframe tbody tr th:only-of-type {\n",
       "        vertical-align: middle;\n",
       "    }\n",
       "\n",
       "    .dataframe tbody tr th {\n",
       "        vertical-align: top;\n",
       "    }\n",
       "\n",
       "    .dataframe thead th {\n",
       "        text-align: right;\n",
       "    }\n",
       "</style>\n",
       "<table border=\"1\" class=\"dataframe\">\n",
       "  <thead>\n",
       "    <tr style=\"text-align: right;\">\n",
       "      <th></th>\n",
       "      <th>도시</th>\n",
       "      <th>매립</th>\n",
       "      <th>매립비중(%)</th>\n",
       "      <th>소각</th>\n",
       "      <th>소각비중(%)</th>\n",
       "      <th>재활용</th>\n",
       "      <th>재활용비중(%)</th>\n",
       "      <th>총계</th>\n",
       "    </tr>\n",
       "  </thead>\n",
       "  <tbody>\n",
       "    <tr>\n",
       "      <th>0</th>\n",
       "      <td>서울</td>\n",
       "      <td>946.72</td>\n",
       "      <td>10.9</td>\n",
       "      <td>2185.66</td>\n",
       "      <td>25.1</td>\n",
       "      <td>5572.49</td>\n",
       "      <td>64.0</td>\n",
       "      <td>8704.87</td>\n",
       "    </tr>\n",
       "    <tr>\n",
       "      <th>1</th>\n",
       "      <td>경기</td>\n",
       "      <td>931.98</td>\n",
       "      <td>8.8</td>\n",
       "      <td>3851.90</td>\n",
       "      <td>36.2</td>\n",
       "      <td>5865.72</td>\n",
       "      <td>55.1</td>\n",
       "      <td>10649.60</td>\n",
       "    </tr>\n",
       "    <tr>\n",
       "      <th>2</th>\n",
       "      <td>인천</td>\n",
       "      <td>309.21</td>\n",
       "      <td>16.8</td>\n",
       "      <td>601.73</td>\n",
       "      <td>32.7</td>\n",
       "      <td>929.72</td>\n",
       "      <td>50.5</td>\n",
       "      <td>1840.66</td>\n",
       "    </tr>\n",
       "  </tbody>\n",
       "</table>\n",
       "</div>"
      ],
      "text/plain": [
       "   도시      매립  매립비중(%)       소각  소각비중(%)      재활용  재활용비중(%)        총계\n",
       "0  서울  946.72     10.9  2185.66     25.1  5572.49      64.0   8704.87\n",
       "1  경기  931.98      8.8  3851.90     36.2  5865.72      55.1  10649.60\n",
       "2  인천  309.21     16.8   601.73     32.7   929.72      50.5   1840.66"
      ]
     },
     "execution_count": 86,
     "metadata": {},
     "output_type": "execute_result"
    }
   ],
   "source": [
    "# 2020년 수도권 생활쓰레기 배출량\n",
    "df3 = pd.read_csv('./df2020.csv')\n",
    "df3"
   ]
  },
  {
   "cell_type": "code",
   "execution_count": 87,
   "metadata": {},
   "outputs": [],
   "source": [
    "# df.set_index(keys, drop=True, append=False, inplace=False, verify_integrity=False) \n",
    "# 도시명을 새로운 인덱스로\n",
    "df3.set_index('도시', inplace = True)"
   ]
  },
  {
   "cell_type": "code",
   "execution_count": 88,
   "metadata": {},
   "outputs": [
    {
     "data": {
      "text/plain": [
       "매립      2187.91\n",
       "소각      6639.29\n",
       "재활용    12367.93\n",
       "dtype: float64"
      ]
     },
     "execution_count": 88,
     "metadata": {},
     "output_type": "execute_result"
    }
   ],
   "source": [
    "df3[['매립','소각','재활용']].sum(axis = 0) "
   ]
  },
  {
   "cell_type": "code",
   "execution_count": 89,
   "metadata": {},
   "outputs": [],
   "source": [
    "# df3.loc[\"ColTotal\", :] = df3.sum() \n",
    "df3.loc[\"2019소계\", :] = df3[['매립','소각','재활용', '총계']].sum() "
   ]
  },
  {
   "cell_type": "code",
   "execution_count": 90,
   "metadata": {},
   "outputs": [],
   "source": [
    "# 2020년 컬럼별 2019소계 및 비중\n",
    "df3.loc[('2019소계', '매립비중(%)')] = round(df3.loc['2019소계']['매립'] / df3.loc['2019소계']['총계'] * 100, 2)\n",
    "df3.loc[('2019소계', '소각비중(%)')] = round(df3.loc['2019소계']['소각'] / df3.loc['2019소계']['총계'] * 100, 2)\n",
    "df3.loc[('2019소계', '재활용비중(%)')] = round(df3.loc['2019소계']['재활용'] / df3.loc['2019소계']['총계'] * 100, 2)"
   ]
  },
  {
   "cell_type": "code",
   "execution_count": 91,
   "metadata": {},
   "outputs": [
    {
     "data": {
      "text/html": [
       "<div>\n",
       "<style scoped>\n",
       "    .dataframe tbody tr th:only-of-type {\n",
       "        vertical-align: middle;\n",
       "    }\n",
       "\n",
       "    .dataframe tbody tr th {\n",
       "        vertical-align: top;\n",
       "    }\n",
       "\n",
       "    .dataframe thead th {\n",
       "        text-align: right;\n",
       "    }\n",
       "</style>\n",
       "<table border=\"1\" class=\"dataframe\">\n",
       "  <thead>\n",
       "    <tr style=\"text-align: right;\">\n",
       "      <th></th>\n",
       "      <th>매립</th>\n",
       "      <th>매립비중(%)</th>\n",
       "      <th>소각</th>\n",
       "      <th>소각비중(%)</th>\n",
       "      <th>재활용</th>\n",
       "      <th>재활용비중(%)</th>\n",
       "      <th>총계</th>\n",
       "      <th>연도</th>\n",
       "    </tr>\n",
       "    <tr>\n",
       "      <th>도시</th>\n",
       "      <th></th>\n",
       "      <th></th>\n",
       "      <th></th>\n",
       "      <th></th>\n",
       "      <th></th>\n",
       "      <th></th>\n",
       "      <th></th>\n",
       "      <th></th>\n",
       "    </tr>\n",
       "  </thead>\n",
       "  <tbody>\n",
       "    <tr>\n",
       "      <th>서울</th>\n",
       "      <td>946.72</td>\n",
       "      <td>10.90</td>\n",
       "      <td>2185.66</td>\n",
       "      <td>25.10</td>\n",
       "      <td>5572.49</td>\n",
       "      <td>64.00</td>\n",
       "      <td>8704.87</td>\n",
       "      <td>2020</td>\n",
       "    </tr>\n",
       "    <tr>\n",
       "      <th>경기</th>\n",
       "      <td>931.98</td>\n",
       "      <td>8.80</td>\n",
       "      <td>3851.90</td>\n",
       "      <td>36.20</td>\n",
       "      <td>5865.72</td>\n",
       "      <td>55.10</td>\n",
       "      <td>10649.60</td>\n",
       "      <td>2020</td>\n",
       "    </tr>\n",
       "    <tr>\n",
       "      <th>인천</th>\n",
       "      <td>309.21</td>\n",
       "      <td>16.80</td>\n",
       "      <td>601.73</td>\n",
       "      <td>32.70</td>\n",
       "      <td>929.72</td>\n",
       "      <td>50.50</td>\n",
       "      <td>1840.66</td>\n",
       "      <td>2020</td>\n",
       "    </tr>\n",
       "    <tr>\n",
       "      <th>2019소계</th>\n",
       "      <td>2187.91</td>\n",
       "      <td>10.32</td>\n",
       "      <td>6639.29</td>\n",
       "      <td>31.32</td>\n",
       "      <td>12367.93</td>\n",
       "      <td>58.35</td>\n",
       "      <td>21195.13</td>\n",
       "      <td>2020</td>\n",
       "    </tr>\n",
       "  </tbody>\n",
       "</table>\n",
       "</div>"
      ],
      "text/plain": [
       "             매립  매립비중(%)       소각  소각비중(%)       재활용  재활용비중(%)        총계    연도\n",
       "도시                                                                            \n",
       "서울       946.72    10.90  2185.66    25.10   5572.49     64.00   8704.87  2020\n",
       "경기       931.98     8.80  3851.90    36.20   5865.72     55.10  10649.60  2020\n",
       "인천       309.21    16.80   601.73    32.70    929.72     50.50   1840.66  2020\n",
       "2019소계  2187.91    10.32  6639.29    31.32  12367.93     58.35  21195.13  2020"
      ]
     },
     "execution_count": 91,
     "metadata": {},
     "output_type": "execute_result"
    }
   ],
   "source": [
    "# 각 df 별로 연도 컬럼 추가 및 연도 기재\n",
    "df3['연도'] = 2020\n",
    "df3"
   ]
  },
  {
   "cell_type": "code",
   "execution_count": 92,
   "metadata": {},
   "outputs": [],
   "source": [
    "df3.reset_index(inplace = True)"
   ]
  },
  {
   "cell_type": "code",
   "execution_count": null,
   "metadata": {},
   "outputs": [],
   "source": []
  },
  {
   "cell_type": "code",
   "execution_count": 93,
   "metadata": {},
   "outputs": [
    {
     "data": {
      "text/html": [
       "<div>\n",
       "<style scoped>\n",
       "    .dataframe tbody tr th:only-of-type {\n",
       "        vertical-align: middle;\n",
       "    }\n",
       "\n",
       "    .dataframe tbody tr th {\n",
       "        vertical-align: top;\n",
       "    }\n",
       "\n",
       "    .dataframe thead th {\n",
       "        text-align: right;\n",
       "    }\n",
       "</style>\n",
       "<table border=\"1\" class=\"dataframe\">\n",
       "  <thead>\n",
       "    <tr style=\"text-align: right;\">\n",
       "      <th></th>\n",
       "      <th>Unnamed: 0</th>\n",
       "      <th>도시</th>\n",
       "      <th>면적</th>\n",
       "      <th>인구</th>\n",
       "    </tr>\n",
       "  </thead>\n",
       "  <tbody>\n",
       "    <tr>\n",
       "      <th>0</th>\n",
       "      <td>1</td>\n",
       "      <td>서울</td>\n",
       "      <td>605.24</td>\n",
       "      <td>9911088</td>\n",
       "    </tr>\n",
       "    <tr>\n",
       "      <th>1</th>\n",
       "      <td>4</td>\n",
       "      <td>인천</td>\n",
       "      <td>1063.99</td>\n",
       "      <td>3010476</td>\n",
       "    </tr>\n",
       "    <tr>\n",
       "      <th>2</th>\n",
       "      <td>9</td>\n",
       "      <td>경기</td>\n",
       "      <td>10195.27</td>\n",
       "      <td>13774748</td>\n",
       "    </tr>\n",
       "  </tbody>\n",
       "</table>\n",
       "</div>"
      ],
      "text/plain": [
       "   Unnamed: 0  도시        면적        인구\n",
       "0           1  서울    605.24   9911088\n",
       "1           4  인천   1063.99   3010476\n",
       "2           9  경기  10195.27  13774748"
      ]
     },
     "execution_count": 93,
     "metadata": {},
     "output_type": "execute_result"
    }
   ],
   "source": [
    "# 인구데이터 불러오기 \n",
    "df_peo = pd.read_csv('./df_people.csv')\n",
    "df_peo"
   ]
  },
  {
   "cell_type": "code",
   "execution_count": 94,
   "metadata": {},
   "outputs": [],
   "source": [
    "# 인구데이터 불필요한 컬럼 삭제 \n",
    "df_peo.drop(df_peo[['Unnamed: 0']], axis = 1, inplace = True) "
   ]
  },
  {
   "cell_type": "code",
   "execution_count": 362,
   "metadata": {},
   "outputs": [
    {
     "data": {
      "text/html": [
       "<div>\n",
       "<style scoped>\n",
       "    .dataframe tbody tr th:only-of-type {\n",
       "        vertical-align: middle;\n",
       "    }\n",
       "\n",
       "    .dataframe tbody tr th {\n",
       "        vertical-align: top;\n",
       "    }\n",
       "\n",
       "    .dataframe thead th {\n",
       "        text-align: right;\n",
       "    }\n",
       "</style>\n",
       "<table border=\"1\" class=\"dataframe\">\n",
       "  <thead>\n",
       "    <tr style=\"text-align: right;\">\n",
       "      <th></th>\n",
       "      <th>도시</th>\n",
       "      <th>면적</th>\n",
       "      <th>인구</th>\n",
       "    </tr>\n",
       "  </thead>\n",
       "  <tbody>\n",
       "    <tr>\n",
       "      <th>0</th>\n",
       "      <td>서울</td>\n",
       "      <td>605.24</td>\n",
       "      <td>9911088</td>\n",
       "    </tr>\n",
       "    <tr>\n",
       "      <th>1</th>\n",
       "      <td>인천</td>\n",
       "      <td>1063.99</td>\n",
       "      <td>3010476</td>\n",
       "    </tr>\n",
       "    <tr>\n",
       "      <th>2</th>\n",
       "      <td>경기</td>\n",
       "      <td>10195.27</td>\n",
       "      <td>13774748</td>\n",
       "    </tr>\n",
       "  </tbody>\n",
       "</table>\n",
       "</div>"
      ],
      "text/plain": [
       "   도시        면적        인구\n",
       "0  서울    605.24   9911088\n",
       "1  인천   1063.99   3010476\n",
       "2  경기  10195.27  13774748"
      ]
     },
     "execution_count": 362,
     "metadata": {},
     "output_type": "execute_result"
    }
   ],
   "source": [
    "df_peo"
   ]
  },
  {
   "cell_type": "code",
   "execution_count": 369,
   "metadata": {},
   "outputs": [],
   "source": [
    "# 수도권 전체 인구\n",
    "df_all = round(df_peo['인구'].sum() / 10000, 2) "
   ]
  },
  {
   "cell_type": "code",
   "execution_count": 370,
   "metadata": {},
   "outputs": [
    {
     "data": {
      "text/plain": [
       "2669.63"
      ]
     },
     "execution_count": 370,
     "metadata": {},
     "output_type": "execute_result"
    }
   ],
   "source": [
    "df_all"
   ]
  },
  {
   "cell_type": "code",
   "execution_count": 353,
   "metadata": {},
   "outputs": [],
   "source": [
    "# 인천시 인구만 추출\n",
    "df_inc = round(df_peo.loc[1]['인구'] / 10000, 2)"
   ]
  },
  {
   "cell_type": "code",
   "execution_count": 371,
   "metadata": {},
   "outputs": [],
   "source": [
    "# 서울, 경기도 인구 계산\n",
    "df_sk = df_all - df_inc  "
   ]
  },
  {
   "cell_type": "code",
   "execution_count": 372,
   "metadata": {},
   "outputs": [
    {
     "data": {
      "text/plain": [
       "2368.58"
      ]
     },
     "execution_count": 372,
     "metadata": {},
     "output_type": "execute_result"
    }
   ],
   "source": [
    "# 서울, 경기도 인구(만명)\n",
    "df_sk"
   ]
  },
  {
   "cell_type": "code",
   "execution_count": 96,
   "metadata": {},
   "outputs": [],
   "source": [
    "# 3개의 df concat으로 합치기 \n",
    "df = pd.concat([df1, df2, df3], axis = 0)"
   ]
  },
  {
   "cell_type": "code",
   "execution_count": 261,
   "metadata": {},
   "outputs": [
    {
     "data": {
      "text/html": [
       "<div>\n",
       "<style scoped>\n",
       "    .dataframe tbody tr th:only-of-type {\n",
       "        vertical-align: middle;\n",
       "    }\n",
       "\n",
       "    .dataframe tbody tr th {\n",
       "        vertical-align: top;\n",
       "    }\n",
       "\n",
       "    .dataframe thead th {\n",
       "        text-align: right;\n",
       "    }\n",
       "</style>\n",
       "<table border=\"1\" class=\"dataframe\">\n",
       "  <thead>\n",
       "    <tr style=\"text-align: right;\">\n",
       "      <th></th>\n",
       "      <th>도시</th>\n",
       "      <th>매립</th>\n",
       "      <th>매립비중(%)</th>\n",
       "      <th>소각</th>\n",
       "      <th>소각비중(%)</th>\n",
       "      <th>재활용</th>\n",
       "      <th>재활용비중(%)</th>\n",
       "      <th>총계</th>\n",
       "      <th>연도</th>\n",
       "    </tr>\n",
       "  </thead>\n",
       "  <tbody>\n",
       "    <tr>\n",
       "      <th>0</th>\n",
       "      <td>서울</td>\n",
       "      <td>839.90</td>\n",
       "      <td>9.80</td>\n",
       "      <td>2020.50</td>\n",
       "      <td>23.50</td>\n",
       "      <td>5726.50</td>\n",
       "      <td>66.70</td>\n",
       "      <td>8586.90</td>\n",
       "      <td>2018</td>\n",
       "    </tr>\n",
       "    <tr>\n",
       "      <th>1</th>\n",
       "      <td>경기</td>\n",
       "      <td>847.20</td>\n",
       "      <td>8.60</td>\n",
       "      <td>3612.90</td>\n",
       "      <td>36.60</td>\n",
       "      <td>5401.20</td>\n",
       "      <td>54.80</td>\n",
       "      <td>9861.30</td>\n",
       "      <td>2018</td>\n",
       "    </tr>\n",
       "    <tr>\n",
       "      <th>2</th>\n",
       "      <td>인천</td>\n",
       "      <td>293.30</td>\n",
       "      <td>14.80</td>\n",
       "      <td>584.10</td>\n",
       "      <td>29.40</td>\n",
       "      <td>1107.70</td>\n",
       "      <td>55.80</td>\n",
       "      <td>1985.10</td>\n",
       "      <td>2018</td>\n",
       "    </tr>\n",
       "    <tr>\n",
       "      <th>3</th>\n",
       "      <td>2018소계</td>\n",
       "      <td>1980.40</td>\n",
       "      <td>9.69</td>\n",
       "      <td>6217.50</td>\n",
       "      <td>30.43</td>\n",
       "      <td>12235.40</td>\n",
       "      <td>59.88</td>\n",
       "      <td>20433.30</td>\n",
       "      <td>2018</td>\n",
       "    </tr>\n",
       "    <tr>\n",
       "      <th>0</th>\n",
       "      <td>서울</td>\n",
       "      <td>970.22</td>\n",
       "      <td>11.20</td>\n",
       "      <td>2164.71</td>\n",
       "      <td>25.00</td>\n",
       "      <td>5514.07</td>\n",
       "      <td>63.80</td>\n",
       "      <td>8649.00</td>\n",
       "      <td>2019</td>\n",
       "    </tr>\n",
       "    <tr>\n",
       "      <th>1</th>\n",
       "      <td>경기</td>\n",
       "      <td>934.36</td>\n",
       "      <td>9.80</td>\n",
       "      <td>3627.18</td>\n",
       "      <td>38.10</td>\n",
       "      <td>4947.47</td>\n",
       "      <td>52.00</td>\n",
       "      <td>9509.01</td>\n",
       "      <td>2019</td>\n",
       "    </tr>\n",
       "    <tr>\n",
       "      <th>2</th>\n",
       "      <td>인천</td>\n",
       "      <td>338.33</td>\n",
       "      <td>17.70</td>\n",
       "      <td>516.70</td>\n",
       "      <td>27.00</td>\n",
       "      <td>1059.22</td>\n",
       "      <td>55.30</td>\n",
       "      <td>1914.25</td>\n",
       "      <td>2019</td>\n",
       "    </tr>\n",
       "    <tr>\n",
       "      <th>3</th>\n",
       "      <td>2019소계</td>\n",
       "      <td>2242.91</td>\n",
       "      <td>11.17</td>\n",
       "      <td>6308.59</td>\n",
       "      <td>31.43</td>\n",
       "      <td>11520.76</td>\n",
       "      <td>57.40</td>\n",
       "      <td>20072.26</td>\n",
       "      <td>2019</td>\n",
       "    </tr>\n",
       "    <tr>\n",
       "      <th>0</th>\n",
       "      <td>서울</td>\n",
       "      <td>946.72</td>\n",
       "      <td>10.90</td>\n",
       "      <td>2185.66</td>\n",
       "      <td>25.10</td>\n",
       "      <td>5572.49</td>\n",
       "      <td>64.00</td>\n",
       "      <td>8704.87</td>\n",
       "      <td>2020</td>\n",
       "    </tr>\n",
       "    <tr>\n",
       "      <th>1</th>\n",
       "      <td>경기</td>\n",
       "      <td>931.98</td>\n",
       "      <td>8.80</td>\n",
       "      <td>3851.90</td>\n",
       "      <td>36.20</td>\n",
       "      <td>5865.72</td>\n",
       "      <td>55.10</td>\n",
       "      <td>10649.60</td>\n",
       "      <td>2020</td>\n",
       "    </tr>\n",
       "    <tr>\n",
       "      <th>2</th>\n",
       "      <td>인천</td>\n",
       "      <td>309.21</td>\n",
       "      <td>16.80</td>\n",
       "      <td>601.73</td>\n",
       "      <td>32.70</td>\n",
       "      <td>929.72</td>\n",
       "      <td>50.50</td>\n",
       "      <td>1840.66</td>\n",
       "      <td>2020</td>\n",
       "    </tr>\n",
       "    <tr>\n",
       "      <th>3</th>\n",
       "      <td>2019소계</td>\n",
       "      <td>2187.91</td>\n",
       "      <td>10.32</td>\n",
       "      <td>6639.29</td>\n",
       "      <td>31.32</td>\n",
       "      <td>12367.93</td>\n",
       "      <td>58.35</td>\n",
       "      <td>21195.13</td>\n",
       "      <td>2020</td>\n",
       "    </tr>\n",
       "  </tbody>\n",
       "</table>\n",
       "</div>"
      ],
      "text/plain": [
       "       도시       매립  매립비중(%)       소각  소각비중(%)       재활용  재활용비중(%)        총계  \\\n",
       "0      서울   839.90     9.80  2020.50    23.50   5726.50     66.70   8586.90   \n",
       "1      경기   847.20     8.60  3612.90    36.60   5401.20     54.80   9861.30   \n",
       "2      인천   293.30    14.80   584.10    29.40   1107.70     55.80   1985.10   \n",
       "3  2018소계  1980.40     9.69  6217.50    30.43  12235.40     59.88  20433.30   \n",
       "0      서울   970.22    11.20  2164.71    25.00   5514.07     63.80   8649.00   \n",
       "1      경기   934.36     9.80  3627.18    38.10   4947.47     52.00   9509.01   \n",
       "2      인천   338.33    17.70   516.70    27.00   1059.22     55.30   1914.25   \n",
       "3  2019소계  2242.91    11.17  6308.59    31.43  11520.76     57.40  20072.26   \n",
       "0      서울   946.72    10.90  2185.66    25.10   5572.49     64.00   8704.87   \n",
       "1      경기   931.98     8.80  3851.90    36.20   5865.72     55.10  10649.60   \n",
       "2      인천   309.21    16.80   601.73    32.70    929.72     50.50   1840.66   \n",
       "3  2019소계  2187.91    10.32  6639.29    31.32  12367.93     58.35  21195.13   \n",
       "\n",
       "     연도  \n",
       "0  2018  \n",
       "1  2018  \n",
       "2  2018  \n",
       "3  2018  \n",
       "0  2019  \n",
       "1  2019  \n",
       "2  2019  \n",
       "3  2019  \n",
       "0  2020  \n",
       "1  2020  \n",
       "2  2020  \n",
       "3  2020  "
      ]
     },
     "execution_count": 261,
     "metadata": {},
     "output_type": "execute_result"
    }
   ],
   "source": [
    "df"
   ]
  },
  {
   "cell_type": "code",
   "execution_count": 97,
   "metadata": {},
   "outputs": [
    {
     "data": {
      "text/html": [
       "<div>\n",
       "<style scoped>\n",
       "    .dataframe tbody tr th:only-of-type {\n",
       "        vertical-align: middle;\n",
       "    }\n",
       "\n",
       "    .dataframe tbody tr th {\n",
       "        vertical-align: top;\n",
       "    }\n",
       "\n",
       "    .dataframe thead th {\n",
       "        text-align: right;\n",
       "    }\n",
       "</style>\n",
       "<table border=\"1\" class=\"dataframe\">\n",
       "  <thead>\n",
       "    <tr style=\"text-align: right;\">\n",
       "      <th></th>\n",
       "      <th>연도</th>\n",
       "      <th>도시</th>\n",
       "      <th>매립</th>\n",
       "      <th>매립비중(%)</th>\n",
       "      <th>소각</th>\n",
       "      <th>소각비중(%)</th>\n",
       "      <th>재활용</th>\n",
       "      <th>재활용비중(%)</th>\n",
       "      <th>총계</th>\n",
       "    </tr>\n",
       "  </thead>\n",
       "  <tbody>\n",
       "    <tr>\n",
       "      <th>0</th>\n",
       "      <td>2018</td>\n",
       "      <td>서울</td>\n",
       "      <td>839.90</td>\n",
       "      <td>9.80</td>\n",
       "      <td>2020.50</td>\n",
       "      <td>23.50</td>\n",
       "      <td>5726.50</td>\n",
       "      <td>66.70</td>\n",
       "      <td>8586.90</td>\n",
       "    </tr>\n",
       "    <tr>\n",
       "      <th>1</th>\n",
       "      <td>2018</td>\n",
       "      <td>경기</td>\n",
       "      <td>847.20</td>\n",
       "      <td>8.60</td>\n",
       "      <td>3612.90</td>\n",
       "      <td>36.60</td>\n",
       "      <td>5401.20</td>\n",
       "      <td>54.80</td>\n",
       "      <td>9861.30</td>\n",
       "    </tr>\n",
       "    <tr>\n",
       "      <th>2</th>\n",
       "      <td>2018</td>\n",
       "      <td>인천</td>\n",
       "      <td>293.30</td>\n",
       "      <td>14.80</td>\n",
       "      <td>584.10</td>\n",
       "      <td>29.40</td>\n",
       "      <td>1107.70</td>\n",
       "      <td>55.80</td>\n",
       "      <td>1985.10</td>\n",
       "    </tr>\n",
       "    <tr>\n",
       "      <th>3</th>\n",
       "      <td>2018</td>\n",
       "      <td>2018소계</td>\n",
       "      <td>1980.40</td>\n",
       "      <td>9.69</td>\n",
       "      <td>6217.50</td>\n",
       "      <td>30.43</td>\n",
       "      <td>12235.40</td>\n",
       "      <td>59.88</td>\n",
       "      <td>20433.30</td>\n",
       "    </tr>\n",
       "    <tr>\n",
       "      <th>0</th>\n",
       "      <td>2019</td>\n",
       "      <td>서울</td>\n",
       "      <td>970.22</td>\n",
       "      <td>11.20</td>\n",
       "      <td>2164.71</td>\n",
       "      <td>25.00</td>\n",
       "      <td>5514.07</td>\n",
       "      <td>63.80</td>\n",
       "      <td>8649.00</td>\n",
       "    </tr>\n",
       "    <tr>\n",
       "      <th>1</th>\n",
       "      <td>2019</td>\n",
       "      <td>경기</td>\n",
       "      <td>934.36</td>\n",
       "      <td>9.80</td>\n",
       "      <td>3627.18</td>\n",
       "      <td>38.10</td>\n",
       "      <td>4947.47</td>\n",
       "      <td>52.00</td>\n",
       "      <td>9509.01</td>\n",
       "    </tr>\n",
       "    <tr>\n",
       "      <th>2</th>\n",
       "      <td>2019</td>\n",
       "      <td>인천</td>\n",
       "      <td>338.33</td>\n",
       "      <td>17.70</td>\n",
       "      <td>516.70</td>\n",
       "      <td>27.00</td>\n",
       "      <td>1059.22</td>\n",
       "      <td>55.30</td>\n",
       "      <td>1914.25</td>\n",
       "    </tr>\n",
       "    <tr>\n",
       "      <th>3</th>\n",
       "      <td>2019</td>\n",
       "      <td>2019소계</td>\n",
       "      <td>2242.91</td>\n",
       "      <td>11.17</td>\n",
       "      <td>6308.59</td>\n",
       "      <td>31.43</td>\n",
       "      <td>11520.76</td>\n",
       "      <td>57.40</td>\n",
       "      <td>20072.26</td>\n",
       "    </tr>\n",
       "    <tr>\n",
       "      <th>0</th>\n",
       "      <td>2020</td>\n",
       "      <td>서울</td>\n",
       "      <td>946.72</td>\n",
       "      <td>10.90</td>\n",
       "      <td>2185.66</td>\n",
       "      <td>25.10</td>\n",
       "      <td>5572.49</td>\n",
       "      <td>64.00</td>\n",
       "      <td>8704.87</td>\n",
       "    </tr>\n",
       "    <tr>\n",
       "      <th>1</th>\n",
       "      <td>2020</td>\n",
       "      <td>경기</td>\n",
       "      <td>931.98</td>\n",
       "      <td>8.80</td>\n",
       "      <td>3851.90</td>\n",
       "      <td>36.20</td>\n",
       "      <td>5865.72</td>\n",
       "      <td>55.10</td>\n",
       "      <td>10649.60</td>\n",
       "    </tr>\n",
       "    <tr>\n",
       "      <th>2</th>\n",
       "      <td>2020</td>\n",
       "      <td>인천</td>\n",
       "      <td>309.21</td>\n",
       "      <td>16.80</td>\n",
       "      <td>601.73</td>\n",
       "      <td>32.70</td>\n",
       "      <td>929.72</td>\n",
       "      <td>50.50</td>\n",
       "      <td>1840.66</td>\n",
       "    </tr>\n",
       "    <tr>\n",
       "      <th>3</th>\n",
       "      <td>2020</td>\n",
       "      <td>2019소계</td>\n",
       "      <td>2187.91</td>\n",
       "      <td>10.32</td>\n",
       "      <td>6639.29</td>\n",
       "      <td>31.32</td>\n",
       "      <td>12367.93</td>\n",
       "      <td>58.35</td>\n",
       "      <td>21195.13</td>\n",
       "    </tr>\n",
       "  </tbody>\n",
       "</table>\n",
       "</div>"
      ],
      "text/plain": [
       "     연도      도시       매립  매립비중(%)       소각  소각비중(%)       재활용  재활용비중(%)  \\\n",
       "0  2018      서울   839.90     9.80  2020.50    23.50   5726.50     66.70   \n",
       "1  2018      경기   847.20     8.60  3612.90    36.60   5401.20     54.80   \n",
       "2  2018      인천   293.30    14.80   584.10    29.40   1107.70     55.80   \n",
       "3  2018  2018소계  1980.40     9.69  6217.50    30.43  12235.40     59.88   \n",
       "0  2019      서울   970.22    11.20  2164.71    25.00   5514.07     63.80   \n",
       "1  2019      경기   934.36     9.80  3627.18    38.10   4947.47     52.00   \n",
       "2  2019      인천   338.33    17.70   516.70    27.00   1059.22     55.30   \n",
       "3  2019  2019소계  2242.91    11.17  6308.59    31.43  11520.76     57.40   \n",
       "0  2020      서울   946.72    10.90  2185.66    25.10   5572.49     64.00   \n",
       "1  2020      경기   931.98     8.80  3851.90    36.20   5865.72     55.10   \n",
       "2  2020      인천   309.21    16.80   601.73    32.70    929.72     50.50   \n",
       "3  2020  2019소계  2187.91    10.32  6639.29    31.32  12367.93     58.35   \n",
       "\n",
       "         총계  \n",
       "0   8586.90  \n",
       "1   9861.30  \n",
       "2   1985.10  \n",
       "3  20433.30  \n",
       "0   8649.00  \n",
       "1   9509.01  \n",
       "2   1914.25  \n",
       "3  20072.26  \n",
       "0   8704.87  \n",
       "1  10649.60  \n",
       "2   1840.66  \n",
       "3  21195.13  "
      ]
     },
     "execution_count": 97,
     "metadata": {},
     "output_type": "execute_result"
    }
   ],
   "source": [
    "# 컬럼 중에 연도를 제일 앞으로 위치 변경 \n",
    "df = df[['연도','도시','매립','매립비중(%)','소각','소각비중(%)', '재활용','재활용비중(%)','총계']]\n",
    "df"
   ]
  },
  {
   "cell_type": "code",
   "execution_count": 98,
   "metadata": {},
   "outputs": [
    {
     "data": {
      "text/html": [
       "<div>\n",
       "<style scoped>\n",
       "    .dataframe tbody tr th:only-of-type {\n",
       "        vertical-align: middle;\n",
       "    }\n",
       "\n",
       "    .dataframe tbody tr th {\n",
       "        vertical-align: top;\n",
       "    }\n",
       "\n",
       "    .dataframe thead th {\n",
       "        text-align: right;\n",
       "    }\n",
       "</style>\n",
       "<table border=\"1\" class=\"dataframe\">\n",
       "  <thead>\n",
       "    <tr style=\"text-align: right;\">\n",
       "      <th></th>\n",
       "      <th>연도</th>\n",
       "      <th>도시</th>\n",
       "      <th>매립</th>\n",
       "      <th>매립비중(%)</th>\n",
       "      <th>소각</th>\n",
       "      <th>소각비중(%)</th>\n",
       "      <th>재활용</th>\n",
       "      <th>재활용비중(%)</th>\n",
       "      <th>총계</th>\n",
       "    </tr>\n",
       "  </thead>\n",
       "  <tbody>\n",
       "    <tr>\n",
       "      <th>0</th>\n",
       "      <td>2018</td>\n",
       "      <td>서울</td>\n",
       "      <td>839.90</td>\n",
       "      <td>9.8</td>\n",
       "      <td>2020.50</td>\n",
       "      <td>23.5</td>\n",
       "      <td>5726.50</td>\n",
       "      <td>66.7</td>\n",
       "      <td>8586.90</td>\n",
       "    </tr>\n",
       "    <tr>\n",
       "      <th>0</th>\n",
       "      <td>2019</td>\n",
       "      <td>서울</td>\n",
       "      <td>970.22</td>\n",
       "      <td>11.2</td>\n",
       "      <td>2164.71</td>\n",
       "      <td>25.0</td>\n",
       "      <td>5514.07</td>\n",
       "      <td>63.8</td>\n",
       "      <td>8649.00</td>\n",
       "    </tr>\n",
       "    <tr>\n",
       "      <th>0</th>\n",
       "      <td>2020</td>\n",
       "      <td>서울</td>\n",
       "      <td>946.72</td>\n",
       "      <td>10.9</td>\n",
       "      <td>2185.66</td>\n",
       "      <td>25.1</td>\n",
       "      <td>5572.49</td>\n",
       "      <td>64.0</td>\n",
       "      <td>8704.87</td>\n",
       "    </tr>\n",
       "  </tbody>\n",
       "</table>\n",
       "</div>"
      ],
      "text/plain": [
       "     연도  도시      매립  매립비중(%)       소각  소각비중(%)      재활용  재활용비중(%)       총계\n",
       "0  2018  서울  839.90      9.8  2020.50     23.5  5726.50      66.7  8586.90\n",
       "0  2019  서울  970.22     11.2  2164.71     25.0  5514.07      63.8  8649.00\n",
       "0  2020  서울  946.72     10.9  2185.66     25.1  5572.49      64.0  8704.87"
      ]
     },
     "execution_count": 98,
     "metadata": {},
     "output_type": "execute_result"
    }
   ],
   "source": [
    "# 서울데이터만 추출\n",
    "df_s = df[(df['도시'] == '서울')] \n",
    "df_s"
   ]
  },
  {
   "cell_type": "markdown",
   "metadata": {},
   "source": [
    "#### 6. 각 도시별 1년 평균 배출량 데이터 구하기 "
   ]
  },
  {
   "cell_type": "code",
   "execution_count": 99,
   "metadata": {},
   "outputs": [
    {
     "name": "stderr",
     "output_type": "stream",
     "text": [
      "C:\\Users\\Playdata\\AppData\\Local\\Temp\\ipykernel_1004\\2834383727.py:1: SettingWithCopyWarning: \n",
      "A value is trying to be set on a copy of a slice from a DataFrame.\n",
      "Try using .loc[row_indexer,col_indexer] = value instead\n",
      "\n",
      "See the caveats in the documentation: https://pandas.pydata.org/pandas-docs/stable/user_guide/indexing.html#returning-a-view-versus-a-copy\n",
      "  df_s['1년총계'] = df_s['총계'] * 365\n",
      "C:\\Users\\Playdata\\AppData\\Local\\Temp\\ipykernel_1004\\2834383727.py:2: SettingWithCopyWarning: \n",
      "A value is trying to be set on a copy of a slice from a DataFrame.\n",
      "Try using .loc[row_indexer,col_indexer] = value instead\n",
      "\n",
      "See the caveats in the documentation: https://pandas.pydata.org/pandas-docs/stable/user_guide/indexing.html#returning-a-view-versus-a-copy\n",
      "  df_s['1년매립'] = df_s['매립'] * 365\n"
     ]
    }
   ],
   "source": [
    "df_s['1년총계'] = df_s['총계'] * 365 \n",
    "df_s['1년매립'] = df_s['매립'] * 365 "
   ]
  },
  {
   "cell_type": "code",
   "execution_count": 100,
   "metadata": {},
   "outputs": [
    {
     "data": {
      "text/html": [
       "<div>\n",
       "<style scoped>\n",
       "    .dataframe tbody tr th:only-of-type {\n",
       "        vertical-align: middle;\n",
       "    }\n",
       "\n",
       "    .dataframe tbody tr th {\n",
       "        vertical-align: top;\n",
       "    }\n",
       "\n",
       "    .dataframe thead th {\n",
       "        text-align: right;\n",
       "    }\n",
       "</style>\n",
       "<table border=\"1\" class=\"dataframe\">\n",
       "  <thead>\n",
       "    <tr style=\"text-align: right;\">\n",
       "      <th></th>\n",
       "      <th>연도</th>\n",
       "      <th>도시</th>\n",
       "      <th>매립</th>\n",
       "      <th>매립비중(%)</th>\n",
       "      <th>소각</th>\n",
       "      <th>소각비중(%)</th>\n",
       "      <th>재활용</th>\n",
       "      <th>재활용비중(%)</th>\n",
       "      <th>총계</th>\n",
       "      <th>1년총계</th>\n",
       "      <th>1년매립</th>\n",
       "    </tr>\n",
       "  </thead>\n",
       "  <tbody>\n",
       "    <tr>\n",
       "      <th>0</th>\n",
       "      <td>2018</td>\n",
       "      <td>서울</td>\n",
       "      <td>839.90</td>\n",
       "      <td>9.8</td>\n",
       "      <td>2020.50</td>\n",
       "      <td>23.5</td>\n",
       "      <td>5726.50</td>\n",
       "      <td>66.7</td>\n",
       "      <td>8586.90</td>\n",
       "      <td>3134218.50</td>\n",
       "      <td>306563.5</td>\n",
       "    </tr>\n",
       "    <tr>\n",
       "      <th>0</th>\n",
       "      <td>2019</td>\n",
       "      <td>서울</td>\n",
       "      <td>970.22</td>\n",
       "      <td>11.2</td>\n",
       "      <td>2164.71</td>\n",
       "      <td>25.0</td>\n",
       "      <td>5514.07</td>\n",
       "      <td>63.8</td>\n",
       "      <td>8649.00</td>\n",
       "      <td>3156885.00</td>\n",
       "      <td>354130.3</td>\n",
       "    </tr>\n",
       "    <tr>\n",
       "      <th>0</th>\n",
       "      <td>2020</td>\n",
       "      <td>서울</td>\n",
       "      <td>946.72</td>\n",
       "      <td>10.9</td>\n",
       "      <td>2185.66</td>\n",
       "      <td>25.1</td>\n",
       "      <td>5572.49</td>\n",
       "      <td>64.0</td>\n",
       "      <td>8704.87</td>\n",
       "      <td>3177277.55</td>\n",
       "      <td>345552.8</td>\n",
       "    </tr>\n",
       "  </tbody>\n",
       "</table>\n",
       "</div>"
      ],
      "text/plain": [
       "     연도  도시      매립  매립비중(%)       소각  소각비중(%)      재활용  재활용비중(%)       총계  \\\n",
       "0  2018  서울  839.90      9.8  2020.50     23.5  5726.50      66.7  8586.90   \n",
       "0  2019  서울  970.22     11.2  2164.71     25.0  5514.07      63.8  8649.00   \n",
       "0  2020  서울  946.72     10.9  2185.66     25.1  5572.49      64.0  8704.87   \n",
       "\n",
       "         1년총계      1년매립  \n",
       "0  3134218.50  306563.5  \n",
       "0  3156885.00  354130.3  \n",
       "0  3177277.55  345552.8  "
      ]
     },
     "execution_count": 100,
     "metadata": {},
     "output_type": "execute_result"
    }
   ],
   "source": [
    "df_s"
   ]
  },
  {
   "cell_type": "code",
   "execution_count": 116,
   "metadata": {},
   "outputs": [],
   "source": [
    "# 서울시 생활폐기물 3년 평균\n",
    "df_s_mean = round(df_s.groupby('도시')[['매립','소각','재활용','총계','1년총계','1년매립']].mean(), 2)"
   ]
  },
  {
   "cell_type": "code",
   "execution_count": 117,
   "metadata": {},
   "outputs": [],
   "source": [
    "df_s_mean = df_s_mean.reset_index() "
   ]
  },
  {
   "cell_type": "code",
   "execution_count": 118,
   "metadata": {},
   "outputs": [
    {
     "data": {
      "text/html": [
       "<div>\n",
       "<style scoped>\n",
       "    .dataframe tbody tr th:only-of-type {\n",
       "        vertical-align: middle;\n",
       "    }\n",
       "\n",
       "    .dataframe tbody tr th {\n",
       "        vertical-align: top;\n",
       "    }\n",
       "\n",
       "    .dataframe thead th {\n",
       "        text-align: right;\n",
       "    }\n",
       "</style>\n",
       "<table border=\"1\" class=\"dataframe\">\n",
       "  <thead>\n",
       "    <tr style=\"text-align: right;\">\n",
       "      <th></th>\n",
       "      <th>도시</th>\n",
       "      <th>매립</th>\n",
       "      <th>소각</th>\n",
       "      <th>재활용</th>\n",
       "      <th>총계</th>\n",
       "      <th>1년총계</th>\n",
       "      <th>1년매립</th>\n",
       "    </tr>\n",
       "  </thead>\n",
       "  <tbody>\n",
       "    <tr>\n",
       "      <th>0</th>\n",
       "      <td>서울</td>\n",
       "      <td>918.95</td>\n",
       "      <td>2123.62</td>\n",
       "      <td>5604.35</td>\n",
       "      <td>8646.92</td>\n",
       "      <td>3156127.02</td>\n",
       "      <td>335415.53</td>\n",
       "    </tr>\n",
       "  </tbody>\n",
       "</table>\n",
       "</div>"
      ],
      "text/plain": [
       "   도시      매립       소각      재활용       총계        1년총계       1년매립\n",
       "0  서울  918.95  2123.62  5604.35  8646.92  3156127.02  335415.53"
      ]
     },
     "execution_count": 118,
     "metadata": {},
     "output_type": "execute_result"
    }
   ],
   "source": [
    "# 서울시 1년 평균 데이터\n",
    "df_s_mean"
   ]
  },
  {
   "cell_type": "code",
   "execution_count": 121,
   "metadata": {},
   "outputs": [],
   "source": [
    "df_s_m = df_s_mean.rename(columns = {'1년총계':'1년평균'})"
   ]
  },
  {
   "cell_type": "code",
   "execution_count": 122,
   "metadata": {},
   "outputs": [
    {
     "data": {
      "text/html": [
       "<div>\n",
       "<style scoped>\n",
       "    .dataframe tbody tr th:only-of-type {\n",
       "        vertical-align: middle;\n",
       "    }\n",
       "\n",
       "    .dataframe tbody tr th {\n",
       "        vertical-align: top;\n",
       "    }\n",
       "\n",
       "    .dataframe thead th {\n",
       "        text-align: right;\n",
       "    }\n",
       "</style>\n",
       "<table border=\"1\" class=\"dataframe\">\n",
       "  <thead>\n",
       "    <tr style=\"text-align: right;\">\n",
       "      <th></th>\n",
       "      <th>도시</th>\n",
       "      <th>매립</th>\n",
       "      <th>소각</th>\n",
       "      <th>재활용</th>\n",
       "      <th>총계</th>\n",
       "      <th>1년평균</th>\n",
       "      <th>1년매립</th>\n",
       "    </tr>\n",
       "  </thead>\n",
       "  <tbody>\n",
       "    <tr>\n",
       "      <th>0</th>\n",
       "      <td>서울</td>\n",
       "      <td>918.95</td>\n",
       "      <td>2123.62</td>\n",
       "      <td>5604.35</td>\n",
       "      <td>8646.92</td>\n",
       "      <td>3156127.02</td>\n",
       "      <td>335415.53</td>\n",
       "    </tr>\n",
       "  </tbody>\n",
       "</table>\n",
       "</div>"
      ],
      "text/plain": [
       "   도시      매립       소각      재활용       총계        1년평균       1년매립\n",
       "0  서울  918.95  2123.62  5604.35  8646.92  3156127.02  335415.53"
      ]
     },
     "execution_count": 122,
     "metadata": {},
     "output_type": "execute_result"
    }
   ],
   "source": [
    "df_s_m"
   ]
  },
  {
   "cell_type": "code",
   "execution_count": 125,
   "metadata": {},
   "outputs": [
    {
     "data": {
      "text/html": [
       "<div>\n",
       "<style scoped>\n",
       "    .dataframe tbody tr th:only-of-type {\n",
       "        vertical-align: middle;\n",
       "    }\n",
       "\n",
       "    .dataframe tbody tr th {\n",
       "        vertical-align: top;\n",
       "    }\n",
       "\n",
       "    .dataframe thead th {\n",
       "        text-align: right;\n",
       "    }\n",
       "</style>\n",
       "<table border=\"1\" class=\"dataframe\">\n",
       "  <thead>\n",
       "    <tr style=\"text-align: right;\">\n",
       "      <th></th>\n",
       "      <th>연도</th>\n",
       "      <th>도시</th>\n",
       "      <th>매립</th>\n",
       "      <th>매립비중(%)</th>\n",
       "      <th>소각</th>\n",
       "      <th>소각비중(%)</th>\n",
       "      <th>재활용</th>\n",
       "      <th>재활용비중(%)</th>\n",
       "      <th>총계</th>\n",
       "    </tr>\n",
       "  </thead>\n",
       "  <tbody>\n",
       "    <tr>\n",
       "      <th>2</th>\n",
       "      <td>2018</td>\n",
       "      <td>인천</td>\n",
       "      <td>293.30</td>\n",
       "      <td>14.8</td>\n",
       "      <td>584.10</td>\n",
       "      <td>29.4</td>\n",
       "      <td>1107.70</td>\n",
       "      <td>55.8</td>\n",
       "      <td>1985.10</td>\n",
       "    </tr>\n",
       "    <tr>\n",
       "      <th>2</th>\n",
       "      <td>2019</td>\n",
       "      <td>인천</td>\n",
       "      <td>338.33</td>\n",
       "      <td>17.7</td>\n",
       "      <td>516.70</td>\n",
       "      <td>27.0</td>\n",
       "      <td>1059.22</td>\n",
       "      <td>55.3</td>\n",
       "      <td>1914.25</td>\n",
       "    </tr>\n",
       "    <tr>\n",
       "      <th>2</th>\n",
       "      <td>2020</td>\n",
       "      <td>인천</td>\n",
       "      <td>309.21</td>\n",
       "      <td>16.8</td>\n",
       "      <td>601.73</td>\n",
       "      <td>32.7</td>\n",
       "      <td>929.72</td>\n",
       "      <td>50.5</td>\n",
       "      <td>1840.66</td>\n",
       "    </tr>\n",
       "  </tbody>\n",
       "</table>\n",
       "</div>"
      ],
      "text/plain": [
       "     연도  도시      매립  매립비중(%)      소각  소각비중(%)      재활용  재활용비중(%)       총계\n",
       "2  2018  인천  293.30     14.8  584.10     29.4  1107.70      55.8  1985.10\n",
       "2  2019  인천  338.33     17.7  516.70     27.0  1059.22      55.3  1914.25\n",
       "2  2020  인천  309.21     16.8  601.73     32.7   929.72      50.5  1840.66"
      ]
     },
     "execution_count": 125,
     "metadata": {},
     "output_type": "execute_result"
    }
   ],
   "source": [
    "# 인천데이터만 추출\n",
    "df_i = df[(df['도시'] == '인천')] \n",
    "df_i"
   ]
  },
  {
   "cell_type": "code",
   "execution_count": 126,
   "metadata": {},
   "outputs": [
    {
     "name": "stderr",
     "output_type": "stream",
     "text": [
      "C:\\Users\\Playdata\\AppData\\Local\\Temp\\ipykernel_1004\\1498793066.py:1: SettingWithCopyWarning: \n",
      "A value is trying to be set on a copy of a slice from a DataFrame.\n",
      "Try using .loc[row_indexer,col_indexer] = value instead\n",
      "\n",
      "See the caveats in the documentation: https://pandas.pydata.org/pandas-docs/stable/user_guide/indexing.html#returning-a-view-versus-a-copy\n",
      "  df_i['1년총계'] = df_i['총계'] * 365\n",
      "C:\\Users\\Playdata\\AppData\\Local\\Temp\\ipykernel_1004\\1498793066.py:2: SettingWithCopyWarning: \n",
      "A value is trying to be set on a copy of a slice from a DataFrame.\n",
      "Try using .loc[row_indexer,col_indexer] = value instead\n",
      "\n",
      "See the caveats in the documentation: https://pandas.pydata.org/pandas-docs/stable/user_guide/indexing.html#returning-a-view-versus-a-copy\n",
      "  df_i['1년매립'] = df_i['매립'] * 365\n"
     ]
    }
   ],
   "source": [
    "df_i['1년총계'] = df_i['총계'] * 365 \n",
    "df_i['1년매립'] = df_i['매립'] * 365 "
   ]
  },
  {
   "cell_type": "code",
   "execution_count": 127,
   "metadata": {},
   "outputs": [
    {
     "data": {
      "text/html": [
       "<div>\n",
       "<style scoped>\n",
       "    .dataframe tbody tr th:only-of-type {\n",
       "        vertical-align: middle;\n",
       "    }\n",
       "\n",
       "    .dataframe tbody tr th {\n",
       "        vertical-align: top;\n",
       "    }\n",
       "\n",
       "    .dataframe thead th {\n",
       "        text-align: right;\n",
       "    }\n",
       "</style>\n",
       "<table border=\"1\" class=\"dataframe\">\n",
       "  <thead>\n",
       "    <tr style=\"text-align: right;\">\n",
       "      <th></th>\n",
       "      <th>연도</th>\n",
       "      <th>도시</th>\n",
       "      <th>매립</th>\n",
       "      <th>매립비중(%)</th>\n",
       "      <th>소각</th>\n",
       "      <th>소각비중(%)</th>\n",
       "      <th>재활용</th>\n",
       "      <th>재활용비중(%)</th>\n",
       "      <th>총계</th>\n",
       "      <th>1년총계</th>\n",
       "      <th>1년매립</th>\n",
       "    </tr>\n",
       "  </thead>\n",
       "  <tbody>\n",
       "    <tr>\n",
       "      <th>2</th>\n",
       "      <td>2018</td>\n",
       "      <td>인천</td>\n",
       "      <td>293.30</td>\n",
       "      <td>14.8</td>\n",
       "      <td>584.10</td>\n",
       "      <td>29.4</td>\n",
       "      <td>1107.70</td>\n",
       "      <td>55.8</td>\n",
       "      <td>1985.10</td>\n",
       "      <td>724561.50</td>\n",
       "      <td>107054.50</td>\n",
       "    </tr>\n",
       "    <tr>\n",
       "      <th>2</th>\n",
       "      <td>2019</td>\n",
       "      <td>인천</td>\n",
       "      <td>338.33</td>\n",
       "      <td>17.7</td>\n",
       "      <td>516.70</td>\n",
       "      <td>27.0</td>\n",
       "      <td>1059.22</td>\n",
       "      <td>55.3</td>\n",
       "      <td>1914.25</td>\n",
       "      <td>698701.25</td>\n",
       "      <td>123490.45</td>\n",
       "    </tr>\n",
       "    <tr>\n",
       "      <th>2</th>\n",
       "      <td>2020</td>\n",
       "      <td>인천</td>\n",
       "      <td>309.21</td>\n",
       "      <td>16.8</td>\n",
       "      <td>601.73</td>\n",
       "      <td>32.7</td>\n",
       "      <td>929.72</td>\n",
       "      <td>50.5</td>\n",
       "      <td>1840.66</td>\n",
       "      <td>671840.90</td>\n",
       "      <td>112861.65</td>\n",
       "    </tr>\n",
       "  </tbody>\n",
       "</table>\n",
       "</div>"
      ],
      "text/plain": [
       "     연도  도시      매립  매립비중(%)      소각  소각비중(%)      재활용  재활용비중(%)       총계  \\\n",
       "2  2018  인천  293.30     14.8  584.10     29.4  1107.70      55.8  1985.10   \n",
       "2  2019  인천  338.33     17.7  516.70     27.0  1059.22      55.3  1914.25   \n",
       "2  2020  인천  309.21     16.8  601.73     32.7   929.72      50.5  1840.66   \n",
       "\n",
       "        1년총계       1년매립  \n",
       "2  724561.50  107054.50  \n",
       "2  698701.25  123490.45  \n",
       "2  671840.90  112861.65  "
      ]
     },
     "execution_count": 127,
     "metadata": {},
     "output_type": "execute_result"
    }
   ],
   "source": [
    "df_i"
   ]
  },
  {
   "cell_type": "code",
   "execution_count": 128,
   "metadata": {},
   "outputs": [],
   "source": [
    "# 인천시 생활폐기물 3년 평균\n",
    "df_i_mean = round(df_i.groupby('도시')[['매립','소각','재활용','총계','1년총계','1년매립']].mean(), 2)"
   ]
  },
  {
   "cell_type": "code",
   "execution_count": 129,
   "metadata": {},
   "outputs": [],
   "source": [
    "df_i_mean = df_i_mean.reset_index()"
   ]
  },
  {
   "cell_type": "code",
   "execution_count": 130,
   "metadata": {},
   "outputs": [
    {
     "data": {
      "text/html": [
       "<div>\n",
       "<style scoped>\n",
       "    .dataframe tbody tr th:only-of-type {\n",
       "        vertical-align: middle;\n",
       "    }\n",
       "\n",
       "    .dataframe tbody tr th {\n",
       "        vertical-align: top;\n",
       "    }\n",
       "\n",
       "    .dataframe thead th {\n",
       "        text-align: right;\n",
       "    }\n",
       "</style>\n",
       "<table border=\"1\" class=\"dataframe\">\n",
       "  <thead>\n",
       "    <tr style=\"text-align: right;\">\n",
       "      <th></th>\n",
       "      <th>도시</th>\n",
       "      <th>매립</th>\n",
       "      <th>소각</th>\n",
       "      <th>재활용</th>\n",
       "      <th>총계</th>\n",
       "      <th>1년총계</th>\n",
       "      <th>1년매립</th>\n",
       "    </tr>\n",
       "  </thead>\n",
       "  <tbody>\n",
       "    <tr>\n",
       "      <th>0</th>\n",
       "      <td>인천</td>\n",
       "      <td>313.61</td>\n",
       "      <td>567.51</td>\n",
       "      <td>1032.21</td>\n",
       "      <td>1913.34</td>\n",
       "      <td>698367.88</td>\n",
       "      <td>114468.87</td>\n",
       "    </tr>\n",
       "  </tbody>\n",
       "</table>\n",
       "</div>"
      ],
      "text/plain": [
       "   도시      매립      소각      재활용       총계       1년총계       1년매립\n",
       "0  인천  313.61  567.51  1032.21  1913.34  698367.88  114468.87"
      ]
     },
     "execution_count": 130,
     "metadata": {},
     "output_type": "execute_result"
    }
   ],
   "source": [
    "df_i_mean"
   ]
  },
  {
   "cell_type": "code",
   "execution_count": 131,
   "metadata": {},
   "outputs": [],
   "source": [
    "df_i_m = df_i_mean.rename(columns = {'1년총계':'1년평균'})"
   ]
  },
  {
   "cell_type": "code",
   "execution_count": 132,
   "metadata": {},
   "outputs": [
    {
     "data": {
      "text/html": [
       "<div>\n",
       "<style scoped>\n",
       "    .dataframe tbody tr th:only-of-type {\n",
       "        vertical-align: middle;\n",
       "    }\n",
       "\n",
       "    .dataframe tbody tr th {\n",
       "        vertical-align: top;\n",
       "    }\n",
       "\n",
       "    .dataframe thead th {\n",
       "        text-align: right;\n",
       "    }\n",
       "</style>\n",
       "<table border=\"1\" class=\"dataframe\">\n",
       "  <thead>\n",
       "    <tr style=\"text-align: right;\">\n",
       "      <th></th>\n",
       "      <th>도시</th>\n",
       "      <th>매립</th>\n",
       "      <th>소각</th>\n",
       "      <th>재활용</th>\n",
       "      <th>총계</th>\n",
       "      <th>1년평균</th>\n",
       "      <th>1년매립</th>\n",
       "    </tr>\n",
       "  </thead>\n",
       "  <tbody>\n",
       "    <tr>\n",
       "      <th>0</th>\n",
       "      <td>인천</td>\n",
       "      <td>313.61</td>\n",
       "      <td>567.51</td>\n",
       "      <td>1032.21</td>\n",
       "      <td>1913.34</td>\n",
       "      <td>698367.88</td>\n",
       "      <td>114468.87</td>\n",
       "    </tr>\n",
       "  </tbody>\n",
       "</table>\n",
       "</div>"
      ],
      "text/plain": [
       "   도시      매립      소각      재활용       총계       1년평균       1년매립\n",
       "0  인천  313.61  567.51  1032.21  1913.34  698367.88  114468.87"
      ]
     },
     "execution_count": 132,
     "metadata": {},
     "output_type": "execute_result"
    }
   ],
   "source": [
    "df_i_m"
   ]
  },
  {
   "cell_type": "code",
   "execution_count": null,
   "metadata": {},
   "outputs": [],
   "source": []
  },
  {
   "cell_type": "code",
   "execution_count": 133,
   "metadata": {},
   "outputs": [
    {
     "data": {
      "text/html": [
       "<div>\n",
       "<style scoped>\n",
       "    .dataframe tbody tr th:only-of-type {\n",
       "        vertical-align: middle;\n",
       "    }\n",
       "\n",
       "    .dataframe tbody tr th {\n",
       "        vertical-align: top;\n",
       "    }\n",
       "\n",
       "    .dataframe thead th {\n",
       "        text-align: right;\n",
       "    }\n",
       "</style>\n",
       "<table border=\"1\" class=\"dataframe\">\n",
       "  <thead>\n",
       "    <tr style=\"text-align: right;\">\n",
       "      <th></th>\n",
       "      <th>연도</th>\n",
       "      <th>도시</th>\n",
       "      <th>매립</th>\n",
       "      <th>매립비중(%)</th>\n",
       "      <th>소각</th>\n",
       "      <th>소각비중(%)</th>\n",
       "      <th>재활용</th>\n",
       "      <th>재활용비중(%)</th>\n",
       "      <th>총계</th>\n",
       "    </tr>\n",
       "  </thead>\n",
       "  <tbody>\n",
       "    <tr>\n",
       "      <th>1</th>\n",
       "      <td>2018</td>\n",
       "      <td>경기</td>\n",
       "      <td>847.20</td>\n",
       "      <td>8.6</td>\n",
       "      <td>3612.90</td>\n",
       "      <td>36.6</td>\n",
       "      <td>5401.20</td>\n",
       "      <td>54.8</td>\n",
       "      <td>9861.30</td>\n",
       "    </tr>\n",
       "    <tr>\n",
       "      <th>1</th>\n",
       "      <td>2019</td>\n",
       "      <td>경기</td>\n",
       "      <td>934.36</td>\n",
       "      <td>9.8</td>\n",
       "      <td>3627.18</td>\n",
       "      <td>38.1</td>\n",
       "      <td>4947.47</td>\n",
       "      <td>52.0</td>\n",
       "      <td>9509.01</td>\n",
       "    </tr>\n",
       "    <tr>\n",
       "      <th>1</th>\n",
       "      <td>2020</td>\n",
       "      <td>경기</td>\n",
       "      <td>931.98</td>\n",
       "      <td>8.8</td>\n",
       "      <td>3851.90</td>\n",
       "      <td>36.2</td>\n",
       "      <td>5865.72</td>\n",
       "      <td>55.1</td>\n",
       "      <td>10649.60</td>\n",
       "    </tr>\n",
       "  </tbody>\n",
       "</table>\n",
       "</div>"
      ],
      "text/plain": [
       "     연도  도시      매립  매립비중(%)       소각  소각비중(%)      재활용  재활용비중(%)        총계\n",
       "1  2018  경기  847.20      8.6  3612.90     36.6  5401.20      54.8   9861.30\n",
       "1  2019  경기  934.36      9.8  3627.18     38.1  4947.47      52.0   9509.01\n",
       "1  2020  경기  931.98      8.8  3851.90     36.2  5865.72      55.1  10649.60"
      ]
     },
     "execution_count": 133,
     "metadata": {},
     "output_type": "execute_result"
    }
   ],
   "source": [
    "# 경기 데이터만 추출\n",
    "df_g = df[(df['도시'] == '경기')] \n",
    "df_g"
   ]
  },
  {
   "cell_type": "code",
   "execution_count": 134,
   "metadata": {},
   "outputs": [
    {
     "name": "stderr",
     "output_type": "stream",
     "text": [
      "C:\\Users\\Playdata\\AppData\\Local\\Temp\\ipykernel_1004\\3203187594.py:1: SettingWithCopyWarning: \n",
      "A value is trying to be set on a copy of a slice from a DataFrame.\n",
      "Try using .loc[row_indexer,col_indexer] = value instead\n",
      "\n",
      "See the caveats in the documentation: https://pandas.pydata.org/pandas-docs/stable/user_guide/indexing.html#returning-a-view-versus-a-copy\n",
      "  df_g['1년총계'] = df_g['총계'] * 365\n",
      "C:\\Users\\Playdata\\AppData\\Local\\Temp\\ipykernel_1004\\3203187594.py:2: SettingWithCopyWarning: \n",
      "A value is trying to be set on a copy of a slice from a DataFrame.\n",
      "Try using .loc[row_indexer,col_indexer] = value instead\n",
      "\n",
      "See the caveats in the documentation: https://pandas.pydata.org/pandas-docs/stable/user_guide/indexing.html#returning-a-view-versus-a-copy\n",
      "  df_g['1년매립'] = df_g['매립'] * 365\n"
     ]
    }
   ],
   "source": [
    "df_g['1년총계'] = df_g['총계'] * 365 \n",
    "df_g['1년매립'] = df_g['매립'] * 365 "
   ]
  },
  {
   "cell_type": "code",
   "execution_count": 135,
   "metadata": {},
   "outputs": [],
   "source": [
    "# 경기도 생활폐기물 3년 평균\n",
    "df_g_mean = round(df_g.groupby('도시')[['매립','소각','재활용','총계','1년총계','1년매립']].mean(), 2)"
   ]
  },
  {
   "cell_type": "code",
   "execution_count": 136,
   "metadata": {},
   "outputs": [],
   "source": [
    "df_g_mean = df_g_mean.reset_index()"
   ]
  },
  {
   "cell_type": "code",
   "execution_count": 137,
   "metadata": {},
   "outputs": [],
   "source": [
    "df_g_m = df_g_mean.rename(columns = {'1년총계':'1년평균'})"
   ]
  },
  {
   "cell_type": "code",
   "execution_count": 138,
   "metadata": {},
   "outputs": [
    {
     "data": {
      "text/html": [
       "<div>\n",
       "<style scoped>\n",
       "    .dataframe tbody tr th:only-of-type {\n",
       "        vertical-align: middle;\n",
       "    }\n",
       "\n",
       "    .dataframe tbody tr th {\n",
       "        vertical-align: top;\n",
       "    }\n",
       "\n",
       "    .dataframe thead th {\n",
       "        text-align: right;\n",
       "    }\n",
       "</style>\n",
       "<table border=\"1\" class=\"dataframe\">\n",
       "  <thead>\n",
       "    <tr style=\"text-align: right;\">\n",
       "      <th></th>\n",
       "      <th>도시</th>\n",
       "      <th>매립</th>\n",
       "      <th>소각</th>\n",
       "      <th>재활용</th>\n",
       "      <th>총계</th>\n",
       "      <th>1년평균</th>\n",
       "      <th>1년매립</th>\n",
       "    </tr>\n",
       "  </thead>\n",
       "  <tbody>\n",
       "    <tr>\n",
       "      <th>0</th>\n",
       "      <td>경기</td>\n",
       "      <td>904.51</td>\n",
       "      <td>3697.33</td>\n",
       "      <td>5404.8</td>\n",
       "      <td>10006.64</td>\n",
       "      <td>3652422.38</td>\n",
       "      <td>330147.37</td>\n",
       "    </tr>\n",
       "  </tbody>\n",
       "</table>\n",
       "</div>"
      ],
      "text/plain": [
       "   도시      매립       소각     재활용        총계        1년평균       1년매립\n",
       "0  경기  904.51  3697.33  5404.8  10006.64  3652422.38  330147.37"
      ]
     },
     "execution_count": 138,
     "metadata": {},
     "output_type": "execute_result"
    }
   ],
   "source": [
    "df_g_m"
   ]
  },
  {
   "cell_type": "code",
   "execution_count": 197,
   "metadata": {},
   "outputs": [],
   "source": [
    "# 지자체별 평균 배출량 합치기 \n",
    "df_m = pd.concat([df_s_m, df_i_m, df_g_m], axis = 0)"
   ]
  },
  {
   "cell_type": "code",
   "execution_count": 198,
   "metadata": {},
   "outputs": [],
   "source": [
    "# 행 label 이름 변경\n",
    "df_m =df_m.set_axis(labels=[0,1,2],axis=0)"
   ]
  },
  {
   "cell_type": "code",
   "execution_count": 199,
   "metadata": {},
   "outputs": [
    {
     "data": {
      "text/html": [
       "<div>\n",
       "<style scoped>\n",
       "    .dataframe tbody tr th:only-of-type {\n",
       "        vertical-align: middle;\n",
       "    }\n",
       "\n",
       "    .dataframe tbody tr th {\n",
       "        vertical-align: top;\n",
       "    }\n",
       "\n",
       "    .dataframe thead th {\n",
       "        text-align: right;\n",
       "    }\n",
       "</style>\n",
       "<table border=\"1\" class=\"dataframe\">\n",
       "  <thead>\n",
       "    <tr style=\"text-align: right;\">\n",
       "      <th></th>\n",
       "      <th>도시</th>\n",
       "      <th>매립</th>\n",
       "      <th>소각</th>\n",
       "      <th>재활용</th>\n",
       "      <th>총계</th>\n",
       "      <th>1년평균</th>\n",
       "      <th>1년매립</th>\n",
       "    </tr>\n",
       "  </thead>\n",
       "  <tbody>\n",
       "    <tr>\n",
       "      <th>0</th>\n",
       "      <td>서울</td>\n",
       "      <td>918.95</td>\n",
       "      <td>2123.62</td>\n",
       "      <td>5604.35</td>\n",
       "      <td>8646.92</td>\n",
       "      <td>3156127.02</td>\n",
       "      <td>335415.53</td>\n",
       "    </tr>\n",
       "    <tr>\n",
       "      <th>1</th>\n",
       "      <td>인천</td>\n",
       "      <td>313.61</td>\n",
       "      <td>567.51</td>\n",
       "      <td>1032.21</td>\n",
       "      <td>1913.34</td>\n",
       "      <td>698367.88</td>\n",
       "      <td>114468.87</td>\n",
       "    </tr>\n",
       "    <tr>\n",
       "      <th>2</th>\n",
       "      <td>경기</td>\n",
       "      <td>904.51</td>\n",
       "      <td>3697.33</td>\n",
       "      <td>5404.80</td>\n",
       "      <td>10006.64</td>\n",
       "      <td>3652422.38</td>\n",
       "      <td>330147.37</td>\n",
       "    </tr>\n",
       "  </tbody>\n",
       "</table>\n",
       "</div>"
      ],
      "text/plain": [
       "   도시      매립       소각      재활용        총계        1년평균       1년매립\n",
       "0  서울  918.95  2123.62  5604.35   8646.92  3156127.02  335415.53\n",
       "1  인천  313.61   567.51  1032.21   1913.34   698367.88  114468.87\n",
       "2  경기  904.51  3697.33  5404.80  10006.64  3652422.38  330147.37"
      ]
     },
     "execution_count": 199,
     "metadata": {},
     "output_type": "execute_result"
    }
   ],
   "source": [
    "df_m"
   ]
  },
  {
   "cell_type": "code",
   "execution_count": 200,
   "metadata": {},
   "outputs": [],
   "source": [
    "# 평균 데이터와 인구데이터 합치기 .join()\n",
    "df_mp = df_m.join(df_peo.set_index('도시'),on='도시')"
   ]
  },
  {
   "cell_type": "code",
   "execution_count": 201,
   "metadata": {},
   "outputs": [
    {
     "data": {
      "text/html": [
       "<div>\n",
       "<style scoped>\n",
       "    .dataframe tbody tr th:only-of-type {\n",
       "        vertical-align: middle;\n",
       "    }\n",
       "\n",
       "    .dataframe tbody tr th {\n",
       "        vertical-align: top;\n",
       "    }\n",
       "\n",
       "    .dataframe thead th {\n",
       "        text-align: right;\n",
       "    }\n",
       "</style>\n",
       "<table border=\"1\" class=\"dataframe\">\n",
       "  <thead>\n",
       "    <tr style=\"text-align: right;\">\n",
       "      <th></th>\n",
       "      <th>도시</th>\n",
       "      <th>매립</th>\n",
       "      <th>소각</th>\n",
       "      <th>재활용</th>\n",
       "      <th>총계</th>\n",
       "      <th>1년평균</th>\n",
       "      <th>1년매립</th>\n",
       "      <th>면적</th>\n",
       "      <th>인구</th>\n",
       "    </tr>\n",
       "  </thead>\n",
       "  <tbody>\n",
       "    <tr>\n",
       "      <th>0</th>\n",
       "      <td>서울</td>\n",
       "      <td>918.95</td>\n",
       "      <td>2123.62</td>\n",
       "      <td>5604.35</td>\n",
       "      <td>8646.92</td>\n",
       "      <td>3156127.02</td>\n",
       "      <td>335415.53</td>\n",
       "      <td>605.24</td>\n",
       "      <td>9911088</td>\n",
       "    </tr>\n",
       "    <tr>\n",
       "      <th>1</th>\n",
       "      <td>인천</td>\n",
       "      <td>313.61</td>\n",
       "      <td>567.51</td>\n",
       "      <td>1032.21</td>\n",
       "      <td>1913.34</td>\n",
       "      <td>698367.88</td>\n",
       "      <td>114468.87</td>\n",
       "      <td>1063.99</td>\n",
       "      <td>3010476</td>\n",
       "    </tr>\n",
       "    <tr>\n",
       "      <th>2</th>\n",
       "      <td>경기</td>\n",
       "      <td>904.51</td>\n",
       "      <td>3697.33</td>\n",
       "      <td>5404.80</td>\n",
       "      <td>10006.64</td>\n",
       "      <td>3652422.38</td>\n",
       "      <td>330147.37</td>\n",
       "      <td>10195.27</td>\n",
       "      <td>13774748</td>\n",
       "    </tr>\n",
       "  </tbody>\n",
       "</table>\n",
       "</div>"
      ],
      "text/plain": [
       "   도시      매립       소각      재활용        총계        1년평균       1년매립        면적  \\\n",
       "0  서울  918.95  2123.62  5604.35   8646.92  3156127.02  335415.53    605.24   \n",
       "1  인천  313.61   567.51  1032.21   1913.34   698367.88  114468.87   1063.99   \n",
       "2  경기  904.51  3697.33  5404.80  10006.64  3652422.38  330147.37  10195.27   \n",
       "\n",
       "         인구  \n",
       "0   9911088  \n",
       "1   3010476  \n",
       "2  13774748  "
      ]
     },
     "execution_count": 201,
     "metadata": {},
     "output_type": "execute_result"
    }
   ],
   "source": [
    "df_mp"
   ]
  },
  {
   "cell_type": "markdown",
   "metadata": {},
   "source": [
    "#### 7. 1인당 배출량 구해보기 "
   ]
  },
  {
   "cell_type": "code",
   "execution_count": 202,
   "metadata": {},
   "outputs": [],
   "source": [
    "# df_mp['인당배출량(일/kg)'] = df_mp.loc[0][['1년매입']] / df_mp.loc[0][['1년매립']]\n",
    "df_mp['1인배출량(일/kg)'] = round(df_mp.apply(lambda x: (x['총계'] / x['인구']) * 1000, axis = 'columns'), 2)\n",
    "df_mp['1인배출량(년/kg)'] = round(df_mp.apply(lambda x: (x['1년평균'] / x['인구']) * 1000, axis = 'columns'), 2)\n",
    "\n",
    "df_mp['1인매립량(일/kg)'] = round(df_mp.apply(lambda x: (x['매립'] / x['인구']) * 1000, axis = 'columns'), 2)\n",
    "df_mp['1인매립량(년/kg)'] = round(df_mp.apply(lambda x: (x['1년매립'] / x['인구']) * 1000, axis = 'columns'), 2)\n"
   ]
  },
  {
   "cell_type": "code",
   "execution_count": 209,
   "metadata": {},
   "outputs": [
    {
     "data": {
      "text/html": [
       "<div>\n",
       "<style scoped>\n",
       "    .dataframe tbody tr th:only-of-type {\n",
       "        vertical-align: middle;\n",
       "    }\n",
       "\n",
       "    .dataframe tbody tr th {\n",
       "        vertical-align: top;\n",
       "    }\n",
       "\n",
       "    .dataframe thead th {\n",
       "        text-align: right;\n",
       "    }\n",
       "</style>\n",
       "<table border=\"1\" class=\"dataframe\">\n",
       "  <thead>\n",
       "    <tr style=\"text-align: right;\">\n",
       "      <th></th>\n",
       "      <th>도시</th>\n",
       "      <th>매립</th>\n",
       "      <th>소각</th>\n",
       "      <th>재활용</th>\n",
       "      <th>총계</th>\n",
       "      <th>1년평균</th>\n",
       "      <th>1년매립</th>\n",
       "      <th>면적</th>\n",
       "      <th>인구</th>\n",
       "      <th>1인배출량(일/kg)</th>\n",
       "      <th>1인배출량(년/kg)</th>\n",
       "      <th>1인매립량(일/kg)</th>\n",
       "      <th>1인매립량(년/kg)</th>\n",
       "    </tr>\n",
       "  </thead>\n",
       "  <tbody>\n",
       "    <tr>\n",
       "      <th>0</th>\n",
       "      <td>서울</td>\n",
       "      <td>918.95</td>\n",
       "      <td>2123.62</td>\n",
       "      <td>5604.35</td>\n",
       "      <td>8646.92</td>\n",
       "      <td>3156127.02</td>\n",
       "      <td>335415.53</td>\n",
       "      <td>605.24</td>\n",
       "      <td>9911088</td>\n",
       "      <td>0.87</td>\n",
       "      <td>318.44</td>\n",
       "      <td>0.09</td>\n",
       "      <td>33.84</td>\n",
       "    </tr>\n",
       "    <tr>\n",
       "      <th>1</th>\n",
       "      <td>인천</td>\n",
       "      <td>313.61</td>\n",
       "      <td>567.51</td>\n",
       "      <td>1032.21</td>\n",
       "      <td>1913.34</td>\n",
       "      <td>698367.88</td>\n",
       "      <td>114468.87</td>\n",
       "      <td>1063.99</td>\n",
       "      <td>3010476</td>\n",
       "      <td>0.64</td>\n",
       "      <td>231.98</td>\n",
       "      <td>0.10</td>\n",
       "      <td>38.02</td>\n",
       "    </tr>\n",
       "    <tr>\n",
       "      <th>2</th>\n",
       "      <td>경기</td>\n",
       "      <td>904.51</td>\n",
       "      <td>3697.33</td>\n",
       "      <td>5404.80</td>\n",
       "      <td>10006.64</td>\n",
       "      <td>3652422.38</td>\n",
       "      <td>330147.37</td>\n",
       "      <td>10195.27</td>\n",
       "      <td>13774748</td>\n",
       "      <td>0.73</td>\n",
       "      <td>265.15</td>\n",
       "      <td>0.07</td>\n",
       "      <td>23.97</td>\n",
       "    </tr>\n",
       "  </tbody>\n",
       "</table>\n",
       "</div>"
      ],
      "text/plain": [
       "   도시      매립       소각      재활용        총계        1년평균       1년매립        면적  \\\n",
       "0  서울  918.95  2123.62  5604.35   8646.92  3156127.02  335415.53    605.24   \n",
       "1  인천  313.61   567.51  1032.21   1913.34   698367.88  114468.87   1063.99   \n",
       "2  경기  904.51  3697.33  5404.80  10006.64  3652422.38  330147.37  10195.27   \n",
       "\n",
       "         인구  1인배출량(일/kg)  1인배출량(년/kg)  1인매립량(일/kg)  1인매립량(년/kg)  \n",
       "0   9911088         0.87       318.44         0.09        33.84  \n",
       "1   3010476         0.64       231.98         0.10        38.02  \n",
       "2  13774748         0.73       265.15         0.07        23.97  "
      ]
     },
     "execution_count": 209,
     "metadata": {},
     "output_type": "execute_result"
    }
   ],
   "source": [
    "df_mp"
   ]
  },
  {
   "cell_type": "markdown",
   "metadata": {},
   "source": [
    "#### 8. 수도권 생활 폐기물 매립량 구하기"
   ]
  },
  {
   "cell_type": "code",
   "execution_count": 211,
   "metadata": {},
   "outputs": [
    {
     "data": {
      "text/plain": [
       "78.0"
      ]
     },
     "execution_count": 211,
     "metadata": {},
     "output_type": "execute_result"
    }
   ],
   "source": [
    "# 1년 수도권 생활폐기물 매립량 계산 (만톤)\n",
    "df_life = round(df_mp['1년매립'].sum() / 10000, 2) \n",
    "df_life"
   ]
  },
  {
   "cell_type": "code",
   "execution_count": 322,
   "metadata": {},
   "outputs": [],
   "source": [
    "# 인천 1년 생활폐기물 매립량 추출\n",
    "df_inlife = round(df_mp.loc[1]['1년매립'] / 10000, 2)"
   ]
  },
  {
   "cell_type": "code",
   "execution_count": 323,
   "metadata": {},
   "outputs": [],
   "source": [
    "df_life2 = df_life - df_inlife"
   ]
  },
  {
   "cell_type": "code",
   "execution_count": 324,
   "metadata": {},
   "outputs": [
    {
     "data": {
      "text/plain": [
       "66.55"
      ]
     },
     "execution_count": 324,
     "metadata": {},
     "output_type": "execute_result"
    }
   ],
   "source": [
    "# 서울과 경기도 1년 평균 매립 배출량\n",
    "df_life2"
   ]
  },
  {
   "cell_type": "code",
   "execution_count": null,
   "metadata": {},
   "outputs": [],
   "source": []
  },
  {
   "cell_type": "markdown",
   "metadata": {},
   "source": [
    "# 크롤링해서 웹페이지 매립지 정보 table 가져오기 "
   ]
  },
  {
   "cell_type": "code",
   "execution_count": 153,
   "metadata": {},
   "outputs": [],
   "source": [
    "# 크롤링 작업을 위한 라이브러리 임포트\n",
    "from bs4 import BeautifulSoup\n",
    "from selenium import webdriver\n",
    "from html_table_parser import parser_functions\n",
    "import requests \n",
    "\n",
    "# # 코드 진행 지연을 위한 time 임포트\n",
    "# import time\n",
    "\n",
    "# # 2022년 이후 selenium 업데이트로 인한 xpath 추적시 임포트\n",
    "# from selenium.webdriver.common.by import By\n",
    "\n",
    "# import codecs"
   ]
  },
  {
   "cell_type": "code",
   "execution_count": 164,
   "metadata": {},
   "outputs": [],
   "source": [
    "url = \"https://www.slc.or.kr/slc/mb/sl/landfillStat.do?tabNo=0&#/eyJwYWdlIjoxLCJ3ZWJQYWdlTm8iOiIyMDQiLCJ0YWJObyI6MH0=\"\n",
    "response = requests.get(url).text.encode('utf-8')\n",
    "soup = BeautifulSoup(response, 'html.parser') \n",
    "\n",
    "data = soup.find(\"table\", {'class' : 'table_style4'})"
   ]
  },
  {
   "cell_type": "code",
   "execution_count": 165,
   "metadata": {},
   "outputs": [
    {
     "data": {
      "text/plain": [
       "<table class=\"table_style4\" summary=\"매립지 규모를 제1매립장, 제2매립장, 제3매립장, 제4매립장 기타 순으로 알려주고 있습니다.\">\n",
       "<caption>매립지 규모</caption>\n",
       "<colgroup>\n",
       "<col width=\"20%\"/>\n",
       "<col width=\"20%\"/>\n",
       "<col width=\"20%\"/>\n",
       "<col width=\"20%\"/>\n",
       "<col width=\"20%\"/>\n",
       "</colgroup>\n",
       "<thead>\n",
       "<tr>\n",
       "<th scope=\"col\">구 분</th>\n",
       "<th scope=\"col\">부지면적(만 m<sup>2</sup>)</th>\n",
       "<th scope=\"col\">매립면적(만m<sup>2</sup>)</th>\n",
       "<th scope=\"col\">매립용량(만톤)</th>\n",
       "<th class=\"nobr\" scope=\"col\">기타</th>\n",
       "</tr>\n",
       "</thead>\n",
       "<tbody>\n",
       "<tr>\n",
       "<td>제1매립장</td>\n",
       "<td>409</td>\n",
       "<td>251</td>\n",
       "<td>6,425</td>\n",
       "<td class=\"nobr\">야생화단지</td>\n",
       "</tr>\n",
       "<tr>\n",
       "<td>제2매립장</td>\n",
       "<td>378</td>\n",
       "<td>262</td>\n",
       "<td>8,018</td>\n",
       "<td class=\"nobr\"></td>\n",
       "</tr>\n",
       "<tr>\n",
       "<td>제3매립장(1단계)</td>\n",
       "<td>103</td>\n",
       "<td>83</td>\n",
       "<td>1,819</td>\n",
       "<td class=\"nobr\"></td>\n",
       "</tr>\n",
       "<tr>\n",
       "<td>제4매립장 등</td>\n",
       "<td>593</td>\n",
       "<td></td>\n",
       "<td>6,538</td>\n",
       "<td class=\"nobr\">제3 매립장 잔여부지 포함</td>\n",
       "</tr>\n",
       "<tr>\n",
       "<td>기 타(시설단지)</td>\n",
       "<td>117</td>\n",
       "<td>-</td>\n",
       "<td>-</td>\n",
       "<td class=\"nobr\">제2공구등</td>\n",
       "</tr>\n",
       "<tr>\n",
       "<td>총 계</td>\n",
       "<td>1,600</td>\n",
       "<td></td>\n",
       "<td>22,800</td>\n",
       "<td class=\"nobr\"></td>\n",
       "</tr>\n",
       "</tbody>\n",
       "</table>"
      ]
     },
     "execution_count": 165,
     "metadata": {},
     "output_type": "execute_result"
    }
   ],
   "source": [
    "data"
   ]
  },
  {
   "cell_type": "code",
   "execution_count": 168,
   "metadata": {},
   "outputs": [
    {
     "data": {
      "text/plain": [
       "['구 분', '부지면적(만 m2)', '매립면적(만m2)', '매립용량(만톤)', '기타']"
      ]
     },
     "execution_count": 168,
     "metadata": {},
     "output_type": "execute_result"
    }
   ],
   "source": [
    "# 컬럼헤더 분리 \n",
    "thead = data.find_all('th')\n",
    "\n",
    "thead_list = []\n",
    "\n",
    "tlen = len(thead) \n",
    "for i in range(0, tlen):\n",
    "    thead = data.find_all('th')[i].text \n",
    "    thead_list.append(thead)\n",
    "thead_list"
   ]
  },
  {
   "cell_type": "code",
   "execution_count": 169,
   "metadata": {},
   "outputs": [
    {
     "data": {
      "text/plain": [
       "<tbody>\n",
       "<tr>\n",
       "<td>제1매립장</td>\n",
       "<td>409</td>\n",
       "<td>251</td>\n",
       "<td>6,425</td>\n",
       "<td class=\"nobr\">야생화단지</td>\n",
       "</tr>\n",
       "<tr>\n",
       "<td>제2매립장</td>\n",
       "<td>378</td>\n",
       "<td>262</td>\n",
       "<td>8,018</td>\n",
       "<td class=\"nobr\"></td>\n",
       "</tr>\n",
       "<tr>\n",
       "<td>제3매립장(1단계)</td>\n",
       "<td>103</td>\n",
       "<td>83</td>\n",
       "<td>1,819</td>\n",
       "<td class=\"nobr\"></td>\n",
       "</tr>\n",
       "<tr>\n",
       "<td>제4매립장 등</td>\n",
       "<td>593</td>\n",
       "<td></td>\n",
       "<td>6,538</td>\n",
       "<td class=\"nobr\">제3 매립장 잔여부지 포함</td>\n",
       "</tr>\n",
       "<tr>\n",
       "<td>기 타(시설단지)</td>\n",
       "<td>117</td>\n",
       "<td>-</td>\n",
       "<td>-</td>\n",
       "<td class=\"nobr\">제2공구등</td>\n",
       "</tr>\n",
       "<tr>\n",
       "<td>총 계</td>\n",
       "<td>1,600</td>\n",
       "<td></td>\n",
       "<td>22,800</td>\n",
       "<td class=\"nobr\"></td>\n",
       "</tr>\n",
       "</tbody>"
      ]
     },
     "execution_count": 169,
     "metadata": {},
     "output_type": "execute_result"
    }
   ],
   "source": [
    "tbody = data.find('tbody')\n",
    "tbody"
   ]
  },
  {
   "cell_type": "code",
   "execution_count": 170,
   "metadata": {},
   "outputs": [
    {
     "data": {
      "text/plain": [
       "[<tr>\n",
       " <td>제1매립장</td>\n",
       " <td>409</td>\n",
       " <td>251</td>\n",
       " <td>6,425</td>\n",
       " <td class=\"nobr\">야생화단지</td>\n",
       " </tr>,\n",
       " <tr>\n",
       " <td>제2매립장</td>\n",
       " <td>378</td>\n",
       " <td>262</td>\n",
       " <td>8,018</td>\n",
       " <td class=\"nobr\"></td>\n",
       " </tr>,\n",
       " <tr>\n",
       " <td>제3매립장(1단계)</td>\n",
       " <td>103</td>\n",
       " <td>83</td>\n",
       " <td>1,819</td>\n",
       " <td class=\"nobr\"></td>\n",
       " </tr>,\n",
       " <tr>\n",
       " <td>제4매립장 등</td>\n",
       " <td>593</td>\n",
       " <td></td>\n",
       " <td>6,538</td>\n",
       " <td class=\"nobr\">제3 매립장 잔여부지 포함</td>\n",
       " </tr>,\n",
       " <tr>\n",
       " <td>기 타(시설단지)</td>\n",
       " <td>117</td>\n",
       " <td>-</td>\n",
       " <td>-</td>\n",
       " <td class=\"nobr\">제2공구등</td>\n",
       " </tr>,\n",
       " <tr>\n",
       " <td>총 계</td>\n",
       " <td>1,600</td>\n",
       " <td></td>\n",
       " <td>22,800</td>\n",
       " <td class=\"nobr\"></td>\n",
       " </tr>]"
      ]
     },
     "execution_count": 170,
     "metadata": {},
     "output_type": "execute_result"
    }
   ],
   "source": [
    "trData = tbody.find_all(\"tr\") \n",
    "trData "
   ]
  },
  {
   "cell_type": "code",
   "execution_count": 171,
   "metadata": {},
   "outputs": [
    {
     "data": {
      "text/plain": [
       "[<td>제3매립장(1단계)</td>,\n",
       " <td>103</td>,\n",
       " <td>83</td>,\n",
       " <td>1,819</td>,\n",
       " <td class=\"nobr\"></td>]"
      ]
     },
     "execution_count": 171,
     "metadata": {},
     "output_type": "execute_result"
    }
   ],
   "source": [
    "tdData = trData[2].find_all('td')\n",
    "tdData"
   ]
  },
  {
   "cell_type": "code",
   "execution_count": 173,
   "metadata": {},
   "outputs": [
    {
     "data": {
      "text/plain": [
       "'제3매립장(1단계)'"
      ]
     },
     "execution_count": 173,
     "metadata": {},
     "output_type": "execute_result"
    }
   ],
   "source": [
    "tdData[0].text"
   ]
  },
  {
   "cell_type": "code",
   "execution_count": 175,
   "metadata": {},
   "outputs": [
    {
     "data": {
      "text/plain": [
       "[['제1매립장', '409', '251', '6,425', '야생화단지'],\n",
       " ['제2매립장', '378', '262', '8,018', ''],\n",
       " ['제3매립장(1단계)', '103', '83', '1,819', ''],\n",
       " ['제4매립장 등', '593', '', '6,538', '제3 매립장 잔여부지 포함'],\n",
       " ['기 타(시설단지)', '117', '-', '-', '제2공구등'],\n",
       " ['총 계', '1,600', '', '22,800', '']]"
      ]
     },
     "execution_count": 175,
     "metadata": {},
     "output_type": "execute_result"
    }
   ],
   "source": [
    "rowlist = []\n",
    "columnslist = [] \n",
    "\n",
    "trlen = len(trData) \n",
    "for d in range(0, trlen): \n",
    "    tdData = trData[d].find_all('td')\n",
    "    \n",
    "    tdlen = len(tdData) \n",
    "    for e in range(0, tdlen): \n",
    "        element = tdData[e].text \n",
    "        columnslist.append(element) \n",
    "\n",
    "    rowlist.append(columnslist) \n",
    "    columnslist = [] \n",
    "rowlist "
   ]
  },
  {
   "cell_type": "code",
   "execution_count": 244,
   "metadata": {},
   "outputs": [
    {
     "data": {
      "text/html": [
       "<div>\n",
       "<style scoped>\n",
       "    .dataframe tbody tr th:only-of-type {\n",
       "        vertical-align: middle;\n",
       "    }\n",
       "\n",
       "    .dataframe tbody tr th {\n",
       "        vertical-align: top;\n",
       "    }\n",
       "\n",
       "    .dataframe thead th {\n",
       "        text-align: right;\n",
       "    }\n",
       "</style>\n",
       "<table border=\"1\" class=\"dataframe\">\n",
       "  <thead>\n",
       "    <tr style=\"text-align: right;\">\n",
       "      <th></th>\n",
       "      <th>구 분</th>\n",
       "      <th>부지면적(만 m2)</th>\n",
       "      <th>매립면적(만m2)</th>\n",
       "      <th>매립용량(만톤)</th>\n",
       "      <th>기타</th>\n",
       "    </tr>\n",
       "  </thead>\n",
       "  <tbody>\n",
       "    <tr>\n",
       "      <th>0</th>\n",
       "      <td>제1매립장</td>\n",
       "      <td>409</td>\n",
       "      <td>251</td>\n",
       "      <td>6,425</td>\n",
       "      <td>야생화단지</td>\n",
       "    </tr>\n",
       "    <tr>\n",
       "      <th>1</th>\n",
       "      <td>제2매립장</td>\n",
       "      <td>378</td>\n",
       "      <td>262</td>\n",
       "      <td>8,018</td>\n",
       "      <td></td>\n",
       "    </tr>\n",
       "    <tr>\n",
       "      <th>2</th>\n",
       "      <td>제3매립장(1단계)</td>\n",
       "      <td>103</td>\n",
       "      <td>83</td>\n",
       "      <td>1,819</td>\n",
       "      <td></td>\n",
       "    </tr>\n",
       "    <tr>\n",
       "      <th>3</th>\n",
       "      <td>제4매립장 등</td>\n",
       "      <td>593</td>\n",
       "      <td></td>\n",
       "      <td>6,538</td>\n",
       "      <td>제3 매립장 잔여부지 포함</td>\n",
       "    </tr>\n",
       "    <tr>\n",
       "      <th>4</th>\n",
       "      <td>기 타(시설단지)</td>\n",
       "      <td>117</td>\n",
       "      <td>-</td>\n",
       "      <td>-</td>\n",
       "      <td>제2공구등</td>\n",
       "    </tr>\n",
       "    <tr>\n",
       "      <th>5</th>\n",
       "      <td>총 계</td>\n",
       "      <td>1,600</td>\n",
       "      <td></td>\n",
       "      <td>22,800</td>\n",
       "      <td></td>\n",
       "    </tr>\n",
       "  </tbody>\n",
       "</table>\n",
       "</div>"
      ],
      "text/plain": [
       "          구 분 부지면적(만 m2) 매립면적(만m2) 매립용량(만톤)              기타\n",
       "0       제1매립장        409       251    6,425           야생화단지\n",
       "1       제2매립장        378       262    8,018                \n",
       "2  제3매립장(1단계)        103        83    1,819                \n",
       "3     제4매립장 등        593              6,538  제3 매립장 잔여부지 포함\n",
       "4   기 타(시설단지)        117         -        -           제2공구등\n",
       "5         총 계      1,600             22,800                "
      ]
     },
     "execution_count": 244,
     "metadata": {},
     "output_type": "execute_result"
    }
   ],
   "source": [
    "# 매립지 정보 - 제 3 매립장\n",
    "df_intake = pd.DataFrame(rowlist, columns = thead_list)\n",
    "df_intake"
   ]
  },
  {
   "cell_type": "code",
   "execution_count": 326,
   "metadata": {},
   "outputs": [
    {
     "data": {
      "text/html": [
       "<div>\n",
       "<style scoped>\n",
       "    .dataframe tbody tr th:only-of-type {\n",
       "        vertical-align: middle;\n",
       "    }\n",
       "\n",
       "    .dataframe tbody tr th {\n",
       "        vertical-align: top;\n",
       "    }\n",
       "\n",
       "    .dataframe thead th {\n",
       "        text-align: right;\n",
       "    }\n",
       "</style>\n",
       "<table border=\"1\" class=\"dataframe\">\n",
       "  <thead>\n",
       "    <tr style=\"text-align: right;\">\n",
       "      <th></th>\n",
       "      <th>구 분</th>\n",
       "      <th>부지면적(만 m2)</th>\n",
       "      <th>매립면적(만m2)</th>\n",
       "      <th>매립용량(만톤)</th>\n",
       "      <th>기타</th>\n",
       "    </tr>\n",
       "  </thead>\n",
       "  <tbody>\n",
       "    <tr>\n",
       "      <th>2</th>\n",
       "      <td>제3매립장(1단계)</td>\n",
       "      <td>103</td>\n",
       "      <td>83</td>\n",
       "      <td>1,819</td>\n",
       "      <td></td>\n",
       "    </tr>\n",
       "  </tbody>\n",
       "</table>\n",
       "</div>"
      ],
      "text/plain": [
       "          구 분 부지면적(만 m2) 매립면적(만m2) 매립용량(만톤) 기타\n",
       "2  제3매립장(1단계)        103        83    1,819   "
      ]
     },
     "execution_count": 326,
     "metadata": {},
     "output_type": "execute_result"
    }
   ],
   "source": [
    "# 제3매립장만 추출하기\n",
    "df_intake3 = df_intake.loc[[2], :]\n",
    "df_intake3"
   ]
  },
  {
   "cell_type": "code",
   "execution_count": 327,
   "metadata": {},
   "outputs": [
    {
     "data": {
      "text/plain": [
       "구 분           object\n",
       "부지면적(만 m2)    object\n",
       "매립면적(만m2)     object\n",
       "매립용량(만톤)      object\n",
       "기타            object\n",
       "dtype: object"
      ]
     },
     "execution_count": 327,
     "metadata": {},
     "output_type": "execute_result"
    }
   ],
   "source": [
    "df_intake3.dtypes"
   ]
  },
  {
   "cell_type": "code",
   "execution_count": 328,
   "metadata": {},
   "outputs": [],
   "source": [
    "# 문자열 타입 컬럼의 데이터 바꾸기 > 나중에 데이터 연산을 위함 > 컬럼을 빼준 이유는 나중에 숫자형 변경할 때 오류가 계속 나서 컬럼 빼줌\n",
    "df_intake3['매립용량(만톤)'].replace('1,819', '1819', inplace = True)"
   ]
  },
  {
   "cell_type": "code",
   "execution_count": 329,
   "metadata": {},
   "outputs": [
    {
     "data": {
      "text/plain": [
       "2    1819\n",
       "Name: 매립용량(만톤), dtype: object"
      ]
     },
     "execution_count": 329,
     "metadata": {},
     "output_type": "execute_result"
    }
   ],
   "source": [
    "df_intake3['매립용량(만톤)']"
   ]
  },
  {
   "cell_type": "code",
   "execution_count": 331,
   "metadata": {},
   "outputs": [
    {
     "data": {
      "text/html": [
       "<div>\n",
       "<style scoped>\n",
       "    .dataframe tbody tr th:only-of-type {\n",
       "        vertical-align: middle;\n",
       "    }\n",
       "\n",
       "    .dataframe tbody tr th {\n",
       "        vertical-align: top;\n",
       "    }\n",
       "\n",
       "    .dataframe thead th {\n",
       "        text-align: right;\n",
       "    }\n",
       "</style>\n",
       "<table border=\"1\" class=\"dataframe\">\n",
       "  <thead>\n",
       "    <tr style=\"text-align: right;\">\n",
       "      <th></th>\n",
       "      <th>구 분</th>\n",
       "      <th>부지면적(만 m2)</th>\n",
       "      <th>매립면적(만m2)</th>\n",
       "      <th>매립용량(만톤)</th>\n",
       "      <th>기타</th>\n",
       "    </tr>\n",
       "  </thead>\n",
       "  <tbody>\n",
       "    <tr>\n",
       "      <th>2</th>\n",
       "      <td>제3매립장(1단계)</td>\n",
       "      <td>103</td>\n",
       "      <td>83</td>\n",
       "      <td>1819</td>\n",
       "      <td></td>\n",
       "    </tr>\n",
       "  </tbody>\n",
       "</table>\n",
       "</div>"
      ],
      "text/plain": [
       "          구 분 부지면적(만 m2) 매립면적(만m2)  매립용량(만톤) 기타\n",
       "2  제3매립장(1단계)        103        83      1819   "
      ]
     },
     "execution_count": 331,
     "metadata": {},
     "output_type": "execute_result"
    }
   ],
   "source": [
    "df_intake3['매립용량(만톤)'] = pd.to_numeric(df_intake3['매립용량(만톤)'])\n",
    "df_intake3"
   ]
  },
  {
   "cell_type": "code",
   "execution_count": 332,
   "metadata": {},
   "outputs": [],
   "source": [
    "# 기타 컬럼 삭제 \n",
    "df_intake3.drop(df_intake3[['기타']], axis = 1, inplace = True)"
   ]
  },
  {
   "cell_type": "markdown",
   "metadata": {},
   "source": [
    "##### 제3매립지 파생변수 생성"
   ]
  },
  {
   "cell_type": "code",
   "execution_count": 333,
   "metadata": {},
   "outputs": [
    {
     "data": {
      "text/html": [
       "<div>\n",
       "<style scoped>\n",
       "    .dataframe tbody tr th:only-of-type {\n",
       "        vertical-align: middle;\n",
       "    }\n",
       "\n",
       "    .dataframe tbody tr th {\n",
       "        vertical-align: top;\n",
       "    }\n",
       "\n",
       "    .dataframe thead th {\n",
       "        text-align: right;\n",
       "    }\n",
       "</style>\n",
       "<table border=\"1\" class=\"dataframe\">\n",
       "  <thead>\n",
       "    <tr style=\"text-align: right;\">\n",
       "      <th></th>\n",
       "      <th>구 분</th>\n",
       "      <th>부지면적(만 m2)</th>\n",
       "      <th>매립면적(만m2)</th>\n",
       "      <th>매립용량(만톤)</th>\n",
       "      <th>생활매립(만톤)_완료</th>\n",
       "    </tr>\n",
       "  </thead>\n",
       "  <tbody>\n",
       "    <tr>\n",
       "      <th>2</th>\n",
       "      <td>제3매립장(1단계)</td>\n",
       "      <td>103</td>\n",
       "      <td>83</td>\n",
       "      <td>1819</td>\n",
       "      <td>312.0</td>\n",
       "    </tr>\n",
       "  </tbody>\n",
       "</table>\n",
       "</div>"
      ],
      "text/plain": [
       "          구 분 부지면적(만 m2) 매립면적(만m2)  매립용량(만톤)  생활매립(만톤)_완료\n",
       "2  제3매립장(1단계)        103        83      1819        312.0"
      ]
     },
     "execution_count": 333,
     "metadata": {},
     "output_type": "execute_result"
    }
   ],
   "source": [
    "# 제3매립지에 이미 매립 완료된 생활폐기물 매립량 계산해서 컬럼 추가\n",
    "\n",
    "df_intake3['생활매립(만톤)_완료'] = df_life * 4  \n",
    "df_intake3"
   ]
  },
  {
   "cell_type": "code",
   "execution_count": null,
   "metadata": {},
   "outputs": [],
   "source": []
  },
  {
   "cell_type": "markdown",
   "metadata": {},
   "source": [
    "# 건설폐기물, 사업장폐기물, 생활폐기물 수도권 데이터 취합 "
   ]
  },
  {
   "cell_type": "code",
   "execution_count": 334,
   "metadata": {},
   "outputs": [
    {
     "data": {
      "text/html": [
       "<div>\n",
       "<style scoped>\n",
       "    .dataframe tbody tr th:only-of-type {\n",
       "        vertical-align: middle;\n",
       "    }\n",
       "\n",
       "    .dataframe tbody tr th {\n",
       "        vertical-align: top;\n",
       "    }\n",
       "\n",
       "    .dataframe thead th {\n",
       "        text-align: right;\n",
       "    }\n",
       "</style>\n",
       "<table border=\"1\" class=\"dataframe\">\n",
       "  <thead>\n",
       "    <tr style=\"text-align: right;\">\n",
       "      <th></th>\n",
       "      <th>도시</th>\n",
       "      <th>매립</th>\n",
       "      <th>소각</th>\n",
       "      <th>재활용</th>\n",
       "      <th>합계</th>\n",
       "      <th>1년평균</th>\n",
       "      <th>1년매립</th>\n",
       "      <th>면적</th>\n",
       "      <th>인구</th>\n",
       "      <th>1인배출량(일/kg)</th>\n",
       "      <th>1인배출량(년/kg)</th>\n",
       "      <th>1인매립량(일/kg)</th>\n",
       "      <th>1인매립량(년/kg)</th>\n",
       "    </tr>\n",
       "  </thead>\n",
       "  <tbody>\n",
       "    <tr>\n",
       "      <th>0</th>\n",
       "      <td>서울</td>\n",
       "      <td>2637.80</td>\n",
       "      <td>124.70</td>\n",
       "      <td>106511.60</td>\n",
       "      <td>109274.10</td>\n",
       "      <td>39885046.50</td>\n",
       "      <td>962797.00</td>\n",
       "      <td>605.24</td>\n",
       "      <td>9911088</td>\n",
       "      <td>11.03</td>\n",
       "      <td>4024.29</td>\n",
       "      <td>0.27</td>\n",
       "      <td>97.14</td>\n",
       "    </tr>\n",
       "    <tr>\n",
       "      <th>1</th>\n",
       "      <td>인천</td>\n",
       "      <td>379.17</td>\n",
       "      <td>234.17</td>\n",
       "      <td>43849.90</td>\n",
       "      <td>44463.23</td>\n",
       "      <td>16229080.17</td>\n",
       "      <td>138395.83</td>\n",
       "      <td>1063.99</td>\n",
       "      <td>3010476</td>\n",
       "      <td>14.77</td>\n",
       "      <td>5390.87</td>\n",
       "      <td>0.13</td>\n",
       "      <td>45.97</td>\n",
       "    </tr>\n",
       "    <tr>\n",
       "      <th>2</th>\n",
       "      <td>경기</td>\n",
       "      <td>1497.30</td>\n",
       "      <td>612.57</td>\n",
       "      <td>159461.03</td>\n",
       "      <td>161570.90</td>\n",
       "      <td>58973378.50</td>\n",
       "      <td>546514.50</td>\n",
       "      <td>10195.27</td>\n",
       "      <td>13774748</td>\n",
       "      <td>11.73</td>\n",
       "      <td>4281.27</td>\n",
       "      <td>0.11</td>\n",
       "      <td>39.68</td>\n",
       "    </tr>\n",
       "  </tbody>\n",
       "</table>\n",
       "</div>"
      ],
      "text/plain": [
       "   도시       매립      소각        재활용         합계         1년평균       1년매립  \\\n",
       "0  서울  2637.80  124.70  106511.60  109274.10  39885046.50  962797.00   \n",
       "1  인천   379.17  234.17   43849.90   44463.23  16229080.17  138395.83   \n",
       "2  경기  1497.30  612.57  159461.03  161570.90  58973378.50  546514.50   \n",
       "\n",
       "         면적        인구  1인배출량(일/kg)  1인배출량(년/kg)  1인매립량(일/kg)  1인매립량(년/kg)  \n",
       "0    605.24   9911088        11.03      4024.29         0.27        97.14  \n",
       "1   1063.99   3010476        14.77      5390.87         0.13        45.97  \n",
       "2  10195.27  13774748        11.73      4281.27         0.11        39.68  "
      ]
     },
     "execution_count": 334,
     "metadata": {},
     "output_type": "execute_result"
    }
   ],
   "source": [
    "# 건설배출량 데이터 불러오기 (정지원님)\n",
    "df_cons = pd.read_excel('./건설폐기물_완성.xlsx')\n",
    "df_cons"
   ]
  },
  {
   "cell_type": "code",
   "execution_count": 335,
   "metadata": {},
   "outputs": [],
   "source": [
    "# 건설폐기물 매립량만 가져오기 \n",
    "df_cons = df_cons[['도시','1년매립']]"
   ]
  },
  {
   "cell_type": "code",
   "execution_count": 336,
   "metadata": {},
   "outputs": [
    {
     "data": {
      "text/html": [
       "<div>\n",
       "<style scoped>\n",
       "    .dataframe tbody tr th:only-of-type {\n",
       "        vertical-align: middle;\n",
       "    }\n",
       "\n",
       "    .dataframe tbody tr th {\n",
       "        vertical-align: top;\n",
       "    }\n",
       "\n",
       "    .dataframe thead th {\n",
       "        text-align: right;\n",
       "    }\n",
       "</style>\n",
       "<table border=\"1\" class=\"dataframe\">\n",
       "  <thead>\n",
       "    <tr style=\"text-align: right;\">\n",
       "      <th></th>\n",
       "      <th>도시</th>\n",
       "      <th>1년매립</th>\n",
       "    </tr>\n",
       "  </thead>\n",
       "  <tbody>\n",
       "    <tr>\n",
       "      <th>0</th>\n",
       "      <td>서울</td>\n",
       "      <td>962797.00</td>\n",
       "    </tr>\n",
       "    <tr>\n",
       "      <th>1</th>\n",
       "      <td>인천</td>\n",
       "      <td>138395.83</td>\n",
       "    </tr>\n",
       "    <tr>\n",
       "      <th>2</th>\n",
       "      <td>경기</td>\n",
       "      <td>546514.50</td>\n",
       "    </tr>\n",
       "  </tbody>\n",
       "</table>\n",
       "</div>"
      ],
      "text/plain": [
       "   도시       1년매립\n",
       "0  서울  962797.00\n",
       "1  인천  138395.83\n",
       "2  경기  546514.50"
      ]
     },
     "execution_count": 336,
     "metadata": {},
     "output_type": "execute_result"
    }
   ],
   "source": [
    "df_cons"
   ]
  },
  {
   "cell_type": "code",
   "execution_count": 337,
   "metadata": {},
   "outputs": [
    {
     "data": {
      "text/plain": [
       "164.77"
      ]
     },
     "execution_count": 337,
     "metadata": {},
     "output_type": "execute_result"
    }
   ],
   "source": [
    "# 1년 수도권 건설폐기물 매립량 계산 (만톤)\n",
    "df_const = round(df_cons['1년매립'].sum() / 10000, 2) \n",
    "df_const"
   ]
  },
  {
   "cell_type": "code",
   "execution_count": 338,
   "metadata": {},
   "outputs": [
    {
     "data": {
      "text/html": [
       "<div>\n",
       "<style scoped>\n",
       "    .dataframe tbody tr th:only-of-type {\n",
       "        vertical-align: middle;\n",
       "    }\n",
       "\n",
       "    .dataframe tbody tr th {\n",
       "        vertical-align: top;\n",
       "    }\n",
       "\n",
       "    .dataframe thead th {\n",
       "        text-align: right;\n",
       "    }\n",
       "</style>\n",
       "<table border=\"1\" class=\"dataframe\">\n",
       "  <thead>\n",
       "    <tr style=\"text-align: right;\">\n",
       "      <th></th>\n",
       "      <th>구 분</th>\n",
       "      <th>부지면적(만 m2)</th>\n",
       "      <th>매립면적(만m2)</th>\n",
       "      <th>매립용량(만톤)</th>\n",
       "      <th>생활매립(만톤)_완료</th>\n",
       "      <th>건설매립(만톤)_완료</th>\n",
       "    </tr>\n",
       "  </thead>\n",
       "  <tbody>\n",
       "    <tr>\n",
       "      <th>2</th>\n",
       "      <td>제3매립장(1단계)</td>\n",
       "      <td>103</td>\n",
       "      <td>83</td>\n",
       "      <td>1819</td>\n",
       "      <td>312.0</td>\n",
       "      <td>659.08</td>\n",
       "    </tr>\n",
       "  </tbody>\n",
       "</table>\n",
       "</div>"
      ],
      "text/plain": [
       "          구 분 부지면적(만 m2) 매립면적(만m2)  매립용량(만톤)  생활매립(만톤)_완료  건설매립(만톤)_완료\n",
       "2  제3매립장(1단계)        103        83      1819        312.0       659.08"
      ]
     },
     "execution_count": 338,
     "metadata": {},
     "output_type": "execute_result"
    }
   ],
   "source": [
    "# 건설폐기물 지난 4년 매립지에 매립된양을 계산하고 컬럼 추가 (4년)\n",
    "df_intake3['건설매립(만톤)_완료'] = df_const * 4\n",
    "df_intake3\n"
   ]
  },
  {
   "cell_type": "code",
   "execution_count": null,
   "metadata": {},
   "outputs": [],
   "source": []
  },
  {
   "cell_type": "code",
   "execution_count": 339,
   "metadata": {},
   "outputs": [
    {
     "data": {
      "text/html": [
       "<div>\n",
       "<style scoped>\n",
       "    .dataframe tbody tr th:only-of-type {\n",
       "        vertical-align: middle;\n",
       "    }\n",
       "\n",
       "    .dataframe tbody tr th {\n",
       "        vertical-align: top;\n",
       "    }\n",
       "\n",
       "    .dataframe thead th {\n",
       "        text-align: right;\n",
       "    }\n",
       "</style>\n",
       "<table border=\"1\" class=\"dataframe\">\n",
       "  <thead>\n",
       "    <tr style=\"text-align: right;\">\n",
       "      <th></th>\n",
       "      <th>Unnamed: 0</th>\n",
       "      <th>도시</th>\n",
       "      <th>매립</th>\n",
       "      <th>소각</th>\n",
       "      <th>재활용</th>\n",
       "      <th>총계</th>\n",
       "      <th>1년평균</th>\n",
       "      <th>1년매립</th>\n",
       "    </tr>\n",
       "  </thead>\n",
       "  <tbody>\n",
       "    <tr>\n",
       "      <th>0</th>\n",
       "      <td>0</td>\n",
       "      <td>서울</td>\n",
       "      <td>120.974612</td>\n",
       "      <td>132.771598</td>\n",
       "      <td>944.401096</td>\n",
       "      <td>1198.147306</td>\n",
       "      <td>4.373238e+05</td>\n",
       "      <td>44155.733333</td>\n",
       "    </tr>\n",
       "    <tr>\n",
       "      <th>1</th>\n",
       "      <td>0</td>\n",
       "      <td>인천</td>\n",
       "      <td>1761.822100</td>\n",
       "      <td>1488.062740</td>\n",
       "      <td>13739.144110</td>\n",
       "      <td>16989.028950</td>\n",
       "      <td>6.200996e+06</td>\n",
       "      <td>643065.066667</td>\n",
       "    </tr>\n",
       "    <tr>\n",
       "      <th>2</th>\n",
       "      <td>0</td>\n",
       "      <td>경기</td>\n",
       "      <td>1023.929315</td>\n",
       "      <td>1029.071416</td>\n",
       "      <td>9517.692877</td>\n",
       "      <td>11570.693607</td>\n",
       "      <td>4.223303e+06</td>\n",
       "      <td>373734.200000</td>\n",
       "    </tr>\n",
       "  </tbody>\n",
       "</table>\n",
       "</div>"
      ],
      "text/plain": [
       "   Unnamed: 0  도시           매립           소각           재활용            총계  \\\n",
       "0           0  서울   120.974612   132.771598    944.401096   1198.147306   \n",
       "1           0  인천  1761.822100  1488.062740  13739.144110  16989.028950   \n",
       "2           0  경기  1023.929315  1029.071416   9517.692877  11570.693607   \n",
       "\n",
       "           1년평균           1년매립  \n",
       "0  4.373238e+05   44155.733333  \n",
       "1  6.200996e+06  643065.066667  \n",
       "2  4.223303e+06  373734.200000  "
      ]
     },
     "execution_count": 339,
     "metadata": {},
     "output_type": "execute_result"
    }
   ],
   "source": [
    "# 사업장배출량 데이터 불러오기 (김가람님)\n",
    "df_biz = pd.read_csv('./사업장폐기물 완성.csv')\n",
    "df_biz"
   ]
  },
  {
   "cell_type": "code",
   "execution_count": 340,
   "metadata": {},
   "outputs": [],
   "source": [
    "# 사업장폐기물 매립량만 가져오기 \n",
    "df_biz = df_biz[['도시','1년매립']]"
   ]
  },
  {
   "cell_type": "code",
   "execution_count": 341,
   "metadata": {},
   "outputs": [
    {
     "data": {
      "text/plain": [
       "106.1"
      ]
     },
     "execution_count": 341,
     "metadata": {},
     "output_type": "execute_result"
    }
   ],
   "source": [
    "# 1년 수도권 사업장폐기물 매립량 계산 (만톤)\n",
    "df_bizy = round(df_biz['1년매립'].sum() / 10000, 2) \n",
    "df_bizy"
   ]
  },
  {
   "cell_type": "code",
   "execution_count": 342,
   "metadata": {},
   "outputs": [
    {
     "data": {
      "text/html": [
       "<div>\n",
       "<style scoped>\n",
       "    .dataframe tbody tr th:only-of-type {\n",
       "        vertical-align: middle;\n",
       "    }\n",
       "\n",
       "    .dataframe tbody tr th {\n",
       "        vertical-align: top;\n",
       "    }\n",
       "\n",
       "    .dataframe thead th {\n",
       "        text-align: right;\n",
       "    }\n",
       "</style>\n",
       "<table border=\"1\" class=\"dataframe\">\n",
       "  <thead>\n",
       "    <tr style=\"text-align: right;\">\n",
       "      <th></th>\n",
       "      <th>구 분</th>\n",
       "      <th>부지면적(만 m2)</th>\n",
       "      <th>매립면적(만m2)</th>\n",
       "      <th>매립용량(만톤)</th>\n",
       "      <th>생활매립(만톤)_완료</th>\n",
       "      <th>건설매립(만톤)_완료</th>\n",
       "      <th>사업장매립(만톤)_완료</th>\n",
       "    </tr>\n",
       "  </thead>\n",
       "  <tbody>\n",
       "    <tr>\n",
       "      <th>2</th>\n",
       "      <td>제3매립장(1단계)</td>\n",
       "      <td>103</td>\n",
       "      <td>83</td>\n",
       "      <td>1819</td>\n",
       "      <td>312.0</td>\n",
       "      <td>659.08</td>\n",
       "      <td>424.4</td>\n",
       "    </tr>\n",
       "  </tbody>\n",
       "</table>\n",
       "</div>"
      ],
      "text/plain": [
       "          구 분 부지면적(만 m2) 매립면적(만m2)  매립용량(만톤)  생활매립(만톤)_완료  건설매립(만톤)_완료  \\\n",
       "2  제3매립장(1단계)        103        83      1819        312.0       659.08   \n",
       "\n",
       "   사업장매립(만톤)_완료  \n",
       "2         424.4  "
      ]
     },
     "execution_count": 342,
     "metadata": {},
     "output_type": "execute_result"
    }
   ],
   "source": [
    "# 사업장폐기물 지난 4년 매립지에 매립된양을 계산하고 컬럼 추가\n",
    "df_intake3['사업장매립(만톤)_완료'] = df_bizy * 4\n",
    "df_intake3"
   ]
  },
  {
   "cell_type": "markdown",
   "metadata": {},
   "source": [
    "#### 인천 제 3매립지 관련 데이터 분석 "
   ]
  },
  {
   "cell_type": "code",
   "execution_count": 343,
   "metadata": {},
   "outputs": [
    {
     "data": {
      "text/html": [
       "<div>\n",
       "<style scoped>\n",
       "    .dataframe tbody tr th:only-of-type {\n",
       "        vertical-align: middle;\n",
       "    }\n",
       "\n",
       "    .dataframe tbody tr th {\n",
       "        vertical-align: top;\n",
       "    }\n",
       "\n",
       "    .dataframe thead th {\n",
       "        text-align: right;\n",
       "    }\n",
       "</style>\n",
       "<table border=\"1\" class=\"dataframe\">\n",
       "  <thead>\n",
       "    <tr style=\"text-align: right;\">\n",
       "      <th></th>\n",
       "      <th>구 분</th>\n",
       "      <th>부지면적(만 m2)</th>\n",
       "      <th>매립면적(만m2)</th>\n",
       "      <th>매립용량(만톤)</th>\n",
       "      <th>생활매립(만톤)_완료</th>\n",
       "      <th>건설매립(만톤)_완료</th>\n",
       "      <th>사업장매립(만톤)_완료</th>\n",
       "      <th>매립완료(만톤)</th>\n",
       "    </tr>\n",
       "  </thead>\n",
       "  <tbody>\n",
       "    <tr>\n",
       "      <th>2</th>\n",
       "      <td>제3매립장(1단계)</td>\n",
       "      <td>103</td>\n",
       "      <td>83</td>\n",
       "      <td>1819</td>\n",
       "      <td>312.0</td>\n",
       "      <td>659.08</td>\n",
       "      <td>424.4</td>\n",
       "      <td>1395.48</td>\n",
       "    </tr>\n",
       "  </tbody>\n",
       "</table>\n",
       "</div>"
      ],
      "text/plain": [
       "          구 분 부지면적(만 m2) 매립면적(만m2)  매립용량(만톤)  생활매립(만톤)_완료  건설매립(만톤)_완료  \\\n",
       "2  제3매립장(1단계)        103        83      1819        312.0       659.08   \n",
       "\n",
       "   사업장매립(만톤)_완료  매립완료(만톤)  \n",
       "2         424.4   1395.48  "
      ]
     },
     "execution_count": 343,
     "metadata": {},
     "output_type": "execute_result"
    }
   ],
   "source": [
    "# 인천 제 3매립지 매립 완료 계산 및 컬럼 추가(2018년 10월 이후 ~)\n",
    "# 실제 반입량은 조금 다를 수 있음\n",
    "df_intake3['매립완료(만톤)'] = df_intake3.apply(lambda x: (x['생활매립(만톤)_완료'] + x['건설매립(만톤)_완료'] + x['사업장매립(만톤)_완료']), axis = 'columns')\n",
    "df_intake3"
   ]
  },
  {
   "cell_type": "code",
   "execution_count": 344,
   "metadata": {},
   "outputs": [],
   "source": [
    "# 매립장 잔여 용량 계산 (남은기간 3년)\n",
    "df_intake3['매립가능(만톤)'] = df_intake3.apply(lambda x: (x['매립용량(만톤)'] - x['매립완료(만톤)']), axis = 'columns')"
   ]
  },
  {
   "cell_type": "markdown",
   "metadata": {},
   "source": [
    "#### 매립관련 데이터 분석 및 파생변수\n",
    "\n",
    "  - 2022년 이후 건설 폐기물은 매립 반입 안됨"
   ]
  },
  {
   "cell_type": "code",
   "execution_count": 345,
   "metadata": {},
   "outputs": [
    {
     "data": {
      "text/html": [
       "<div>\n",
       "<style scoped>\n",
       "    .dataframe tbody tr th:only-of-type {\n",
       "        vertical-align: middle;\n",
       "    }\n",
       "\n",
       "    .dataframe tbody tr th {\n",
       "        vertical-align: top;\n",
       "    }\n",
       "\n",
       "    .dataframe thead th {\n",
       "        text-align: right;\n",
       "    }\n",
       "</style>\n",
       "<table border=\"1\" class=\"dataframe\">\n",
       "  <thead>\n",
       "    <tr style=\"text-align: right;\">\n",
       "      <th></th>\n",
       "      <th>구 분</th>\n",
       "      <th>부지면적(만 m2)</th>\n",
       "      <th>매립면적(만m2)</th>\n",
       "      <th>매립용량(만톤)</th>\n",
       "      <th>생활매립(만톤)_완료</th>\n",
       "      <th>건설매립(만톤)_완료</th>\n",
       "      <th>사업장매립(만톤)_완료</th>\n",
       "      <th>매립완료(만톤)</th>\n",
       "      <th>매립가능(만톤)</th>\n",
       "      <th>사업장예정(만톤)</th>\n",
       "    </tr>\n",
       "  </thead>\n",
       "  <tbody>\n",
       "    <tr>\n",
       "      <th>2</th>\n",
       "      <td>제3매립장(1단계)</td>\n",
       "      <td>103</td>\n",
       "      <td>83</td>\n",
       "      <td>1819</td>\n",
       "      <td>312.0</td>\n",
       "      <td>659.08</td>\n",
       "      <td>424.4</td>\n",
       "      <td>1395.48</td>\n",
       "      <td>423.52</td>\n",
       "      <td>318.3</td>\n",
       "    </tr>\n",
       "  </tbody>\n",
       "</table>\n",
       "</div>"
      ],
      "text/plain": [
       "          구 분 부지면적(만 m2) 매립면적(만m2)  매립용량(만톤)  생활매립(만톤)_완료  건설매립(만톤)_완료  \\\n",
       "2  제3매립장(1단계)        103        83      1819        312.0       659.08   \n",
       "\n",
       "   사업장매립(만톤)_완료  매립완료(만톤)  매립가능(만톤)  사업장예정(만톤)  \n",
       "2         424.4   1395.48    423.52      318.3  "
      ]
     },
     "execution_count": 345,
     "metadata": {},
     "output_type": "execute_result"
    }
   ],
   "source": [
    "# 사업장 폐기물 매립예정량(향후 3년)\n",
    "df_intake3['사업장예정(만톤)'] = df_bizy * 3\n",
    "df_intake3"
   ]
  },
  {
   "cell_type": "code",
   "execution_count": 346,
   "metadata": {},
   "outputs": [],
   "source": [
    "# 생활폐기물 매립가능량\n",
    "df_intake3['생활가능(만톤)'] = df_intake3.apply(lambda x: (x['매립가능(만톤)'] - x['사업장예정(만톤)']), axis = 'columns')"
   ]
  },
  {
   "cell_type": "code",
   "execution_count": 347,
   "metadata": {},
   "outputs": [
    {
     "data": {
      "text/html": [
       "<div>\n",
       "<style scoped>\n",
       "    .dataframe tbody tr th:only-of-type {\n",
       "        vertical-align: middle;\n",
       "    }\n",
       "\n",
       "    .dataframe tbody tr th {\n",
       "        vertical-align: top;\n",
       "    }\n",
       "\n",
       "    .dataframe thead th {\n",
       "        text-align: right;\n",
       "    }\n",
       "</style>\n",
       "<table border=\"1\" class=\"dataframe\">\n",
       "  <thead>\n",
       "    <tr style=\"text-align: right;\">\n",
       "      <th></th>\n",
       "      <th>구 분</th>\n",
       "      <th>부지면적(만 m2)</th>\n",
       "      <th>매립면적(만m2)</th>\n",
       "      <th>매립용량(만톤)</th>\n",
       "      <th>생활매립(만톤)_완료</th>\n",
       "      <th>건설매립(만톤)_완료</th>\n",
       "      <th>사업장매립(만톤)_완료</th>\n",
       "      <th>매립완료(만톤)</th>\n",
       "      <th>매립가능(만톤)</th>\n",
       "      <th>사업장예정(만톤)</th>\n",
       "      <th>생활가능(만톤)</th>\n",
       "    </tr>\n",
       "  </thead>\n",
       "  <tbody>\n",
       "    <tr>\n",
       "      <th>2</th>\n",
       "      <td>제3매립장(1단계)</td>\n",
       "      <td>103</td>\n",
       "      <td>83</td>\n",
       "      <td>1819</td>\n",
       "      <td>312.0</td>\n",
       "      <td>659.08</td>\n",
       "      <td>424.4</td>\n",
       "      <td>1395.48</td>\n",
       "      <td>423.52</td>\n",
       "      <td>318.3</td>\n",
       "      <td>105.22</td>\n",
       "    </tr>\n",
       "  </tbody>\n",
       "</table>\n",
       "</div>"
      ],
      "text/plain": [
       "          구 분 부지면적(만 m2) 매립면적(만m2)  매립용량(만톤)  생활매립(만톤)_완료  건설매립(만톤)_완료  \\\n",
       "2  제3매립장(1단계)        103        83      1819        312.0       659.08   \n",
       "\n",
       "   사업장매립(만톤)_완료  매립완료(만톤)  매립가능(만톤)  사업장예정(만톤)  생활가능(만톤)  \n",
       "2         424.4   1395.48    423.52      318.3    105.22  "
      ]
     },
     "execution_count": 347,
     "metadata": {},
     "output_type": "execute_result"
    }
   ],
   "source": [
    "df_intake3"
   ]
  },
  {
   "cell_type": "code",
   "execution_count": 348,
   "metadata": {},
   "outputs": [
    {
     "data": {
      "text/html": [
       "<div>\n",
       "<style scoped>\n",
       "    .dataframe tbody tr th:only-of-type {\n",
       "        vertical-align: middle;\n",
       "    }\n",
       "\n",
       "    .dataframe tbody tr th {\n",
       "        vertical-align: top;\n",
       "    }\n",
       "\n",
       "    .dataframe thead th {\n",
       "        text-align: right;\n",
       "    }\n",
       "</style>\n",
       "<table border=\"1\" class=\"dataframe\">\n",
       "  <thead>\n",
       "    <tr style=\"text-align: right;\">\n",
       "      <th></th>\n",
       "      <th>구 분</th>\n",
       "      <th>매립용량(만톤)</th>\n",
       "      <th>매립완료(만톤)</th>\n",
       "      <th>사업장예정(만톤)</th>\n",
       "      <th>생활가능(만톤)</th>\n",
       "    </tr>\n",
       "  </thead>\n",
       "  <tbody>\n",
       "    <tr>\n",
       "      <th>2</th>\n",
       "      <td>제3매립장(1단계)</td>\n",
       "      <td>1819</td>\n",
       "      <td>1395.48</td>\n",
       "      <td>318.3</td>\n",
       "      <td>105.22</td>\n",
       "    </tr>\n",
       "  </tbody>\n",
       "</table>\n",
       "</div>"
      ],
      "text/plain": [
       "          구 분  매립용량(만톤)  매립완료(만톤)  사업장예정(만톤)  생활가능(만톤)\n",
       "2  제3매립장(1단계)      1819   1395.48      318.3    105.22"
      ]
     },
     "execution_count": 348,
     "metadata": {},
     "output_type": "execute_result"
    }
   ],
   "source": [
    "# 분석 컬럼 선택 \n",
    "df_final = df_intake3[['구 분','매립용량(만톤)','매립완료(만톤)','사업장예정(만톤)','생활가능(만톤)']]\n",
    "df_final"
   ]
  },
  {
   "cell_type": "code",
   "execution_count": 349,
   "metadata": {},
   "outputs": [
    {
     "name": "stderr",
     "output_type": "stream",
     "text": [
      "C:\\Users\\Playdata\\AppData\\Local\\Temp\\ipykernel_1004\\663116046.py:1: SettingWithCopyWarning: \n",
      "A value is trying to be set on a copy of a slice from a DataFrame.\n",
      "Try using .loc[row_indexer,col_indexer] = value instead\n",
      "\n",
      "See the caveats in the documentation: https://pandas.pydata.org/pandas-docs/stable/user_guide/indexing.html#returning-a-view-versus-a-copy\n",
      "  df_final['생활1년가능(만톤)'] = round(df_final['생활가능(만톤)'] / 3, 2)\n"
     ]
    }
   ],
   "source": [
    "df_final['생활1년가능(만톤)'] = round(df_final['생활가능(만톤)'] / 3, 2) "
   ]
  },
  {
   "cell_type": "code",
   "execution_count": 350,
   "metadata": {},
   "outputs": [
    {
     "name": "stderr",
     "output_type": "stream",
     "text": [
      "C:\\Users\\Playdata\\AppData\\Local\\Temp\\ipykernel_1004\\3152067835.py:1: SettingWithCopyWarning: \n",
      "A value is trying to be set on a copy of a slice from a DataFrame.\n",
      "Try using .loc[row_indexer,col_indexer] = value instead\n",
      "\n",
      "See the caveats in the documentation: https://pandas.pydata.org/pandas-docs/stable/user_guide/indexing.html#returning-a-view-versus-a-copy\n",
      "  df_final['생활1년평균(만톤)'] = df_life2\n"
     ]
    }
   ],
   "source": [
    "# 기존 매립하고 있던 평균 생활폐기물량\n",
    "df_final['생활1년평균(만톤)'] = df_life2"
   ]
  },
  {
   "cell_type": "code",
   "execution_count": 351,
   "metadata": {},
   "outputs": [
    {
     "name": "stderr",
     "output_type": "stream",
     "text": [
      "C:\\Users\\Playdata\\AppData\\Local\\Temp\\ipykernel_1004\\2402707560.py:1: SettingWithCopyWarning: \n",
      "A value is trying to be set on a copy of a slice from a DataFrame.\n",
      "Try using .loc[row_indexer,col_indexer] = value instead\n",
      "\n",
      "See the caveats in the documentation: https://pandas.pydata.org/pandas-docs/stable/user_guide/indexing.html#returning-a-view-versus-a-copy\n",
      "  df_final['생활감소량(만톤)'] = df_final.apply(lambda x: (x['생활1년평균(만톤)'] - x['생활1년가능(만톤)']), axis = 'columns')\n"
     ]
    }
   ],
   "source": [
    "# 1년 기준 생활폐기물을 얼마나 감소시켜야 할까? \n",
    "df_final['생활감소량(만톤)'] = df_final.apply(lambda x: (x['생활1년평균(만톤)'] - x['생활1년가능(만톤)']), axis = 'columns')"
   ]
  },
  {
   "cell_type": "code",
   "execution_count": 373,
   "metadata": {},
   "outputs": [
    {
     "name": "stderr",
     "output_type": "stream",
     "text": [
      "C:\\Users\\Playdata\\AppData\\Local\\Temp\\ipykernel_1004\\3523039575.py:1: SettingWithCopyWarning: \n",
      "A value is trying to be set on a copy of a slice from a DataFrame.\n",
      "Try using .loc[row_indexer,col_indexer] = value instead\n",
      "\n",
      "See the caveats in the documentation: https://pandas.pydata.org/pandas-docs/stable/user_guide/indexing.html#returning-a-view-versus-a-copy\n",
      "  df_final['서울경기인구(만명)'] = df_sk\n"
     ]
    }
   ],
   "source": [
    "df_final['서울경기인구(만명)'] = df_sk"
   ]
  },
  {
   "cell_type": "code",
   "execution_count": 379,
   "metadata": {},
   "outputs": [
    {
     "name": "stderr",
     "output_type": "stream",
     "text": [
      "C:\\Users\\Playdata\\AppData\\Local\\Temp\\ipykernel_1004\\3774374844.py:1: SettingWithCopyWarning: \n",
      "A value is trying to be set on a copy of a slice from a DataFrame.\n",
      "Try using .loc[row_indexer,col_indexer] = value instead\n",
      "\n",
      "See the caveats in the documentation: https://pandas.pydata.org/pandas-docs/stable/user_guide/indexing.html#returning-a-view-versus-a-copy\n",
      "  df_final['1인감소량(년)'] = round(df_final.apply(lambda x: (x['생활감소량(만톤)'] / x['서울경기인구(만명)']) * 1000, axis = 'columns'), 2)\n"
     ]
    }
   ],
   "source": [
    " df_final['1인감소량(년)'] = round(df_final.apply(lambda x: (x['생활감소량(만톤)'] / x['서울경기인구(만명)']) * 1000, axis = 'columns'), 2)"
   ]
  },
  {
   "cell_type": "code",
   "execution_count": 380,
   "metadata": {},
   "outputs": [
    {
     "data": {
      "text/html": [
       "<div>\n",
       "<style scoped>\n",
       "    .dataframe tbody tr th:only-of-type {\n",
       "        vertical-align: middle;\n",
       "    }\n",
       "\n",
       "    .dataframe tbody tr th {\n",
       "        vertical-align: top;\n",
       "    }\n",
       "\n",
       "    .dataframe thead th {\n",
       "        text-align: right;\n",
       "    }\n",
       "</style>\n",
       "<table border=\"1\" class=\"dataframe\">\n",
       "  <thead>\n",
       "    <tr style=\"text-align: right;\">\n",
       "      <th></th>\n",
       "      <th>구 분</th>\n",
       "      <th>매립용량(만톤)</th>\n",
       "      <th>매립완료(만톤)</th>\n",
       "      <th>사업장예정(만톤)</th>\n",
       "      <th>생활가능(만톤)</th>\n",
       "      <th>생활1년가능(만톤)</th>\n",
       "      <th>생활1년평균(만톤)</th>\n",
       "      <th>생활감소량(만톤)</th>\n",
       "      <th>서울경기인구(만명)</th>\n",
       "      <th>1인감소량(년)</th>\n",
       "    </tr>\n",
       "  </thead>\n",
       "  <tbody>\n",
       "    <tr>\n",
       "      <th>2</th>\n",
       "      <td>제3매립장(1단계)</td>\n",
       "      <td>1819</td>\n",
       "      <td>1395.48</td>\n",
       "      <td>318.3</td>\n",
       "      <td>105.22</td>\n",
       "      <td>35.07</td>\n",
       "      <td>66.55</td>\n",
       "      <td>31.48</td>\n",
       "      <td>2368.58</td>\n",
       "      <td>13.29</td>\n",
       "    </tr>\n",
       "  </tbody>\n",
       "</table>\n",
       "</div>"
      ],
      "text/plain": [
       "          구 분  매립용량(만톤)  매립완료(만톤)  사업장예정(만톤)  생활가능(만톤)  생활1년가능(만톤)  \\\n",
       "2  제3매립장(1단계)      1819   1395.48      318.3    105.22       35.07   \n",
       "\n",
       "   생활1년평균(만톤)  생활감소량(만톤)  서울경기인구(만명)  1인감소량(년)  \n",
       "2       66.55      31.48     2368.58     13.29  "
      ]
     },
     "execution_count": 380,
     "metadata": {},
     "output_type": "execute_result"
    }
   ],
   "source": [
    "# 서울, 경기도의 향후 가능한 매립량 \n",
    "# 1인 감소량 기준 = kg\n",
    "df_final"
   ]
  },
  {
   "cell_type": "code",
   "execution_count": 388,
   "metadata": {},
   "outputs": [],
   "source": [
    "import matplotlib \n",
    "import matplotlib.pyplot as plt "
   ]
  },
  {
   "cell_type": "code",
   "execution_count": 389,
   "metadata": {},
   "outputs": [],
   "source": [
    "# plot에서 한글 폰트 설정(안 하면 한글이 깨져서 나옴)\n",
    "font_name = matplotlib.font_manager.FontProperties(\n",
    "        fname='c:/windows/fonts/malgun.ttf').get_name()\n",
    "matplotlib.rc('font', family=font_name)\n",
    "# 한글폰트 지정 후 음수부호를 정확하게 표시하기 위해 추가할 코드\n",
    "matplotlib.rcParams['axes.unicode_minus']=False"
   ]
  },
  {
   "cell_type": "code",
   "execution_count": 393,
   "metadata": {},
   "outputs": [],
   "source": [
    "# 최종 데이터 선택 및 시각화 \n",
    "\n",
    "df_f = pd.DataFrame({'year':[2023, 2024, 2025],\n",
    "                             '1년매립가능(만톤)':[35.07, 70.04, 105.22],\n",
    "                             'SK1년매립량(만톤)':[66.55, 133.1, 199.65]})"
   ]
  },
  {
   "cell_type": "code",
   "execution_count": 396,
   "metadata": {},
   "outputs": [],
   "source": [
    "df_f.set_index('year', inplace = True)"
   ]
  },
  {
   "cell_type": "code",
   "execution_count": 397,
   "metadata": {},
   "outputs": [
    {
     "data": {
      "text/html": [
       "<div>\n",
       "<style scoped>\n",
       "    .dataframe tbody tr th:only-of-type {\n",
       "        vertical-align: middle;\n",
       "    }\n",
       "\n",
       "    .dataframe tbody tr th {\n",
       "        vertical-align: top;\n",
       "    }\n",
       "\n",
       "    .dataframe thead th {\n",
       "        text-align: right;\n",
       "    }\n",
       "</style>\n",
       "<table border=\"1\" class=\"dataframe\">\n",
       "  <thead>\n",
       "    <tr style=\"text-align: right;\">\n",
       "      <th></th>\n",
       "      <th>1년매립가능(만톤)</th>\n",
       "      <th>SK1년매립량(만톤)</th>\n",
       "    </tr>\n",
       "    <tr>\n",
       "      <th>year</th>\n",
       "      <th></th>\n",
       "      <th></th>\n",
       "    </tr>\n",
       "  </thead>\n",
       "  <tbody>\n",
       "    <tr>\n",
       "      <th>2023</th>\n",
       "      <td>35.07</td>\n",
       "      <td>66.55</td>\n",
       "    </tr>\n",
       "    <tr>\n",
       "      <th>2024</th>\n",
       "      <td>70.04</td>\n",
       "      <td>133.10</td>\n",
       "    </tr>\n",
       "    <tr>\n",
       "      <th>2025</th>\n",
       "      <td>105.22</td>\n",
       "      <td>199.65</td>\n",
       "    </tr>\n",
       "  </tbody>\n",
       "</table>\n",
       "</div>"
      ],
      "text/plain": [
       "      1년매립가능(만톤)  SK1년매립량(만톤)\n",
       "year                         \n",
       "2023       35.07        66.55\n",
       "2024       70.04       133.10\n",
       "2025      105.22       199.65"
      ]
     },
     "execution_count": 397,
     "metadata": {},
     "output_type": "execute_result"
    }
   ],
   "source": [
    "df_f"
   ]
  },
  {
   "cell_type": "code",
   "execution_count": 399,
   "metadata": {},
   "outputs": [
    {
     "data": {
      "image/png": "[encoded data removed]",
      "text/plain": [
       "<Figure size 432x288 with 1 Axes>"
      ]
     },
     "metadata": {
      "needs_background": "light"
     },
     "output_type": "display_data"
    }
   ],
   "source": [
    "df_f.plot.bar()\n",
    "plt.title(\"생활쓰레기 매립가능량\")\n",
    "plt.xlabel(\"연도\")\n",
    "plt.ylabel(\"매립량\")\n",
    "plt.show()"
   ]
  },
  {
   "cell_type": "code",
   "execution_count": null,
   "metadata": {},
   "outputs": [],
   "source": []
  },
  {
   "cell_type": "markdown",
   "metadata": {},
   "source": [
    "### 결론\n",
    "\n",
    "1. 아쉬움 \n",
    "\n",
    " - 도메인 분석과 오류 데이터 발견으로 데이터 비교 분석 및 수정 보완에 너무 많은 시간을 소비\n",
    " - 좀 더 다양한 파생변수(비용분석 등)를 통해 분석 하지 못한 점\n",
    " - 시각화를 좀 더 다양하게 해보면서 인사이트를 도출하고 싶었는데 그러지 못했음\n",
    " - 분석 내용에 대한 정리 및 보고서 작성을 하지 못함 \n",
    "\n",
    "2. 분석에 따른 의문점\n",
    "\n",
    " - 이 문제는 정말 현실적으로 닥쳐 올 문제인데, 도저히 개인이 해결 할 수 있는 문제가 아님\n",
    " - 서울과 경기도 각 지자체가 과연 해당 문제에 대한 직접적인 대안 마련을 하고 있는지 의문(특히, 서울)\n",
    "\n",
    "       - 이유: 매립지 대안 시설의 부지 마련이 경기도에 비해 훨씬 어려울 것으로 보임 \n",
    "\n",
    " - 그렇다면 과연 민간업체를 통해 맡기는 게 대안일까? \n",
    " \n",
    "       - Oh No. 쓰레기 거부사태 및 비용 증가 어떡할꺼야?\n",
    "       - 공공영역을 민간(소위 민영화)에게 맡겼을 때 비용증가와 서비스질의 감소는 역사가 보증함\n",
    " \n",
    " - 근본적인 질문: 개인의 생활쓰레기 말고 사업장 폐기물은 어떻게 대응 할 것인가? (매번 개인만 희생해..ㅠ)\n",
    "\n",
    "3. 대안 모색 검토\n",
    "\n",
    " - 서울과 경기도내 소각장, 재활용 시설 가능 부지(지역) 분석(입지, 비용) 및 제안 \n"
   ]
  },
  {
   "cell_type": "code",
   "execution_count": null,
   "metadata": {},
   "outputs": [],
   "source": []
  },
  {
   "cell_type": "code",
   "execution_count": null,
   "metadata": {},
   "outputs": [],
   "source": []
  },
  {
   "cell_type": "code",
   "execution_count": null,
   "metadata": {},
   "outputs": [],
   "source": []
  },
  {
   "cell_type": "code",
   "execution_count": null,
   "metadata": {},
   "outputs": [],
   "source": []
  }
 ],
 "metadata": {
  "kernelspec": {
   "display_name": "Python 3.9.12 ('base')",
   "language": "python",
   "name": "python3"
  },
  "language_info": {
   "codemirror_mode": {
    "name": "ipython",
    "version": 3
   },
   "file_extension": ".py",
   "mimetype": "text/x-python",
   "name": "python",
   "nbconvert_exporter": "python",
   "pygments_lexer": "ipython3",
   "version": "3.9.12"
  },
  "orig_nbformat": 4,
  "vscode": {
   "interpreter": {
    "hash": "ca71aff40853dd846130b67975d07637ec6294bee047a07657cfc9075e3162be"
   }
  }
 },
 "nbformat": 4,
 "nbformat_minor": 2
}
